{
 "cells": [
  {
   "cell_type": "markdown",
   "metadata": {},
   "source": [
    "<h5> Description of dataset and task"
   ]
  },
  {
   "cell_type": "markdown",
   "metadata": {},
   "source": [
    "The Entertainment Software Rating Board(ESRB) ratings provide information about the contents of a game so parents and consumers can make informed choices about which game are right for the family (https://www.esrb.org/#rating-categories)."
   ]
  },
  {
   "cell_type": "markdown",
   "metadata": {},
   "source": [
    "The *Video Games Rating by 'ESRB'* is a dataset composed of **1895** games with 34 of *ESRB Rating Content* along with its name and console exclusivity as features for each game. \n",
    "<p> This Notebook aims to create and experiment models capable of classifying games into their proper *ESRB Rating*. </p>\n"
   ]
  },
  {
   "cell_type": "markdown",
   "metadata": {},
   "source": [
    "*ESRB Rating Content* (32) refers to the following:\n",
    "- Alcohol Reference : Reference to and/or images of alcoholic beverages.\n",
    "- Animated Blood : Discolored and/or unrealistic depictions of blood.\n",
    "- Blood : Depictions of blood.\n",
    "- Blood and Gore : \tDepictions of blood or the mutilation of body parts.\n",
    "- Cartoon Violence : Violent actions involving cartoon-like situations and characters. May include violence where a character is unharmed after the action has been inflicted.\n",
    "- Crude Humor : Depictions or dialogue involving vulgar antics, including \"bathroom\" humor.\n",
    "- Drug Reference : \tReference to and/or images of illegal drugs.\n",
    "- Fantasy Violence : Violent actions of a fantasy nature, involving human or non-human characters in situations easily distinguishable from real life.\n",
    "- Intense Violence : Graphic and realistic-looking depictions of physical conflict. May involve extreme and/or realistic blood, gore, weapons, and depictions of human injury and death.\n",
    "- Language : Moderate use of profanity.\n",
    "- Lyrics : References to profanity, sexuality, violence, alcohol, or drug use in music.\n",
    "- Mature Humor : Depictions or dialogue involving \"adult\" humor, including sexual references.\n",
    "- Mild Blood : \tSome blood.\n",
    "- Mild Cartoon Violence : Some violent actions involving cartoon.\n",
    "- Mild Fantasy Violence : Some violent actions of a fantasy nature.\n",
    "- Mild Language : \tMild to moderate use of profanity.\n",
    "- Mild Lyrics : Mild References to profanity, sexuality, violence, alcohol, or drug use in music.\n",
    "- Mild Suggestive Themes : \tsome provocative references or materials\n",
    "- Mild Violence : \tSome scenes involving aggressive conflict.\n",
    "- No Descriptors : \tNo content descriptors\n",
    "- Nudity : \tGraphic or prolonged depictions of nudity.\n",
    "- Partial Nudity : Brief and/or mild depictions of nudity.\n",
    "- Sexual Content : Non-explicit depictions of sexual behavior, possibly including partial nudity.\n",
    "- Sexual Themes : \tReferences to sex or sexuality.\n",
    "- Simulated Gambling : Player can gamble without betting or wagering real cash or currency.\n",
    "- Strong Language : Explicit and/or frequent use of profanity.\n",
    "- Strong Sexual Content : \tExplicit and/or frequent depictions of sexual behavior, possibly including nudity.\n",
    "- Suggestive Themes : \tProvocative references or materials.\n",
    "- Use of Alcohol :\tThe consumption of alcoholic beverages.\n",
    "- Use of Drugs and Alcohol : The consumption of alcoholic and drugs beverages.\n",
    "- Violence : Scenes involving aggressive conflict. May contain bloodless dismemberment."
   ]
  },
  {
   "cell_type": "markdown",
   "metadata": {},
   "source": [
    "*ESRB Rating* refers to the following:\n",
    "- E : Everyone\n",
    "- ET : Everyone 10+\n",
    "- T : teen\n",
    "- M : Mature"
   ]
  },
  {
   "cell_type": "markdown",
   "metadata": {},
   "source": [
    "Import revelant libraries."
   ]
  },
  {
   "cell_type": "code",
   "execution_count": 1,
   "metadata": {
    "ExecuteTime": {
     "end_time": "2022-06-29T06:51:11.846091Z",
     "start_time": "2022-06-29T06:51:10.364674Z"
    }
   },
   "outputs": [],
   "source": [
    "import pandas as pd\n",
    "import numpy as np\n",
    "import matplotlib.pyplot as plt\n",
    "import torch.optim as optim\n",
    "import torch.nn as nn\n",
    "import torch\n",
    "\n",
    "from data_loader import DataLoader\n",
    "\n",
    "from sklearn import preprocessing\n",
    "from sklearn.model_selection import train_test_split\n",
    "from sklearn.metrics import accuracy_score\n",
    "from sklearn.metrics import precision_recall_fscore_support\n",
    "from sklearn.metrics import classification_report\n",
    "from sklearn.metrics import confusion_matrix, ConfusionMatrixDisplay\n",
    "from sklearn.model_selection import RandomizedSearchCV\n",
    "from sklearn.tree import DecisionTreeClassifier\n",
    "from sklearn.linear_model import SGDClassifier\n",
    "\n",
    "import optuna\n",
    "from optuna.trial import TrialState\n",
    "\n",
    "%matplotlib inline\n",
    "\n",
    "%load_ext autoreload\n",
    "%autoreload 2"
   ]
  },
  {
   "cell_type": "markdown",
   "metadata": {},
   "source": [
    "<h5>  Data Preprocessing"
   ]
  },
  {
   "cell_type": "code",
   "execution_count": 2,
   "metadata": {
    "ExecuteTime": {
     "end_time": "2022-06-29T06:51:11.876889Z",
     "start_time": "2022-06-29T06:51:11.848136Z"
    }
   },
   "outputs": [],
   "source": [
    "from jupyterthemes import jtplot\n",
    "jtplot.style()"
   ]
  },
  {
   "cell_type": "code",
   "execution_count": 3,
   "metadata": {
    "ExecuteTime": {
     "end_time": "2022-06-29T06:51:11.938438Z",
     "start_time": "2022-06-29T06:51:11.878379Z"
    },
    "scrolled": true
   },
   "outputs": [
    {
     "data": {
      "text/html": [
       "<div>\n",
       "<style scoped>\n",
       "    .dataframe tbody tr th:only-of-type {\n",
       "        vertical-align: middle;\n",
       "    }\n",
       "\n",
       "    .dataframe tbody tr th {\n",
       "        vertical-align: top;\n",
       "    }\n",
       "\n",
       "    .dataframe thead th {\n",
       "        text-align: right;\n",
       "    }\n",
       "</style>\n",
       "<table border=\"1\" class=\"dataframe\">\n",
       "  <thead>\n",
       "    <tr style=\"text-align: right;\">\n",
       "      <th></th>\n",
       "      <th>title</th>\n",
       "      <th>console</th>\n",
       "      <th>alcohol_reference</th>\n",
       "      <th>animated_blood</th>\n",
       "      <th>blood</th>\n",
       "      <th>blood_and_gore</th>\n",
       "      <th>cartoon_violence</th>\n",
       "      <th>crude_humor</th>\n",
       "      <th>drug_reference</th>\n",
       "      <th>fantasy_violence</th>\n",
       "      <th>...</th>\n",
       "      <th>sexual_content</th>\n",
       "      <th>sexual_themes</th>\n",
       "      <th>simulated_gambling</th>\n",
       "      <th>strong_janguage</th>\n",
       "      <th>strong_sexual_content</th>\n",
       "      <th>suggestive_themes</th>\n",
       "      <th>use_of_alcohol</th>\n",
       "      <th>use_of_drugs_and_alcohol</th>\n",
       "      <th>violence</th>\n",
       "      <th>esrb_rating</th>\n",
       "    </tr>\n",
       "  </thead>\n",
       "  <tbody>\n",
       "    <tr>\n",
       "      <th>0</th>\n",
       "      <td>Monster Jam Steel Titans 2</td>\n",
       "      <td>1</td>\n",
       "      <td>0</td>\n",
       "      <td>0</td>\n",
       "      <td>0</td>\n",
       "      <td>0</td>\n",
       "      <td>0</td>\n",
       "      <td>0</td>\n",
       "      <td>0</td>\n",
       "      <td>0</td>\n",
       "      <td>...</td>\n",
       "      <td>0</td>\n",
       "      <td>0</td>\n",
       "      <td>0</td>\n",
       "      <td>0</td>\n",
       "      <td>0</td>\n",
       "      <td>0</td>\n",
       "      <td>0</td>\n",
       "      <td>0</td>\n",
       "      <td>0</td>\n",
       "      <td>E</td>\n",
       "    </tr>\n",
       "    <tr>\n",
       "      <th>1</th>\n",
       "      <td>Subnautica: Below Zero</td>\n",
       "      <td>1</td>\n",
       "      <td>0</td>\n",
       "      <td>1</td>\n",
       "      <td>0</td>\n",
       "      <td>0</td>\n",
       "      <td>0</td>\n",
       "      <td>0</td>\n",
       "      <td>0</td>\n",
       "      <td>0</td>\n",
       "      <td>...</td>\n",
       "      <td>0</td>\n",
       "      <td>0</td>\n",
       "      <td>0</td>\n",
       "      <td>0</td>\n",
       "      <td>0</td>\n",
       "      <td>0</td>\n",
       "      <td>0</td>\n",
       "      <td>0</td>\n",
       "      <td>0</td>\n",
       "      <td>ET</td>\n",
       "    </tr>\n",
       "    <tr>\n",
       "      <th>2</th>\n",
       "      <td>NIER REPLICANT VER.1.22474487139…</td>\n",
       "      <td>1</td>\n",
       "      <td>0</td>\n",
       "      <td>0</td>\n",
       "      <td>1</td>\n",
       "      <td>0</td>\n",
       "      <td>0</td>\n",
       "      <td>0</td>\n",
       "      <td>0</td>\n",
       "      <td>0</td>\n",
       "      <td>...</td>\n",
       "      <td>0</td>\n",
       "      <td>0</td>\n",
       "      <td>0</td>\n",
       "      <td>1</td>\n",
       "      <td>0</td>\n",
       "      <td>1</td>\n",
       "      <td>0</td>\n",
       "      <td>0</td>\n",
       "      <td>0</td>\n",
       "      <td>M</td>\n",
       "    </tr>\n",
       "    <tr>\n",
       "      <th>3</th>\n",
       "      <td>Jamestown+</td>\n",
       "      <td>0</td>\n",
       "      <td>0</td>\n",
       "      <td>0</td>\n",
       "      <td>0</td>\n",
       "      <td>0</td>\n",
       "      <td>0</td>\n",
       "      <td>0</td>\n",
       "      <td>0</td>\n",
       "      <td>1</td>\n",
       "      <td>...</td>\n",
       "      <td>0</td>\n",
       "      <td>0</td>\n",
       "      <td>0</td>\n",
       "      <td>0</td>\n",
       "      <td>0</td>\n",
       "      <td>0</td>\n",
       "      <td>0</td>\n",
       "      <td>0</td>\n",
       "      <td>0</td>\n",
       "      <td>ET</td>\n",
       "    </tr>\n",
       "    <tr>\n",
       "      <th>4</th>\n",
       "      <td>Neptunia Virtual Stars</td>\n",
       "      <td>0</td>\n",
       "      <td>0</td>\n",
       "      <td>0</td>\n",
       "      <td>0</td>\n",
       "      <td>0</td>\n",
       "      <td>0</td>\n",
       "      <td>0</td>\n",
       "      <td>0</td>\n",
       "      <td>1</td>\n",
       "      <td>...</td>\n",
       "      <td>0</td>\n",
       "      <td>0</td>\n",
       "      <td>0</td>\n",
       "      <td>0</td>\n",
       "      <td>0</td>\n",
       "      <td>1</td>\n",
       "      <td>0</td>\n",
       "      <td>0</td>\n",
       "      <td>0</td>\n",
       "      <td>T</td>\n",
       "    </tr>\n",
       "  </tbody>\n",
       "</table>\n",
       "<p>5 rows × 34 columns</p>\n",
       "</div>"
      ],
      "text/plain": [
       "                               title  console  alcohol_reference  \\\n",
       "0         Monster Jam Steel Titans 2        1                  0   \n",
       "1             Subnautica: Below Zero        1                  0   \n",
       "2  NIER REPLICANT VER.1.22474487139…        1                  0   \n",
       "3                         Jamestown+        0                  0   \n",
       "4             Neptunia Virtual Stars        0                  0   \n",
       "\n",
       "   animated_blood  blood  blood_and_gore  cartoon_violence  crude_humor  \\\n",
       "0               0      0               0                 0            0   \n",
       "1               1      0               0                 0            0   \n",
       "2               0      1               0                 0            0   \n",
       "3               0      0               0                 0            0   \n",
       "4               0      0               0                 0            0   \n",
       "\n",
       "   drug_reference  fantasy_violence  ...  sexual_content  sexual_themes  \\\n",
       "0               0                 0  ...               0              0   \n",
       "1               0                 0  ...               0              0   \n",
       "2               0                 0  ...               0              0   \n",
       "3               0                 1  ...               0              0   \n",
       "4               0                 1  ...               0              0   \n",
       "\n",
       "   simulated_gambling  strong_janguage  strong_sexual_content  \\\n",
       "0                   0                0                      0   \n",
       "1                   0                0                      0   \n",
       "2                   0                1                      0   \n",
       "3                   0                0                      0   \n",
       "4                   0                0                      0   \n",
       "\n",
       "   suggestive_themes  use_of_alcohol  use_of_drugs_and_alcohol  violence  \\\n",
       "0                  0               0                         0         0   \n",
       "1                  0               0                         0         0   \n",
       "2                  1               0                         0         0   \n",
       "3                  0               0                         0         0   \n",
       "4                  1               0                         0         0   \n",
       "\n",
       "   esrb_rating  \n",
       "0            E  \n",
       "1           ET  \n",
       "2            M  \n",
       "3           ET  \n",
       "4            T  \n",
       "\n",
       "[5 rows x 34 columns]"
      ]
     },
     "execution_count": 3,
     "metadata": {},
     "output_type": "execute_result"
    }
   ],
   "source": [
    "df_esrb = pd.read_csv(\"Video_Games_esrb_rating.csv\")\n",
    "df_esrb.head(5)"
   ]
  },
  {
   "cell_type": "code",
   "execution_count": 4,
   "metadata": {
    "ExecuteTime": {
     "end_time": "2022-06-29T06:51:11.969228Z",
     "start_time": "2022-06-29T06:51:11.940421Z"
    }
   },
   "outputs": [
    {
     "data": {
      "text/plain": [
       "Index(['title', 'console', 'alcohol_reference', 'animated_blood', 'blood',\n",
       "       'blood_and_gore', 'cartoon_violence', 'crude_humor', 'drug_reference',\n",
       "       'fantasy_violence', 'intense_violence', 'language', 'lyrics',\n",
       "       'mature_humor', 'mild_blood', 'mild_cartoon_violence',\n",
       "       'mild_fantasy_violence', 'mild_language', 'mild_lyrics',\n",
       "       'mild_suggestive_themes', 'mild_violence', 'no_descriptors', 'nudity',\n",
       "       'partial_nudity', 'sexual_content', 'sexual_themes',\n",
       "       'simulated_gambling', 'strong_janguage', 'strong_sexual_content',\n",
       "       'suggestive_themes', 'use_of_alcohol', 'use_of_drugs_and_alcohol',\n",
       "       'violence', 'esrb_rating'],\n",
       "      dtype='object')"
      ]
     },
     "execution_count": 4,
     "metadata": {},
     "output_type": "execute_result"
    }
   ],
   "source": [
    "df_esrb.columns"
   ]
  },
  {
   "cell_type": "markdown",
   "metadata": {},
   "source": [
    "`strong_janguage` is a clear typo of `strong_language` so we replace that."
   ]
  },
  {
   "cell_type": "code",
   "execution_count": 5,
   "metadata": {
    "ExecuteTime": {
     "end_time": "2022-06-29T06:51:12.000015Z",
     "start_time": "2022-06-29T06:51:11.970718Z"
    }
   },
   "outputs": [],
   "source": [
    "df_esrb = df_esrb.rename(columns={\"strong_janguage\" : \"strong_language\"})"
   ]
  },
  {
   "cell_type": "markdown",
   "metadata": {},
   "source": [
    "Let's display the general `info` of the dataset"
   ]
  },
  {
   "cell_type": "code",
   "execution_count": 6,
   "metadata": {
    "ExecuteTime": {
     "end_time": "2022-06-29T06:51:12.046114Z",
     "start_time": "2022-06-29T06:51:12.001012Z"
    }
   },
   "outputs": [
    {
     "name": "stdout",
     "output_type": "stream",
     "text": [
      "<class 'pandas.core.frame.DataFrame'>\n",
      "RangeIndex: 1895 entries, 0 to 1894\n",
      "Data columns (total 34 columns):\n",
      " #   Column                    Non-Null Count  Dtype \n",
      "---  ------                    --------------  ----- \n",
      " 0   title                     1895 non-null   object\n",
      " 1   console                   1895 non-null   int64 \n",
      " 2   alcohol_reference         1895 non-null   int64 \n",
      " 3   animated_blood            1895 non-null   int64 \n",
      " 4   blood                     1895 non-null   int64 \n",
      " 5   blood_and_gore            1895 non-null   int64 \n",
      " 6   cartoon_violence          1895 non-null   int64 \n",
      " 7   crude_humor               1895 non-null   int64 \n",
      " 8   drug_reference            1895 non-null   int64 \n",
      " 9   fantasy_violence          1895 non-null   int64 \n",
      " 10  intense_violence          1895 non-null   int64 \n",
      " 11  language                  1895 non-null   int64 \n",
      " 12  lyrics                    1895 non-null   int64 \n",
      " 13  mature_humor              1895 non-null   int64 \n",
      " 14  mild_blood                1895 non-null   int64 \n",
      " 15  mild_cartoon_violence     1895 non-null   int64 \n",
      " 16  mild_fantasy_violence     1895 non-null   int64 \n",
      " 17  mild_language             1895 non-null   int64 \n",
      " 18  mild_lyrics               1895 non-null   int64 \n",
      " 19  mild_suggestive_themes    1895 non-null   int64 \n",
      " 20  mild_violence             1895 non-null   int64 \n",
      " 21  no_descriptors            1895 non-null   int64 \n",
      " 22  nudity                    1895 non-null   int64 \n",
      " 23  partial_nudity            1895 non-null   int64 \n",
      " 24  sexual_content            1895 non-null   int64 \n",
      " 25  sexual_themes             1895 non-null   int64 \n",
      " 26  simulated_gambling        1895 non-null   int64 \n",
      " 27  strong_language           1895 non-null   int64 \n",
      " 28  strong_sexual_content     1895 non-null   int64 \n",
      " 29  suggestive_themes         1895 non-null   int64 \n",
      " 30  use_of_alcohol            1895 non-null   int64 \n",
      " 31  use_of_drugs_and_alcohol  1895 non-null   int64 \n",
      " 32  violence                  1895 non-null   int64 \n",
      " 33  esrb_rating               1895 non-null   object\n",
      "dtypes: int64(32), object(2)\n",
      "memory usage: 503.5+ KB\n"
     ]
    }
   ],
   "source": [
    "df_esrb.info()"
   ]
  },
  {
   "cell_type": "markdown",
   "metadata": {},
   "source": [
    "Since theres no `null` values in the dataset, we can proceed"
   ]
  },
  {
   "cell_type": "code",
   "execution_count": 7,
   "metadata": {
    "ExecuteTime": {
     "end_time": "2022-06-29T06:51:12.353708Z",
     "start_time": "2022-06-29T06:51:12.047603Z"
    }
   },
   "outputs": [
    {
     "data": {
      "text/plain": [
       "322"
      ]
     },
     "execution_count": 7,
     "metadata": {},
     "output_type": "execute_result"
    }
   ],
   "source": [
    "df_no_desriptors = df_esrb[df_esrb['no_descriptors'] == 1].sum(axis=1) \n",
    "df_no_desriptors.shape[0]"
   ]
  },
  {
   "cell_type": "markdown",
   "metadata": {},
   "source": [
    "Since `no_descriptors` means that none of the _ESRB Content_ is found in the game, we need to check fix games that might contradict that."
   ]
  },
  {
   "cell_type": "code",
   "execution_count": 8,
   "metadata": {
    "ExecuteTime": {
     "end_time": "2022-06-29T06:51:12.399647Z",
     "start_time": "2022-06-29T06:51:12.354705Z"
    }
   },
   "outputs": [
    {
     "data": {
      "text/plain": [
       "205"
      ]
     },
     "execution_count": 8,
     "metadata": {},
     "output_type": "execute_result"
    }
   ],
   "source": [
    "(df_no_desriptors>1).sum()\n",
    "# print(df_no_desriptors)"
   ]
  },
  {
   "cell_type": "code",
   "execution_count": 9,
   "metadata": {
    "ExecuteTime": {
     "end_time": "2022-06-29T06:51:12.445984Z",
     "start_time": "2022-06-29T06:51:12.401132Z"
    }
   },
   "outputs": [
    {
     "data": {
      "text/plain": [
       "0       0\n",
       "5       0\n",
       "27      0\n",
       "30      0\n",
       "31      0\n",
       "       ..\n",
       "1867    0\n",
       "1872    0\n",
       "1875    0\n",
       "1877    0\n",
       "1894    0\n",
       "Name: no_descriptors, Length: 205, dtype: int64"
      ]
     },
     "execution_count": 9,
     "metadata": {},
     "output_type": "execute_result"
    }
   ],
   "source": [
    "idx = df_no_desriptors[df_no_desriptors>1].index\n",
    "# df_esrb.iloc[idx].loc['no_descriptors'] = 0\n",
    "\n",
    "df_esrb.loc[idx,'no_descriptors'] = 0\n",
    "\n",
    "df_esrb.iloc[idx]['no_descriptors']"
   ]
  },
  {
   "cell_type": "markdown",
   "metadata": {},
   "source": [
    "Seems like there are 205 entries have the `no_descriptors` flagged wrong."
   ]
  },
  {
   "cell_type": "markdown",
   "metadata": {},
   "source": [
    "<h5> Exploratory data analysis"
   ]
  },
  {
   "cell_type": "markdown",
   "metadata": {},
   "source": [
    "Which _ESRB Rating_ is most prominent?"
   ]
  },
  {
   "cell_type": "code",
   "execution_count": 10,
   "metadata": {
    "ExecuteTime": {
     "end_time": "2022-06-29T06:51:12.615767Z",
     "start_time": "2022-06-29T06:51:12.448964Z"
    }
   },
   "outputs": [
    {
     "data": {
      "text/plain": [
       "<BarContainer object of 4 artists>"
      ]
     },
     "execution_count": 10,
     "metadata": {},
     "output_type": "execute_result"
    },
    {
     "data": {
      "image/png": "[encoded data removed]",
      "text/plain": [
       "<Figure size 460.8x403.2 with 1 Axes>"
      ]
     },
     "metadata": {},
     "output_type": "display_data"
    }
   ],
   "source": [
    "ratings = [\"E\" , \"ET\" , \"T\", \"M\"]\n",
    "\n",
    "counts = df_esrb['esrb_rating'].value_counts()\n",
    "\n",
    "plt.bar(ratings, counts)"
   ]
  },
  {
   "cell_type": "code",
   "execution_count": 11,
   "metadata": {},
   "outputs": [
    {
     "data": {
      "text/plain": [
       "([<matplotlib.patches.Wedge at 0x287253f9eb0>,\n",
       "  <matplotlib.patches.Wedge at 0x287254095e0>,\n",
       "  <matplotlib.patches.Wedge at 0x28725409c70>,\n",
       "  <matplotlib.patches.Wedge at 0x28725416340>],\n",
       " [Text(0.4571073038439642, 1.000526317880995, 'E'),\n",
       "  Text(-1.0846159132817186, 0.18332572284342297, 'ET'),\n",
       "  Text(-0.40849519606388207, -1.021338178466237, 'T'),\n",
       "  Text(0.8812655227327117, -0.6583092574486862, 'M')],\n",
       " [Text(0.24933125664216227, 0.5457416279350882, '36.36'),\n",
       "  Text(-0.5916086799718464, 0.09999584882368524, '21.95'),\n",
       "  Text(-0.2228155614893902, -0.5570935518906747, '21.27'),\n",
       "  Text(0.48069028512693357, -0.3590777767901924, '20.42')])"
      ]
     },
     "execution_count": 11,
     "metadata": {},
     "output_type": "execute_result"
    },
    {
     "data": {
      "image/png": "[encoded data removed]",
      "text/plain": [
       "<Figure size 460.8x403.2 with 1 Axes>"
      ]
     },
     "metadata": {},
     "output_type": "display_data"
    }
   ],
   "source": [
    "plt.pie(counts, labels= ratings, autopct='%.2f')"
   ]
  },
  {
   "cell_type": "markdown",
   "metadata": {},
   "source": [
    "The _ESRB Rating_ **T** appears to be the most prominent rating."
   ]
  },
  {
   "cell_type": "markdown",
   "metadata": {},
   "source": [
    "Next, lets find the most prominent `ESRB Rating Content`"
   ]
  },
  {
   "cell_type": "code",
   "execution_count": 12,
   "metadata": {},
   "outputs": [
    {
     "data": {
      "text/plain": [
       "E    117\n",
       "Name: esrb_rating, dtype: int64"
      ]
     },
     "execution_count": 12,
     "metadata": {},
     "output_type": "execute_result"
    }
   ],
   "source": [
    "df_esrb[df_esrb['no_descriptors'] == 1][\"esrb_rating\"].value_counts()"
   ]
  },
  {
   "cell_type": "code",
   "execution_count": 85,
   "metadata": {
    "ExecuteTime": {
     "end_time": "2022-06-29T06:51:12.800529Z",
     "start_time": "2022-06-29T06:51:12.617258Z"
    }
   },
   "outputs": [
    {
     "data": {
      "text/plain": [
       "<AxesSubplot:>"
      ]
     },
     "execution_count": 85,
     "metadata": {},
     "output_type": "execute_result"
    },
    {
     "data": {
      "image/png": "[encoded data removed]",
      "text/plain": [
       "<Figure size 460.8x403.2 with 1 Axes>"
      ]
     },
     "metadata": {},
     "output_type": "display_data"
    }
   ],
   "source": [
    "df_dropped = df_esrb.drop(['title','console','esrb_rating'], axis = 1)\n",
    "df_count_content = df_dropped.sum(axis=0)\n",
    "df_count_content.sort_values(axis=0, ascending=False, inplace=True)\n",
    "df_count_content.plot.bar(x=\"Content\", y=\"Count\", )"
   ]
  },
  {
   "cell_type": "markdown",
   "metadata": {},
   "source": [
    "We can visibly see that the _ESRB Content_ **blood** is the most prominent while **fantasy_violence** comes close in second."
   ]
  },
  {
   "cell_type": "markdown",
   "metadata": {},
   "source": [
    "Let us check the correlelations of each _ESRB Content_"
   ]
  },
  {
   "cell_type": "code",
   "execution_count": 14,
   "metadata": {
    "ExecuteTime": {
     "end_time": "2022-06-29T06:51:12.846828Z",
     "start_time": "2022-06-29T06:51:12.802516Z"
    }
   },
   "outputs": [
    {
     "data": {
      "text/plain": [
       "Index(['title', 'console', 'alcohol_reference', 'animated_blood', 'blood',\n",
       "       'blood_and_gore', 'cartoon_violence', 'crude_humor', 'drug_reference',\n",
       "       'fantasy_violence', 'intense_violence', 'language', 'lyrics',\n",
       "       'mature_humor', 'mild_blood', 'mild_cartoon_violence',\n",
       "       'mild_fantasy_violence', 'mild_language', 'mild_lyrics',\n",
       "       'mild_suggestive_themes', 'mild_violence', 'no_descriptors', 'nudity',\n",
       "       'partial_nudity', 'sexual_content', 'sexual_themes',\n",
       "       'simulated_gambling', 'strong_language', 'strong_sexual_content',\n",
       "       'suggestive_themes', 'use_of_alcohol', 'use_of_drugs_and_alcohol',\n",
       "       'violence', 'esrb_rating'],\n",
       "      dtype='object')"
      ]
     },
     "execution_count": 14,
     "metadata": {},
     "output_type": "execute_result"
    }
   ],
   "source": [
    "df_esrb.columns"
   ]
  },
  {
   "cell_type": "code",
   "execution_count": 15,
   "metadata": {
    "ExecuteTime": {
     "end_time": "2022-06-29T06:51:13.000485Z",
     "start_time": "2022-06-29T06:51:12.848328Z"
    }
   },
   "outputs": [
    {
     "data": {
      "text/html": [
       "<style  type=\"text/css\" >\n",
       "#T_568ff_row0_col0,#T_568ff_row1_col1,#T_568ff_row2_col2,#T_568ff_row3_col3,#T_568ff_row4_col4,#T_568ff_row5_col5,#T_568ff_row6_col6,#T_568ff_row7_col7,#T_568ff_row8_col8,#T_568ff_row9_col9,#T_568ff_row10_col10,#T_568ff_row11_col11,#T_568ff_row12_col12,#T_568ff_row13_col13,#T_568ff_row14_col14,#T_568ff_row15_col15,#T_568ff_row16_col16,#T_568ff_row17_col17,#T_568ff_row18_col18,#T_568ff_row19_col19,#T_568ff_row20_col20,#T_568ff_row21_col21,#T_568ff_row22_col22,#T_568ff_row23_col23,#T_568ff_row24_col24,#T_568ff_row25_col25,#T_568ff_row26_col26,#T_568ff_row27_col27,#T_568ff_row28_col28,#T_568ff_row29_col29,#T_568ff_row30_col30{\n",
       "            background-color:  #b40426;\n",
       "            color:  #f1f1f1;\n",
       "        }#T_568ff_row0_col1,#T_568ff_row1_col0,#T_568ff_row4_col13,#T_568ff_row4_col16,#T_568ff_row7_col28,#T_568ff_row7_col29,#T_568ff_row8_col22,#T_568ff_row10_col21,#T_568ff_row11_col26,#T_568ff_row12_col21,#T_568ff_row12_col24,#T_568ff_row13_col4,#T_568ff_row15_col17,#T_568ff_row16_col4,#T_568ff_row17_col15,#T_568ff_row17_col24,#T_568ff_row21_col10,#T_568ff_row21_col12,#T_568ff_row21_col22,#T_568ff_row22_col8,#T_568ff_row22_col21,#T_568ff_row24_col12,#T_568ff_row24_col17,#T_568ff_row26_col11,#T_568ff_row28_col7,#T_568ff_row29_col7{\n",
       "            background-color:  #7295f4;\n",
       "            color:  #000000;\n",
       "        }#T_568ff_row0_col2,#T_568ff_row0_col7,#T_568ff_row0_col25,#T_568ff_row2_col0,#T_568ff_row3_col14,#T_568ff_row4_col7,#T_568ff_row5_col7,#T_568ff_row7_col0,#T_568ff_row7_col4,#T_568ff_row7_col5,#T_568ff_row7_col15,#T_568ff_row8_col14,#T_568ff_row9_col17,#T_568ff_row14_col3,#T_568ff_row14_col8,#T_568ff_row14_col25,#T_568ff_row15_col7,#T_568ff_row17_col9,#T_568ff_row17_col25,#T_568ff_row25_col0,#T_568ff_row25_col14,#T_568ff_row25_col17{\n",
       "            background-color:  #5b7ae5;\n",
       "            color:  #000000;\n",
       "        }#T_568ff_row0_col3,#T_568ff_row1_col27,#T_568ff_row3_col0,#T_568ff_row3_col17,#T_568ff_row4_col19,#T_568ff_row5_col22,#T_568ff_row7_col10,#T_568ff_row9_col10,#T_568ff_row10_col7,#T_568ff_row10_col9,#T_568ff_row13_col14,#T_568ff_row13_col25,#T_568ff_row14_col13,#T_568ff_row14_col15,#T_568ff_row14_col17,#T_568ff_row15_col14,#T_568ff_row15_col18,#T_568ff_row16_col20,#T_568ff_row17_col3,#T_568ff_row17_col14,#T_568ff_row17_col30,#T_568ff_row18_col15,#T_568ff_row19_col4,#T_568ff_row19_col28,#T_568ff_row19_col29,#T_568ff_row20_col16,#T_568ff_row20_col24,#T_568ff_row22_col5,#T_568ff_row24_col20,#T_568ff_row24_col27,#T_568ff_row24_col28,#T_568ff_row25_col13,#T_568ff_row27_col1,#T_568ff_row27_col24,#T_568ff_row27_col28,#T_568ff_row28_col19,#T_568ff_row28_col24,#T_568ff_row28_col27,#T_568ff_row29_col19,#T_568ff_row30_col17{\n",
       "            background-color:  #6788ee;\n",
       "            color:  #000000;\n",
       "        }#T_568ff_row0_col4,#T_568ff_row1_col17,#T_568ff_row3_col10,#T_568ff_row3_col29,#T_568ff_row4_col0,#T_568ff_row6_col21,#T_568ff_row10_col3,#T_568ff_row12_col18,#T_568ff_row17_col1,#T_568ff_row18_col12,#T_568ff_row20_col30,#T_568ff_row21_col6,#T_568ff_row29_col3,#T_568ff_row29_col30,#T_568ff_row30_col20,#T_568ff_row30_col29{\n",
       "            background-color:  #81a4fb;\n",
       "            color:  #000000;\n",
       "        }#T_568ff_row0_col5,#T_568ff_row0_col24,#T_568ff_row0_col27,#T_568ff_row1_col5,#T_568ff_row2_col17,#T_568ff_row3_col21,#T_568ff_row5_col0,#T_568ff_row5_col1,#T_568ff_row6_col30,#T_568ff_row7_col9,#T_568ff_row9_col7,#T_568ff_row9_col28,#T_568ff_row10_col28,#T_568ff_row12_col16,#T_568ff_row13_col17,#T_568ff_row16_col12,#T_568ff_row16_col18,#T_568ff_row17_col2,#T_568ff_row17_col13,#T_568ff_row17_col21,#T_568ff_row18_col16,#T_568ff_row20_col26,#T_568ff_row21_col3,#T_568ff_row21_col17,#T_568ff_row24_col0,#T_568ff_row26_col20,#T_568ff_row27_col0,#T_568ff_row28_col9,#T_568ff_row28_col10,#T_568ff_row30_col6{\n",
       "            background-color:  #7093f3;\n",
       "            color:  #000000;\n",
       "        }#T_568ff_row0_col6,#T_568ff_row0_col16,#T_568ff_row0_col26,#T_568ff_row2_col30,#T_568ff_row4_col27,#T_568ff_row5_col20,#T_568ff_row6_col0,#T_568ff_row6_col16,#T_568ff_row8_col24,#T_568ff_row8_col29,#T_568ff_row11_col12,#T_568ff_row12_col11,#T_568ff_row13_col20,#T_568ff_row13_col26,#T_568ff_row15_col28,#T_568ff_row15_col29,#T_568ff_row15_col30,#T_568ff_row16_col0,#T_568ff_row16_col6,#T_568ff_row20_col5,#T_568ff_row20_col13,#T_568ff_row22_col24,#T_568ff_row22_col30,#T_568ff_row23_col27,#T_568ff_row24_col8,#T_568ff_row24_col22,#T_568ff_row24_col30,#T_568ff_row26_col0,#T_568ff_row26_col13,#T_568ff_row26_col30,#T_568ff_row27_col4,#T_568ff_row27_col23,#T_568ff_row27_col29,#T_568ff_row28_col15,#T_568ff_row29_col8,#T_568ff_row29_col15,#T_568ff_row29_col27,#T_568ff_row30_col2,#T_568ff_row30_col15,#T_568ff_row30_col22,#T_568ff_row30_col24,#T_568ff_row30_col26{\n",
       "            background-color:  #7396f5;\n",
       "            color:  #000000;\n",
       "        }#T_568ff_row0_col8,#T_568ff_row8_col0,#T_568ff_row10_col24,#T_568ff_row21_col23,#T_568ff_row23_col21,#T_568ff_row24_col10,#T_568ff_row24_col25,#T_568ff_row25_col24{\n",
       "            background-color:  #9dbdff;\n",
       "            color:  #000000;\n",
       "        }#T_568ff_row0_col9,#T_568ff_row0_col23,#T_568ff_row1_col19,#T_568ff_row1_col23,#T_568ff_row1_col24,#T_568ff_row2_col20,#T_568ff_row3_col11,#T_568ff_row3_col27,#T_568ff_row4_col22,#T_568ff_row4_col26,#T_568ff_row6_col28,#T_568ff_row6_col29,#T_568ff_row9_col0,#T_568ff_row11_col3,#T_568ff_row11_col14,#T_568ff_row11_col17,#T_568ff_row11_col18,#T_568ff_row11_col23,#T_568ff_row11_col25,#T_568ff_row13_col15,#T_568ff_row14_col11,#T_568ff_row14_col21,#T_568ff_row15_col13,#T_568ff_row15_col24,#T_568ff_row17_col11,#T_568ff_row17_col20,#T_568ff_row18_col11,#T_568ff_row19_col1,#T_568ff_row20_col2,#T_568ff_row20_col17,#T_568ff_row21_col14,#T_568ff_row22_col4,#T_568ff_row22_col29,#T_568ff_row23_col0,#T_568ff_row23_col1,#T_568ff_row23_col11,#T_568ff_row24_col1,#T_568ff_row24_col15,#T_568ff_row25_col11,#T_568ff_row26_col4,#T_568ff_row26_col28,#T_568ff_row26_col29,#T_568ff_row27_col3,#T_568ff_row28_col6,#T_568ff_row28_col26,#T_568ff_row29_col6,#T_568ff_row29_col22,#T_568ff_row29_col26{\n",
       "            background-color:  #6a8bef;\n",
       "            color:  #000000;\n",
       "        }#T_568ff_row0_col10,#T_568ff_row4_col17,#T_568ff_row10_col0,#T_568ff_row12_col27,#T_568ff_row17_col4,#T_568ff_row23_col24,#T_568ff_row24_col23,#T_568ff_row27_col12{\n",
       "            background-color:  #88abfd;\n",
       "            color:  #000000;\n",
       "        }#T_568ff_row0_col11,#T_568ff_row11_col0,#T_568ff_row11_col27,#T_568ff_row27_col11{\n",
       "            background-color:  #92b4fe;\n",
       "            color:  #000000;\n",
       "        }#T_568ff_row0_col12,#T_568ff_row4_col18,#T_568ff_row6_col20,#T_568ff_row8_col23,#T_568ff_row9_col25,#T_568ff_row9_col29,#T_568ff_row10_col29,#T_568ff_row12_col0,#T_568ff_row17_col23,#T_568ff_row18_col4,#T_568ff_row20_col6,#T_568ff_row22_col27,#T_568ff_row23_col8,#T_568ff_row23_col17,#T_568ff_row25_col9,#T_568ff_row27_col22,#T_568ff_row29_col9,#T_568ff_row29_col10{\n",
       "            background-color:  #779af7;\n",
       "            color:  #000000;\n",
       "        }#T_568ff_row0_col13,#T_568ff_row13_col0{\n",
       "            background-color:  #94b6ff;\n",
       "            color:  #000000;\n",
       "        }#T_568ff_row0_col14,#T_568ff_row0_col30,#T_568ff_row1_col3,#T_568ff_row2_col6,#T_568ff_row2_col26,#T_568ff_row2_col28,#T_568ff_row3_col1,#T_568ff_row4_col12,#T_568ff_row4_col30,#T_568ff_row6_col2,#T_568ff_row7_col23,#T_568ff_row7_col24,#T_568ff_row10_col17,#T_568ff_row10_col18,#T_568ff_row12_col4,#T_568ff_row13_col19,#T_568ff_row13_col30,#T_568ff_row14_col0,#T_568ff_row15_col19,#T_568ff_row17_col10,#T_568ff_row17_col22,#T_568ff_row18_col10,#T_568ff_row18_col24,#T_568ff_row19_col13,#T_568ff_row19_col15,#T_568ff_row22_col17,#T_568ff_row23_col7,#T_568ff_row24_col7,#T_568ff_row24_col18,#T_568ff_row26_col2,#T_568ff_row28_col2,#T_568ff_row30_col0,#T_568ff_row30_col4,#T_568ff_row30_col13{\n",
       "            background-color:  #6687ed;\n",
       "            color:  #000000;\n",
       "        }#T_568ff_row0_col15,#T_568ff_row0_col20,#T_568ff_row1_col29,#T_568ff_row2_col9,#T_568ff_row4_col23,#T_568ff_row5_col10,#T_568ff_row7_col17,#T_568ff_row9_col2,#T_568ff_row10_col5,#T_568ff_row11_col21,#T_568ff_row12_col28,#T_568ff_row15_col0,#T_568ff_row17_col7,#T_568ff_row20_col0,#T_568ff_row21_col11,#T_568ff_row23_col4,#T_568ff_row28_col12,#T_568ff_row29_col1{\n",
       "            background-color:  #7a9df8;\n",
       "            color:  #000000;\n",
       "        }#T_568ff_row0_col17,#T_568ff_row3_col25,#T_568ff_row17_col0,#T_568ff_row25_col3{\n",
       "            background-color:  #b1cbfc;\n",
       "            color:  #000000;\n",
       "        }#T_568ff_row0_col18,#T_568ff_row3_col9,#T_568ff_row7_col16,#T_568ff_row8_col25,#T_568ff_row9_col3,#T_568ff_row10_col27,#T_568ff_row16_col7,#T_568ff_row18_col0,#T_568ff_row25_col8,#T_568ff_row27_col10{\n",
       "            background-color:  #8db0fe;\n",
       "            color:  #000000;\n",
       "        }#T_568ff_row0_col19,#T_568ff_row3_col13,#T_568ff_row3_col15,#T_568ff_row5_col12,#T_568ff_row12_col5,#T_568ff_row13_col3,#T_568ff_row14_col19,#T_568ff_row14_col24,#T_568ff_row14_col30,#T_568ff_row15_col3,#T_568ff_row16_col26,#T_568ff_row18_col19,#T_568ff_row18_col27,#T_568ff_row19_col0,#T_568ff_row19_col14,#T_568ff_row19_col18,#T_568ff_row24_col14,#T_568ff_row26_col16,#T_568ff_row27_col18,#T_568ff_row30_col14{\n",
       "            background-color:  #6180e9;\n",
       "            color:  #000000;\n",
       "        }#T_568ff_row0_col21,#T_568ff_row2_col16,#T_568ff_row5_col30,#T_568ff_row8_col27,#T_568ff_row9_col11,#T_568ff_row9_col18,#T_568ff_row11_col9,#T_568ff_row15_col23,#T_568ff_row16_col2,#T_568ff_row18_col9,#T_568ff_row18_col21,#T_568ff_row18_col29,#T_568ff_row20_col27,#T_568ff_row21_col0,#T_568ff_row21_col18,#T_568ff_row23_col15,#T_568ff_row27_col8,#T_568ff_row27_col20,#T_568ff_row29_col18,#T_568ff_row30_col5{\n",
       "            background-color:  #6f92f3;\n",
       "            color:  #000000;\n",
       "        }#T_568ff_row0_col22,#T_568ff_row3_col4,#T_568ff_row4_col3,#T_568ff_row5_col6,#T_568ff_row6_col5,#T_568ff_row7_col22,#T_568ff_row8_col21,#T_568ff_row12_col13,#T_568ff_row12_col25,#T_568ff_row13_col12,#T_568ff_row14_col22,#T_568ff_row14_col23,#T_568ff_row14_col26,#T_568ff_row15_col16,#T_568ff_row16_col15,#T_568ff_row16_col23,#T_568ff_row16_col24,#T_568ff_row18_col26,#T_568ff_row21_col8,#T_568ff_row21_col27,#T_568ff_row22_col0,#T_568ff_row22_col7,#T_568ff_row22_col14,#T_568ff_row23_col14,#T_568ff_row23_col16,#T_568ff_row24_col16,#T_568ff_row25_col12,#T_568ff_row26_col14,#T_568ff_row26_col18,#T_568ff_row27_col21{\n",
       "            background-color:  #6485ec;\n",
       "            color:  #000000;\n",
       "        }#T_568ff_row0_col28,#T_568ff_row6_col25,#T_568ff_row22_col25,#T_568ff_row25_col6,#T_568ff_row25_col22,#T_568ff_row28_col0{\n",
       "            background-color:  #a1c0ff;\n",
       "            color:  #000000;\n",
       "        }#T_568ff_row0_col29,#T_568ff_row1_col7,#T_568ff_row1_col16,#T_568ff_row3_col5,#T_568ff_row5_col3,#T_568ff_row5_col18,#T_568ff_row5_col23,#T_568ff_row5_col27,#T_568ff_row5_col29,#T_568ff_row6_col14,#T_568ff_row6_col15,#T_568ff_row7_col1,#T_568ff_row9_col22,#T_568ff_row10_col15,#T_568ff_row11_col16,#T_568ff_row11_col19,#T_568ff_row11_col30,#T_568ff_row12_col22,#T_568ff_row13_col16,#T_568ff_row14_col6,#T_568ff_row14_col20,#T_568ff_row14_col28,#T_568ff_row15_col6,#T_568ff_row15_col10,#T_568ff_row15_col22,#T_568ff_row15_col26,#T_568ff_row16_col1,#T_568ff_row16_col11,#T_568ff_row16_col13,#T_568ff_row18_col5,#T_568ff_row18_col22,#T_568ff_row18_col30,#T_568ff_row19_col11,#T_568ff_row19_col20,#T_568ff_row19_col21,#T_568ff_row20_col14,#T_568ff_row20_col19,#T_568ff_row21_col19,#T_568ff_row22_col9,#T_568ff_row22_col12,#T_568ff_row22_col15,#T_568ff_row22_col18,#T_568ff_row23_col5,#T_568ff_row23_col28,#T_568ff_row26_col15,#T_568ff_row27_col5,#T_568ff_row28_col14,#T_568ff_row28_col23,#T_568ff_row29_col0,#T_568ff_row29_col5,#T_568ff_row30_col11,#T_568ff_row30_col18{\n",
       "            background-color:  #688aef;\n",
       "            color:  #000000;\n",
       "        }#T_568ff_row1_col2,#T_568ff_row2_col1,#T_568ff_row4_col8,#T_568ff_row4_col25,#T_568ff_row7_col26,#T_568ff_row8_col4,#T_568ff_row8_col12,#T_568ff_row8_col15,#T_568ff_row9_col13,#T_568ff_row9_col14,#T_568ff_row10_col16,#T_568ff_row12_col8,#T_568ff_row13_col9,#T_568ff_row14_col9,#T_568ff_row15_col8,#T_568ff_row15_col25,#T_568ff_row16_col10,#T_568ff_row17_col19,#T_568ff_row18_col23,#T_568ff_row19_col17,#T_568ff_row23_col18,#T_568ff_row25_col4,#T_568ff_row25_col15,#T_568ff_row26_col7,#T_568ff_row26_col27,#T_568ff_row27_col26{\n",
       "            background-color:  #6282ea;\n",
       "            color:  #000000;\n",
       "        }#T_568ff_row1_col4,#T_568ff_row1_col13,#T_568ff_row1_col15,#T_568ff_row4_col1,#T_568ff_row4_col5,#T_568ff_row4_col11,#T_568ff_row4_col14,#T_568ff_row4_col20,#T_568ff_row4_col21,#T_568ff_row5_col4,#T_568ff_row9_col15,#T_568ff_row10_col14,#T_568ff_row11_col4,#T_568ff_row11_col15,#T_568ff_row11_col28,#T_568ff_row11_col29,#T_568ff_row12_col23,#T_568ff_row13_col1,#T_568ff_row13_col24,#T_568ff_row13_col27,#T_568ff_row14_col4,#T_568ff_row14_col10,#T_568ff_row15_col1,#T_568ff_row15_col9,#T_568ff_row15_col11,#T_568ff_row16_col21,#T_568ff_row17_col26,#T_568ff_row20_col4,#T_568ff_row20_col21,#T_568ff_row21_col4,#T_568ff_row21_col16,#T_568ff_row21_col20,#T_568ff_row21_col28,#T_568ff_row21_col29,#T_568ff_row23_col12,#T_568ff_row24_col13,#T_568ff_row24_col26,#T_568ff_row26_col17,#T_568ff_row26_col24,#T_568ff_row27_col13,#T_568ff_row28_col11,#T_568ff_row28_col21,#T_568ff_row28_col29,#T_568ff_row29_col11,#T_568ff_row29_col21,#T_568ff_row29_col28{\n",
       "            background-color:  #6c8ff1;\n",
       "            color:  #000000;\n",
       "        }#T_568ff_row1_col6,#T_568ff_row6_col1{\n",
       "            background-color:  #9ebeff;\n",
       "            color:  #000000;\n",
       "        }#T_568ff_row1_col8,#T_568ff_row8_col1,#T_568ff_row8_col13,#T_568ff_row8_col20,#T_568ff_row13_col8,#T_568ff_row20_col8{\n",
       "            background-color:  #8caffe;\n",
       "            color:  #000000;\n",
       "        }#T_568ff_row1_col9,#T_568ff_row8_col11,#T_568ff_row9_col1,#T_568ff_row11_col8{\n",
       "            background-color:  #80a3fa;\n",
       "            color:  #000000;\n",
       "        }#T_568ff_row1_col10,#T_568ff_row1_col14,#T_568ff_row1_col18,#T_568ff_row1_col22,#T_568ff_row1_col25,#T_568ff_row1_col26,#T_568ff_row2_col29,#T_568ff_row4_col15,#T_568ff_row4_col24,#T_568ff_row5_col14,#T_568ff_row9_col30,#T_568ff_row10_col1,#T_568ff_row10_col11,#T_568ff_row10_col22,#T_568ff_row10_col26,#T_568ff_row11_col10,#T_568ff_row11_col22,#T_568ff_row12_col26,#T_568ff_row12_col29,#T_568ff_row12_col30,#T_568ff_row13_col29,#T_568ff_row14_col1,#T_568ff_row14_col5,#T_568ff_row15_col4,#T_568ff_row15_col20,#T_568ff_row16_col22,#T_568ff_row18_col1,#T_568ff_row20_col15,#T_568ff_row21_col26,#T_568ff_row22_col1,#T_568ff_row22_col10,#T_568ff_row22_col11,#T_568ff_row22_col16,#T_568ff_row23_col30,#T_568ff_row24_col4,#T_568ff_row25_col1,#T_568ff_row25_col28,#T_568ff_row26_col1,#T_568ff_row26_col10,#T_568ff_row26_col12,#T_568ff_row26_col21,#T_568ff_row28_col25,#T_568ff_row29_col2,#T_568ff_row29_col12,#T_568ff_row29_col13,#T_568ff_row30_col9,#T_568ff_row30_col12,#T_568ff_row30_col23{\n",
       "            background-color:  #6b8df0;\n",
       "            color:  #000000;\n",
       "        }#T_568ff_row1_col11,#T_568ff_row1_col20,#T_568ff_row1_col21,#T_568ff_row3_col28,#T_568ff_row5_col28,#T_568ff_row6_col13,#T_568ff_row7_col18,#T_568ff_row7_col20,#T_568ff_row8_col30,#T_568ff_row9_col26,#T_568ff_row10_col13,#T_568ff_row10_col25,#T_568ff_row11_col1,#T_568ff_row12_col15,#T_568ff_row13_col6,#T_568ff_row13_col10,#T_568ff_row13_col22,#T_568ff_row13_col23,#T_568ff_row15_col12,#T_568ff_row18_col7,#T_568ff_row20_col1,#T_568ff_row20_col7,#T_568ff_row21_col1,#T_568ff_row21_col30,#T_568ff_row22_col13,#T_568ff_row23_col13,#T_568ff_row23_col26,#T_568ff_row23_col29,#T_568ff_row25_col10,#T_568ff_row25_col27,#T_568ff_row25_col30,#T_568ff_row26_col9,#T_568ff_row26_col23,#T_568ff_row27_col25,#T_568ff_row28_col3,#T_568ff_row28_col5,#T_568ff_row29_col23,#T_568ff_row30_col8,#T_568ff_row30_col21,#T_568ff_row30_col25{\n",
       "            background-color:  #6e90f2;\n",
       "            color:  #000000;\n",
       "        }#T_568ff_row1_col12,#T_568ff_row4_col10,#T_568ff_row6_col27,#T_568ff_row10_col4,#T_568ff_row12_col1,#T_568ff_row13_col28,#T_568ff_row14_col16,#T_568ff_row16_col14,#T_568ff_row27_col6,#T_568ff_row28_col13{\n",
       "            background-color:  #7b9ff9;\n",
       "            color:  #000000;\n",
       "        }#T_568ff_row1_col28,#T_568ff_row6_col26,#T_568ff_row10_col20,#T_568ff_row17_col18,#T_568ff_row17_col28,#T_568ff_row18_col17,#T_568ff_row20_col10,#T_568ff_row26_col6,#T_568ff_row28_col1,#T_568ff_row28_col17{\n",
       "            background-color:  #86a9fc;\n",
       "            color:  #000000;\n",
       "        }#T_568ff_row1_col30,#T_568ff_row5_col11,#T_568ff_row5_col26,#T_568ff_row6_col8,#T_568ff_row8_col6,#T_568ff_row9_col21,#T_568ff_row10_col12,#T_568ff_row11_col5,#T_568ff_row11_col13,#T_568ff_row12_col10,#T_568ff_row13_col11,#T_568ff_row20_col28,#T_568ff_row20_col29,#T_568ff_row21_col9,#T_568ff_row24_col29,#T_568ff_row26_col5,#T_568ff_row28_col20,#T_568ff_row28_col30,#T_568ff_row29_col20,#T_568ff_row29_col24,#T_568ff_row30_col1,#T_568ff_row30_col28{\n",
       "            background-color:  #7699f6;\n",
       "            color:  #000000;\n",
       "        }#T_568ff_row2_col3,#T_568ff_row3_col2{\n",
       "            background-color:  #3b4cc0;\n",
       "            color:  #f1f1f1;\n",
       "        }#T_568ff_row2_col4,#T_568ff_row2_col13,#T_568ff_row3_col12,#T_568ff_row4_col2,#T_568ff_row5_col25,#T_568ff_row7_col13,#T_568ff_row12_col3,#T_568ff_row13_col2,#T_568ff_row13_col7,#T_568ff_row19_col24,#T_568ff_row19_col30,#T_568ff_row24_col19,#T_568ff_row25_col5,#T_568ff_row30_col19{\n",
       "            background-color:  #5e7de7;\n",
       "            color:  #000000;\n",
       "        }#T_568ff_row2_col5,#T_568ff_row2_col15,#T_568ff_row2_col18,#T_568ff_row5_col2,#T_568ff_row15_col2,#T_568ff_row18_col2,#T_568ff_row18_col25,#T_568ff_row25_col18{\n",
       "            background-color:  #5a78e4;\n",
       "            color:  #000000;\n",
       "        }#T_568ff_row2_col7,#T_568ff_row7_col2{\n",
       "            background-color:  #4257c9;\n",
       "            color:  #f1f1f1;\n",
       "        }#T_568ff_row2_col8,#T_568ff_row2_col27,#T_568ff_row6_col23,#T_568ff_row8_col2,#T_568ff_row9_col23,#T_568ff_row11_col24,#T_568ff_row23_col6,#T_568ff_row23_col9,#T_568ff_row24_col11,#T_568ff_row27_col2{\n",
       "            background-color:  #8badfd;\n",
       "            color:  #000000;\n",
       "        }#T_568ff_row2_col10,#T_568ff_row6_col11,#T_568ff_row7_col11,#T_568ff_row8_col28,#T_568ff_row10_col2,#T_568ff_row11_col6,#T_568ff_row11_col7,#T_568ff_row28_col8{\n",
       "            background-color:  #82a6fb;\n",
       "            color:  #000000;\n",
       "        }#T_568ff_row2_col11,#T_568ff_row3_col6,#T_568ff_row6_col3,#T_568ff_row11_col2,#T_568ff_row20_col25,#T_568ff_row25_col20{\n",
       "            background-color:  #93b5fe;\n",
       "            color:  #000000;\n",
       "        }#T_568ff_row2_col12,#T_568ff_row12_col2{\n",
       "            background-color:  #4e68d8;\n",
       "            color:  #000000;\n",
       "        }#T_568ff_row2_col14,#T_568ff_row7_col14,#T_568ff_row14_col2,#T_568ff_row14_col7{\n",
       "            background-color:  #516ddb;\n",
       "            color:  #000000;\n",
       "        }#T_568ff_row2_col19,#T_568ff_row7_col19,#T_568ff_row19_col2,#T_568ff_row19_col7{\n",
       "            background-color:  #4b64d5;\n",
       "            color:  #f1f1f1;\n",
       "        }#T_568ff_row2_col21,#T_568ff_row6_col10,#T_568ff_row9_col12,#T_568ff_row10_col6,#T_568ff_row10_col30,#T_568ff_row12_col9,#T_568ff_row13_col18,#T_568ff_row15_col21,#T_568ff_row18_col13,#T_568ff_row20_col23,#T_568ff_row21_col2,#T_568ff_row21_col15,#T_568ff_row22_col28,#T_568ff_row23_col20,#T_568ff_row28_col22,#T_568ff_row30_col10{\n",
       "            background-color:  #7ea1fa;\n",
       "            color:  #000000;\n",
       "        }#T_568ff_row2_col22,#T_568ff_row5_col8,#T_568ff_row5_col17,#T_568ff_row7_col27,#T_568ff_row8_col5,#T_568ff_row9_col20,#T_568ff_row9_col27,#T_568ff_row17_col5,#T_568ff_row20_col9,#T_568ff_row22_col2,#T_568ff_row27_col7,#T_568ff_row27_col9{\n",
       "            background-color:  #89acfd;\n",
       "            color:  #000000;\n",
       "        }#T_568ff_row2_col23,#T_568ff_row8_col10,#T_568ff_row10_col8,#T_568ff_row11_col20,#T_568ff_row12_col20,#T_568ff_row20_col11,#T_568ff_row20_col12,#T_568ff_row23_col2{\n",
       "            background-color:  #85a8fc;\n",
       "            color:  #000000;\n",
       "        }#T_568ff_row2_col24,#T_568ff_row10_col23,#T_568ff_row23_col10,#T_568ff_row24_col2{\n",
       "            background-color:  #90b2fe;\n",
       "            color:  #000000;\n",
       "        }#T_568ff_row2_col25,#T_568ff_row3_col8,#T_568ff_row8_col3,#T_568ff_row25_col2{\n",
       "            background-color:  #c4d5f3;\n",
       "            color:  #000000;\n",
       "        }#T_568ff_row3_col7,#T_568ff_row7_col3{\n",
       "            background-color:  #4358cb;\n",
       "            color:  #f1f1f1;\n",
       "        }#T_568ff_row3_col16,#T_568ff_row9_col19,#T_568ff_row16_col3,#T_568ff_row19_col9{\n",
       "            background-color:  #5875e1;\n",
       "            color:  #000000;\n",
       "        }#T_568ff_row3_col18,#T_568ff_row4_col9,#T_568ff_row6_col19,#T_568ff_row7_col21,#T_568ff_row9_col4,#T_568ff_row10_col19,#T_568ff_row14_col18,#T_568ff_row18_col3,#T_568ff_row18_col14,#T_568ff_row19_col6,#T_568ff_row19_col10,#T_568ff_row19_col22,#T_568ff_row19_col26,#T_568ff_row21_col7,#T_568ff_row22_col19,#T_568ff_row25_col29,#T_568ff_row26_col19,#T_568ff_row29_col25{\n",
       "            background-color:  #6384eb;\n",
       "            color:  #000000;\n",
       "        }#T_568ff_row3_col19,#T_568ff_row8_col19,#T_568ff_row19_col3,#T_568ff_row19_col8,#T_568ff_row19_col25,#T_568ff_row19_col27,#T_568ff_row25_col19,#T_568ff_row27_col19{\n",
       "            background-color:  #5673e0;\n",
       "            color:  #000000;\n",
       "        }#T_568ff_row3_col20,#T_568ff_row3_col23,#T_568ff_row20_col3,#T_568ff_row23_col3{\n",
       "            background-color:  #96b7ff;\n",
       "            color:  #000000;\n",
       "        }#T_568ff_row3_col22,#T_568ff_row6_col12,#T_568ff_row12_col6,#T_568ff_row22_col3{\n",
       "            background-color:  #9abbff;\n",
       "            color:  #000000;\n",
       "        }#T_568ff_row3_col24,#T_568ff_row4_col6,#T_568ff_row4_col29,#T_568ff_row5_col15,#T_568ff_row5_col21,#T_568ff_row6_col4,#T_568ff_row6_col17,#T_568ff_row6_col18,#T_568ff_row8_col18,#T_568ff_row14_col29,#T_568ff_row15_col5,#T_568ff_row16_col17,#T_568ff_row16_col30,#T_568ff_row17_col6,#T_568ff_row17_col16,#T_568ff_row17_col29,#T_568ff_row18_col6,#T_568ff_row18_col8,#T_568ff_row18_col20,#T_568ff_row18_col28,#T_568ff_row20_col18,#T_568ff_row21_col5,#T_568ff_row22_col26,#T_568ff_row24_col3,#T_568ff_row26_col22,#T_568ff_row27_col30,#T_568ff_row28_col18,#T_568ff_row29_col4,#T_568ff_row29_col14,#T_568ff_row29_col17,#T_568ff_row30_col16,#T_568ff_row30_col27{\n",
       "            background-color:  #7597f6;\n",
       "            color:  #000000;\n",
       "        }#T_568ff_row3_col26,#T_568ff_row26_col3{\n",
       "            background-color:  #cfdaea;\n",
       "            color:  #000000;\n",
       "        }#T_568ff_row3_col30,#T_568ff_row6_col24,#T_568ff_row24_col6,#T_568ff_row30_col3{\n",
       "            background-color:  #84a7fc;\n",
       "            color:  #000000;\n",
       "        }#T_568ff_row4_col28,#T_568ff_row9_col24,#T_568ff_row13_col21,#T_568ff_row16_col27,#T_568ff_row17_col27,#T_568ff_row21_col13,#T_568ff_row22_col23,#T_568ff_row23_col22,#T_568ff_row24_col9,#T_568ff_row27_col16,#T_568ff_row27_col17,#T_568ff_row28_col4{\n",
       "            background-color:  #7da0f9;\n",
       "            color:  #000000;\n",
       "        }#T_568ff_row5_col9,#T_568ff_row5_col16,#T_568ff_row5_col19,#T_568ff_row9_col5,#T_568ff_row12_col14,#T_568ff_row14_col12,#T_568ff_row16_col5,#T_568ff_row19_col5,#T_568ff_row19_col23,#T_568ff_row23_col19{\n",
       "            background-color:  #5f7fe8;\n",
       "            color:  #000000;\n",
       "        }#T_568ff_row5_col13,#T_568ff_row12_col17,#T_568ff_row13_col5,#T_568ff_row17_col12{\n",
       "            background-color:  #8fb1fe;\n",
       "            color:  #000000;\n",
       "        }#T_568ff_row5_col24,#T_568ff_row24_col5{\n",
       "            background-color:  #cbd8ee;\n",
       "            color:  #000000;\n",
       "        }#T_568ff_row6_col7,#T_568ff_row7_col6,#T_568ff_row9_col16,#T_568ff_row16_col9{\n",
       "            background-color:  #5572df;\n",
       "            color:  #000000;\n",
       "        }#T_568ff_row6_col9,#T_568ff_row9_col6{\n",
       "            background-color:  #a3c2fe;\n",
       "            color:  #000000;\n",
       "        }#T_568ff_row6_col22,#T_568ff_row15_col27,#T_568ff_row16_col28,#T_568ff_row16_col29,#T_568ff_row20_col22,#T_568ff_row21_col24,#T_568ff_row22_col6,#T_568ff_row22_col20,#T_568ff_row24_col21,#T_568ff_row25_col26,#T_568ff_row26_col25,#T_568ff_row27_col15,#T_568ff_row28_col16,#T_568ff_row29_col16{\n",
       "            background-color:  #799cf8;\n",
       "            color:  #000000;\n",
       "        }#T_568ff_row7_col8,#T_568ff_row8_col7{\n",
       "            background-color:  #445acc;\n",
       "            color:  #f1f1f1;\n",
       "        }#T_568ff_row7_col12,#T_568ff_row12_col7{\n",
       "            background-color:  #b5cdfa;\n",
       "            color:  #000000;\n",
       "        }#T_568ff_row7_col25,#T_568ff_row12_col19,#T_568ff_row14_col27,#T_568ff_row16_col19,#T_568ff_row19_col12,#T_568ff_row19_col16,#T_568ff_row25_col7,#T_568ff_row27_col14{\n",
       "            background-color:  #5d7ce6;\n",
       "            color:  #000000;\n",
       "        }#T_568ff_row7_col30,#T_568ff_row30_col7{\n",
       "            background-color:  #5977e3;\n",
       "            color:  #000000;\n",
       "        }#T_568ff_row8_col9,#T_568ff_row9_col8{\n",
       "            background-color:  #536edd;\n",
       "            color:  #000000;\n",
       "        }#T_568ff_row8_col16,#T_568ff_row16_col8,#T_568ff_row16_col25,#T_568ff_row25_col16{\n",
       "            background-color:  #5470de;\n",
       "            color:  #000000;\n",
       "        }#T_568ff_row8_col17,#T_568ff_row17_col8{\n",
       "            background-color:  #a2c1ff;\n",
       "            color:  #000000;\n",
       "        }#T_568ff_row8_col26,#T_568ff_row26_col8{\n",
       "            background-color:  #dadce0;\n",
       "            color:  #000000;\n",
       "        }#T_568ff_row21_col25,#T_568ff_row25_col21{\n",
       "            background-color:  #97b8ff;\n",
       "            color:  #000000;\n",
       "        }#T_568ff_row23_col25,#T_568ff_row25_col23{\n",
       "            background-color:  #c0d4f5;\n",
       "            color:  #000000;\n",
       "        }</style><table id=\"T_568ff_\" ><thead>    <tr>        <th class=\"blank level0\" ></th>        <th class=\"col_heading level0 col0\" >alcohol_reference</th>        <th class=\"col_heading level0 col1\" >animated_blood</th>        <th class=\"col_heading level0 col2\" >blood</th>        <th class=\"col_heading level0 col3\" >blood_and_gore</th>        <th class=\"col_heading level0 col4\" >cartoon_violence</th>        <th class=\"col_heading level0 col5\" >crude_humor</th>        <th class=\"col_heading level0 col6\" >drug_reference</th>        <th class=\"col_heading level0 col7\" >fantasy_violence</th>        <th class=\"col_heading level0 col8\" >intense_violence</th>        <th class=\"col_heading level0 col9\" >language</th>        <th class=\"col_heading level0 col10\" >lyrics</th>        <th class=\"col_heading level0 col11\" >mature_humor</th>        <th class=\"col_heading level0 col12\" >mild_blood</th>        <th class=\"col_heading level0 col13\" >mild_cartoon_violence</th>        <th class=\"col_heading level0 col14\" >mild_fantasy_violence</th>        <th class=\"col_heading level0 col15\" >mild_language</th>        <th class=\"col_heading level0 col16\" >mild_lyrics</th>        <th class=\"col_heading level0 col17\" >mild_suggestive_themes</th>        <th class=\"col_heading level0 col18\" >mild_violence</th>        <th class=\"col_heading level0 col19\" >no_descriptors</th>        <th class=\"col_heading level0 col20\" >nudity</th>        <th class=\"col_heading level0 col21\" >partial_nudity</th>        <th class=\"col_heading level0 col22\" >sexual_content</th>        <th class=\"col_heading level0 col23\" >sexual_themes</th>        <th class=\"col_heading level0 col24\" >simulated_gambling</th>        <th class=\"col_heading level0 col25\" >strong_language</th>        <th class=\"col_heading level0 col26\" >strong_sexual_content</th>        <th class=\"col_heading level0 col27\" >suggestive_themes</th>        <th class=\"col_heading level0 col28\" >use_of_alcohol</th>        <th class=\"col_heading level0 col29\" >use_of_drugs_and_alcohol</th>        <th class=\"col_heading level0 col30\" >violence</th>    </tr></thead><tbody>\n",
       "                <tr>\n",
       "                        <th id=\"T_568ff_level0_row0\" class=\"row_heading level0 row0\" >alcohol_reference</th>\n",
       "                        <td id=\"T_568ff_row0_col0\" class=\"data row0 col0\" >1.00</td>\n",
       "                        <td id=\"T_568ff_row0_col1\" class=\"data row0 col1\" >0.00</td>\n",
       "                        <td id=\"T_568ff_row0_col2\" class=\"data row0 col2\" >-0.08</td>\n",
       "                        <td id=\"T_568ff_row0_col3\" class=\"data row0 col3\" >-0.04</td>\n",
       "                        <td id=\"T_568ff_row0_col4\" class=\"data row0 col4\" >0.05</td>\n",
       "                        <td id=\"T_568ff_row0_col5\" class=\"data row0 col5\" >-0.00</td>\n",
       "                        <td id=\"T_568ff_row0_col6\" class=\"data row0 col6\" >0.01</td>\n",
       "                        <td id=\"T_568ff_row0_col7\" class=\"data row0 col7\" >-0.08</td>\n",
       "                        <td id=\"T_568ff_row0_col8\" class=\"data row0 col8\" >0.15</td>\n",
       "                        <td id=\"T_568ff_row0_col9\" class=\"data row0 col9\" >-0.03</td>\n",
       "                        <td id=\"T_568ff_row0_col10\" class=\"data row0 col10\" >0.08</td>\n",
       "                        <td id=\"T_568ff_row0_col11\" class=\"data row0 col11\" >0.11</td>\n",
       "                        <td id=\"T_568ff_row0_col12\" class=\"data row0 col12\" >0.02</td>\n",
       "                        <td id=\"T_568ff_row0_col13\" class=\"data row0 col13\" >0.12</td>\n",
       "                        <td id=\"T_568ff_row0_col14\" class=\"data row0 col14\" >-0.04</td>\n",
       "                        <td id=\"T_568ff_row0_col15\" class=\"data row0 col15\" >0.03</td>\n",
       "                        <td id=\"T_568ff_row0_col16\" class=\"data row0 col16\" >0.01</td>\n",
       "                        <td id=\"T_568ff_row0_col17\" class=\"data row0 col17\" >0.22</td>\n",
       "                        <td id=\"T_568ff_row0_col18\" class=\"data row0 col18\" >0.10</td>\n",
       "                        <td id=\"T_568ff_row0_col19\" class=\"data row0 col19\" >-0.06</td>\n",
       "                        <td id=\"T_568ff_row0_col20\" class=\"data row0 col20\" >0.03</td>\n",
       "                        <td id=\"T_568ff_row0_col21\" class=\"data row0 col21\" >-0.01</td>\n",
       "                        <td id=\"T_568ff_row0_col22\" class=\"data row0 col22\" >-0.04</td>\n",
       "                        <td id=\"T_568ff_row0_col23\" class=\"data row0 col23\" >-0.03</td>\n",
       "                        <td id=\"T_568ff_row0_col24\" class=\"data row0 col24\" >-0.00</td>\n",
       "                        <td id=\"T_568ff_row0_col25\" class=\"data row0 col25\" >-0.08</td>\n",
       "                        <td id=\"T_568ff_row0_col26\" class=\"data row0 col26\" >0.01</td>\n",
       "                        <td id=\"T_568ff_row0_col27\" class=\"data row0 col27\" >-0.00</td>\n",
       "                        <td id=\"T_568ff_row0_col28\" class=\"data row0 col28\" >0.16</td>\n",
       "                        <td id=\"T_568ff_row0_col29\" class=\"data row0 col29\" >-0.03</td>\n",
       "                        <td id=\"T_568ff_row0_col30\" class=\"data row0 col30\" >-0.04</td>\n",
       "            </tr>\n",
       "            <tr>\n",
       "                        <th id=\"T_568ff_level0_row1\" class=\"row_heading level0 row1\" >animated_blood</th>\n",
       "                        <td id=\"T_568ff_row1_col0\" class=\"data row1 col0\" >0.00</td>\n",
       "                        <td id=\"T_568ff_row1_col1\" class=\"data row1 col1\" >1.00</td>\n",
       "                        <td id=\"T_568ff_row1_col2\" class=\"data row1 col2\" >-0.05</td>\n",
       "                        <td id=\"T_568ff_row1_col3\" class=\"data row1 col3\" >-0.04</td>\n",
       "                        <td id=\"T_568ff_row1_col4\" class=\"data row1 col4\" >-0.01</td>\n",
       "                        <td id=\"T_568ff_row1_col5\" class=\"data row1 col5\" >-0.00</td>\n",
       "                        <td id=\"T_568ff_row1_col6\" class=\"data row1 col6\" >0.15</td>\n",
       "                        <td id=\"T_568ff_row1_col7\" class=\"data row1 col7\" >-0.03</td>\n",
       "                        <td id=\"T_568ff_row1_col8\" class=\"data row1 col8\" >0.09</td>\n",
       "                        <td id=\"T_568ff_row1_col9\" class=\"data row1 col9\" >0.05</td>\n",
       "                        <td id=\"T_568ff_row1_col10\" class=\"data row1 col10\" >-0.02</td>\n",
       "                        <td id=\"T_568ff_row1_col11\" class=\"data row1 col11\" >-0.01</td>\n",
       "                        <td id=\"T_568ff_row1_col12\" class=\"data row1 col12\" >0.03</td>\n",
       "                        <td id=\"T_568ff_row1_col13\" class=\"data row1 col13\" >-0.02</td>\n",
       "                        <td id=\"T_568ff_row1_col14\" class=\"data row1 col14\" >-0.02</td>\n",
       "                        <td id=\"T_568ff_row1_col15\" class=\"data row1 col15\" >-0.01</td>\n",
       "                        <td id=\"T_568ff_row1_col16\" class=\"data row1 col16\" >-0.03</td>\n",
       "                        <td id=\"T_568ff_row1_col17\" class=\"data row1 col17\" >0.06</td>\n",
       "                        <td id=\"T_568ff_row1_col18\" class=\"data row1 col18\" >-0.02</td>\n",
       "                        <td id=\"T_568ff_row1_col19\" class=\"data row1 col19\" >-0.03</td>\n",
       "                        <td id=\"T_568ff_row1_col20\" class=\"data row1 col20\" >-0.01</td>\n",
       "                        <td id=\"T_568ff_row1_col21\" class=\"data row1 col21\" >-0.01</td>\n",
       "                        <td id=\"T_568ff_row1_col22\" class=\"data row1 col22\" >-0.02</td>\n",
       "                        <td id=\"T_568ff_row1_col23\" class=\"data row1 col23\" >-0.02</td>\n",
       "                        <td id=\"T_568ff_row1_col24\" class=\"data row1 col24\" >-0.03</td>\n",
       "                        <td id=\"T_568ff_row1_col25\" class=\"data row1 col25\" >-0.02</td>\n",
       "                        <td id=\"T_568ff_row1_col26\" class=\"data row1 col26\" >-0.02</td>\n",
       "                        <td id=\"T_568ff_row1_col27\" class=\"data row1 col27\" >-0.04</td>\n",
       "                        <td id=\"T_568ff_row1_col28\" class=\"data row1 col28\" >0.07</td>\n",
       "                        <td id=\"T_568ff_row1_col29\" class=\"data row1 col29\" >0.03</td>\n",
       "                        <td id=\"T_568ff_row1_col30\" class=\"data row1 col30\" >0.02</td>\n",
       "            </tr>\n",
       "            <tr>\n",
       "                        <th id=\"T_568ff_level0_row2\" class=\"row_heading level0 row2\" >blood</th>\n",
       "                        <td id=\"T_568ff_row2_col0\" class=\"data row2 col0\" >-0.08</td>\n",
       "                        <td id=\"T_568ff_row2_col1\" class=\"data row2 col1\" >-0.05</td>\n",
       "                        <td id=\"T_568ff_row2_col2\" class=\"data row2 col2\" >1.00</td>\n",
       "                        <td id=\"T_568ff_row2_col3\" class=\"data row2 col3\" >-0.21</td>\n",
       "                        <td id=\"T_568ff_row2_col4\" class=\"data row2 col4\" >-0.07</td>\n",
       "                        <td id=\"T_568ff_row2_col5\" class=\"data row2 col5\" >-0.08</td>\n",
       "                        <td id=\"T_568ff_row2_col6\" class=\"data row2 col6\" >-0.04</td>\n",
       "                        <td id=\"T_568ff_row2_col7\" class=\"data row2 col7\" >-0.17</td>\n",
       "                        <td id=\"T_568ff_row2_col8\" class=\"data row2 col8\" >0.09</td>\n",
       "                        <td id=\"T_568ff_row2_col9\" class=\"data row2 col9\" >0.03</td>\n",
       "                        <td id=\"T_568ff_row2_col10\" class=\"data row2 col10\" >0.06</td>\n",
       "                        <td id=\"T_568ff_row2_col11\" class=\"data row2 col11\" >0.12</td>\n",
       "                        <td id=\"T_568ff_row2_col12\" class=\"data row2 col12\" >-0.13</td>\n",
       "                        <td id=\"T_568ff_row2_col13\" class=\"data row2 col13\" >-0.07</td>\n",
       "                        <td id=\"T_568ff_row2_col14\" class=\"data row2 col14\" >-0.12</td>\n",
       "                        <td id=\"T_568ff_row2_col15\" class=\"data row2 col15\" >-0.08</td>\n",
       "                        <td id=\"T_568ff_row2_col16\" class=\"data row2 col16\" >-0.01</td>\n",
       "                        <td id=\"T_568ff_row2_col17\" class=\"data row2 col17\" >-0.00</td>\n",
       "                        <td id=\"T_568ff_row2_col18\" class=\"data row2 col18\" >-0.08</td>\n",
       "                        <td id=\"T_568ff_row2_col19\" class=\"data row2 col19\" >-0.14</td>\n",
       "                        <td id=\"T_568ff_row2_col20\" class=\"data row2 col20\" >-0.02</td>\n",
       "                        <td id=\"T_568ff_row2_col21\" class=\"data row2 col21\" >0.05</td>\n",
       "                        <td id=\"T_568ff_row2_col22\" class=\"data row2 col22\" >0.08</td>\n",
       "                        <td id=\"T_568ff_row2_col23\" class=\"data row2 col23\" >0.07</td>\n",
       "                        <td id=\"T_568ff_row2_col24\" class=\"data row2 col24\" >0.11</td>\n",
       "                        <td id=\"T_568ff_row2_col25\" class=\"data row2 col25\" >0.29</td>\n",
       "                        <td id=\"T_568ff_row2_col26\" class=\"data row2 col26\" >-0.04</td>\n",
       "                        <td id=\"T_568ff_row2_col27\" class=\"data row2 col27\" >0.09</td>\n",
       "                        <td id=\"T_568ff_row2_col28\" class=\"data row2 col28\" >-0.04</td>\n",
       "                        <td id=\"T_568ff_row2_col29\" class=\"data row2 col29\" >-0.02</td>\n",
       "                        <td id=\"T_568ff_row2_col30\" class=\"data row2 col30\" >0.01</td>\n",
       "            </tr>\n",
       "            <tr>\n",
       "                        <th id=\"T_568ff_level0_row3\" class=\"row_heading level0 row3\" >blood_and_gore</th>\n",
       "                        <td id=\"T_568ff_row3_col0\" class=\"data row3 col0\" >-0.04</td>\n",
       "                        <td id=\"T_568ff_row3_col1\" class=\"data row3 col1\" >-0.04</td>\n",
       "                        <td id=\"T_568ff_row3_col2\" class=\"data row3 col2\" >-0.21</td>\n",
       "                        <td id=\"T_568ff_row3_col3\" class=\"data row3 col3\" >1.00</td>\n",
       "                        <td id=\"T_568ff_row3_col4\" class=\"data row3 col4\" >-0.04</td>\n",
       "                        <td id=\"T_568ff_row3_col5\" class=\"data row3 col5\" >-0.03</td>\n",
       "                        <td id=\"T_568ff_row3_col6\" class=\"data row3 col6\" >0.12</td>\n",
       "                        <td id=\"T_568ff_row3_col7\" class=\"data row3 col7\" >-0.17</td>\n",
       "                        <td id=\"T_568ff_row3_col8\" class=\"data row3 col8\" >0.29</td>\n",
       "                        <td id=\"T_568ff_row3_col9\" class=\"data row3 col9\" >0.10</td>\n",
       "                        <td id=\"T_568ff_row3_col10\" class=\"data row3 col10\" >0.05</td>\n",
       "                        <td id=\"T_568ff_row3_col11\" class=\"data row3 col11\" >-0.03</td>\n",
       "                        <td id=\"T_568ff_row3_col12\" class=\"data row3 col12\" >-0.07</td>\n",
       "                        <td id=\"T_568ff_row3_col13\" class=\"data row3 col13\" >-0.06</td>\n",
       "                        <td id=\"T_568ff_row3_col14\" class=\"data row3 col14\" >-0.08</td>\n",
       "                        <td id=\"T_568ff_row3_col15\" class=\"data row3 col15\" >-0.06</td>\n",
       "                        <td id=\"T_568ff_row3_col16\" class=\"data row3 col16\" >-0.09</td>\n",
       "                        <td id=\"T_568ff_row3_col17\" class=\"data row3 col17\" >-0.04</td>\n",
       "                        <td id=\"T_568ff_row3_col18\" class=\"data row3 col18\" >-0.05</td>\n",
       "                        <td id=\"T_568ff_row3_col19\" class=\"data row3 col19\" >-0.10</td>\n",
       "                        <td id=\"T_568ff_row3_col20\" class=\"data row3 col20\" >0.12</td>\n",
       "                        <td id=\"T_568ff_row3_col21\" class=\"data row3 col21\" >-0.00</td>\n",
       "                        <td id=\"T_568ff_row3_col22\" class=\"data row3 col22\" >0.14</td>\n",
       "                        <td id=\"T_568ff_row3_col23\" class=\"data row3 col23\" >0.12</td>\n",
       "                        <td id=\"T_568ff_row3_col24\" class=\"data row3 col24\" >0.01</td>\n",
       "                        <td id=\"T_568ff_row3_col25\" class=\"data row3 col25\" >0.22</td>\n",
       "                        <td id=\"T_568ff_row3_col26\" class=\"data row3 col26\" >0.34</td>\n",
       "                        <td id=\"T_568ff_row3_col27\" class=\"data row3 col27\" >-0.03</td>\n",
       "                        <td id=\"T_568ff_row3_col28\" class=\"data row3 col28\" >-0.01</td>\n",
       "                        <td id=\"T_568ff_row3_col29\" class=\"data row3 col29\" >0.05</td>\n",
       "                        <td id=\"T_568ff_row3_col30\" class=\"data row3 col30\" >0.06</td>\n",
       "            </tr>\n",
       "            <tr>\n",
       "                        <th id=\"T_568ff_level0_row4\" class=\"row_heading level0 row4\" >cartoon_violence</th>\n",
       "                        <td id=\"T_568ff_row4_col0\" class=\"data row4 col0\" >0.05</td>\n",
       "                        <td id=\"T_568ff_row4_col1\" class=\"data row4 col1\" >-0.01</td>\n",
       "                        <td id=\"T_568ff_row4_col2\" class=\"data row4 col2\" >-0.07</td>\n",
       "                        <td id=\"T_568ff_row4_col3\" class=\"data row4 col3\" >-0.04</td>\n",
       "                        <td id=\"T_568ff_row4_col4\" class=\"data row4 col4\" >1.00</td>\n",
       "                        <td id=\"T_568ff_row4_col5\" class=\"data row4 col5\" >-0.02</td>\n",
       "                        <td id=\"T_568ff_row4_col6\" class=\"data row4 col6\" >0.01</td>\n",
       "                        <td id=\"T_568ff_row4_col7\" class=\"data row4 col7\" >-0.08</td>\n",
       "                        <td id=\"T_568ff_row4_col8\" class=\"data row4 col8\" >-0.05</td>\n",
       "                        <td id=\"T_568ff_row4_col9\" class=\"data row4 col9\" >-0.05</td>\n",
       "                        <td id=\"T_568ff_row4_col10\" class=\"data row4 col10\" >0.04</td>\n",
       "                        <td id=\"T_568ff_row4_col11\" class=\"data row4 col11\" >-0.02</td>\n",
       "                        <td id=\"T_568ff_row4_col12\" class=\"data row4 col12\" >-0.04</td>\n",
       "                        <td id=\"T_568ff_row4_col13\" class=\"data row4 col13\" >0.00</td>\n",
       "                        <td id=\"T_568ff_row4_col14\" class=\"data row4 col14\" >-0.01</td>\n",
       "                        <td id=\"T_568ff_row4_col15\" class=\"data row4 col15\" >-0.02</td>\n",
       "                        <td id=\"T_568ff_row4_col16\" class=\"data row4 col16\" >0.00</td>\n",
       "                        <td id=\"T_568ff_row4_col17\" class=\"data row4 col17\" >0.08</td>\n",
       "                        <td id=\"T_568ff_row4_col18\" class=\"data row4 col18\" >0.02</td>\n",
       "                        <td id=\"T_568ff_row4_col19\" class=\"data row4 col19\" >-0.04</td>\n",
       "                        <td id=\"T_568ff_row4_col20\" class=\"data row4 col20\" >-0.02</td>\n",
       "                        <td id=\"T_568ff_row4_col21\" class=\"data row4 col21\" >-0.02</td>\n",
       "                        <td id=\"T_568ff_row4_col22\" class=\"data row4 col22\" >-0.03</td>\n",
       "                        <td id=\"T_568ff_row4_col23\" class=\"data row4 col23\" >0.03</td>\n",
       "                        <td id=\"T_568ff_row4_col24\" class=\"data row4 col24\" >-0.02</td>\n",
       "                        <td id=\"T_568ff_row4_col25\" class=\"data row4 col25\" >-0.05</td>\n",
       "                        <td id=\"T_568ff_row4_col26\" class=\"data row4 col26\" >-0.03</td>\n",
       "                        <td id=\"T_568ff_row4_col27\" class=\"data row4 col27\" >0.01</td>\n",
       "                        <td id=\"T_568ff_row4_col28\" class=\"data row4 col28\" >0.04</td>\n",
       "                        <td id=\"T_568ff_row4_col29\" class=\"data row4 col29\" >0.01</td>\n",
       "                        <td id=\"T_568ff_row4_col30\" class=\"data row4 col30\" >-0.04</td>\n",
       "            </tr>\n",
       "            <tr>\n",
       "                        <th id=\"T_568ff_level0_row5\" class=\"row_heading level0 row5\" >crude_humor</th>\n",
       "                        <td id=\"T_568ff_row5_col0\" class=\"data row5 col0\" >-0.00</td>\n",
       "                        <td id=\"T_568ff_row5_col1\" class=\"data row5 col1\" >-0.00</td>\n",
       "                        <td id=\"T_568ff_row5_col2\" class=\"data row5 col2\" >-0.08</td>\n",
       "                        <td id=\"T_568ff_row5_col3\" class=\"data row5 col3\" >-0.03</td>\n",
       "                        <td id=\"T_568ff_row5_col4\" class=\"data row5 col4\" >-0.02</td>\n",
       "                        <td id=\"T_568ff_row5_col5\" class=\"data row5 col5\" >1.00</td>\n",
       "                        <td id=\"T_568ff_row5_col6\" class=\"data row5 col6\" >-0.05</td>\n",
       "                        <td id=\"T_568ff_row5_col7\" class=\"data row5 col7\" >-0.08</td>\n",
       "                        <td id=\"T_568ff_row5_col8\" class=\"data row5 col8\" >0.09</td>\n",
       "                        <td id=\"T_568ff_row5_col9\" class=\"data row5 col9\" >-0.06</td>\n",
       "                        <td id=\"T_568ff_row5_col10\" class=\"data row5 col10\" >0.03</td>\n",
       "                        <td id=\"T_568ff_row5_col11\" class=\"data row5 col11\" >0.02</td>\n",
       "                        <td id=\"T_568ff_row5_col12\" class=\"data row5 col12\" >-0.06</td>\n",
       "                        <td id=\"T_568ff_row5_col13\" class=\"data row5 col13\" >0.10</td>\n",
       "                        <td id=\"T_568ff_row5_col14\" class=\"data row5 col14\" >-0.02</td>\n",
       "                        <td id=\"T_568ff_row5_col15\" class=\"data row5 col15\" >0.01</td>\n",
       "                        <td id=\"T_568ff_row5_col16\" class=\"data row5 col16\" >-0.06</td>\n",
       "                        <td id=\"T_568ff_row5_col17\" class=\"data row5 col17\" >0.08</td>\n",
       "                        <td id=\"T_568ff_row5_col18\" class=\"data row5 col18\" >-0.03</td>\n",
       "                        <td id=\"T_568ff_row5_col19\" class=\"data row5 col19\" >-0.06</td>\n",
       "                        <td id=\"T_568ff_row5_col20\" class=\"data row5 col20\" >0.01</td>\n",
       "                        <td id=\"T_568ff_row5_col21\" class=\"data row5 col21\" >0.01</td>\n",
       "                        <td id=\"T_568ff_row5_col22\" class=\"data row5 col22\" >-0.03</td>\n",
       "                        <td id=\"T_568ff_row5_col23\" class=\"data row5 col23\" >-0.03</td>\n",
       "                        <td id=\"T_568ff_row5_col24\" class=\"data row5 col24\" >0.32</td>\n",
       "                        <td id=\"T_568ff_row5_col25\" class=\"data row5 col25\" >-0.07</td>\n",
       "                        <td id=\"T_568ff_row5_col26\" class=\"data row5 col26\" >0.02</td>\n",
       "                        <td id=\"T_568ff_row5_col27\" class=\"data row5 col27\" >-0.03</td>\n",
       "                        <td id=\"T_568ff_row5_col28\" class=\"data row5 col28\" >-0.01</td>\n",
       "                        <td id=\"T_568ff_row5_col29\" class=\"data row5 col29\" >-0.03</td>\n",
       "                        <td id=\"T_568ff_row5_col30\" class=\"data row5 col30\" >-0.01</td>\n",
       "            </tr>\n",
       "            <tr>\n",
       "                        <th id=\"T_568ff_level0_row6\" class=\"row_heading level0 row6\" >drug_reference</th>\n",
       "                        <td id=\"T_568ff_row6_col0\" class=\"data row6 col0\" >0.01</td>\n",
       "                        <td id=\"T_568ff_row6_col1\" class=\"data row6 col1\" >0.15</td>\n",
       "                        <td id=\"T_568ff_row6_col2\" class=\"data row6 col2\" >-0.04</td>\n",
       "                        <td id=\"T_568ff_row6_col3\" class=\"data row6 col3\" >0.12</td>\n",
       "                        <td id=\"T_568ff_row6_col4\" class=\"data row6 col4\" >0.01</td>\n",
       "                        <td id=\"T_568ff_row6_col5\" class=\"data row6 col5\" >-0.05</td>\n",
       "                        <td id=\"T_568ff_row6_col6\" class=\"data row6 col6\" >1.00</td>\n",
       "                        <td id=\"T_568ff_row6_col7\" class=\"data row6 col7\" >-0.10</td>\n",
       "                        <td id=\"T_568ff_row6_col8\" class=\"data row6 col8\" >0.02</td>\n",
       "                        <td id=\"T_568ff_row6_col9\" class=\"data row6 col9\" >0.17</td>\n",
       "                        <td id=\"T_568ff_row6_col10\" class=\"data row6 col10\" >0.05</td>\n",
       "                        <td id=\"T_568ff_row6_col11\" class=\"data row6 col11\" >0.06</td>\n",
       "                        <td id=\"T_568ff_row6_col12\" class=\"data row6 col12\" >0.14</td>\n",
       "                        <td id=\"T_568ff_row6_col13\" class=\"data row6 col13\" >-0.01</td>\n",
       "                        <td id=\"T_568ff_row6_col14\" class=\"data row6 col14\" >-0.03</td>\n",
       "                        <td id=\"T_568ff_row6_col15\" class=\"data row6 col15\" >-0.03</td>\n",
       "                        <td id=\"T_568ff_row6_col16\" class=\"data row6 col16\" >0.01</td>\n",
       "                        <td id=\"T_568ff_row6_col17\" class=\"data row6 col17\" >0.02</td>\n",
       "                        <td id=\"T_568ff_row6_col18\" class=\"data row6 col18\" >0.01</td>\n",
       "                        <td id=\"T_568ff_row6_col19\" class=\"data row6 col19\" >-0.05</td>\n",
       "                        <td id=\"T_568ff_row6_col20\" class=\"data row6 col20\" >0.02</td>\n",
       "                        <td id=\"T_568ff_row6_col21\" class=\"data row6 col21\" >0.05</td>\n",
       "                        <td id=\"T_568ff_row6_col22\" class=\"data row6 col22\" >0.03</td>\n",
       "                        <td id=\"T_568ff_row6_col23\" class=\"data row6 col23\" >0.09</td>\n",
       "                        <td id=\"T_568ff_row6_col24\" class=\"data row6 col24\" >0.06</td>\n",
       "                        <td id=\"T_568ff_row6_col25\" class=\"data row6 col25\" >0.16</td>\n",
       "                        <td id=\"T_568ff_row6_col26\" class=\"data row6 col26\" >0.07</td>\n",
       "                        <td id=\"T_568ff_row6_col27\" class=\"data row6 col27\" >0.04</td>\n",
       "                        <td id=\"T_568ff_row6_col28\" class=\"data row6 col28\" >-0.02</td>\n",
       "                        <td id=\"T_568ff_row6_col29\" class=\"data row6 col29\" >-0.02</td>\n",
       "                        <td id=\"T_568ff_row6_col30\" class=\"data row6 col30\" >-0.00</td>\n",
       "            </tr>\n",
       "            <tr>\n",
       "                        <th id=\"T_568ff_level0_row7\" class=\"row_heading level0 row7\" >fantasy_violence</th>\n",
       "                        <td id=\"T_568ff_row7_col0\" class=\"data row7 col0\" >-0.08</td>\n",
       "                        <td id=\"T_568ff_row7_col1\" class=\"data row7 col1\" >-0.03</td>\n",
       "                        <td id=\"T_568ff_row7_col2\" class=\"data row7 col2\" >-0.17</td>\n",
       "                        <td id=\"T_568ff_row7_col3\" class=\"data row7 col3\" >-0.17</td>\n",
       "                        <td id=\"T_568ff_row7_col4\" class=\"data row7 col4\" >-0.08</td>\n",
       "                        <td id=\"T_568ff_row7_col5\" class=\"data row7 col5\" >-0.08</td>\n",
       "                        <td id=\"T_568ff_row7_col6\" class=\"data row7 col6\" >-0.10</td>\n",
       "                        <td id=\"T_568ff_row7_col7\" class=\"data row7 col7\" >1.00</td>\n",
       "                        <td id=\"T_568ff_row7_col8\" class=\"data row7 col8\" >-0.17</td>\n",
       "                        <td id=\"T_568ff_row7_col9\" class=\"data row7 col9\" >-0.00</td>\n",
       "                        <td id=\"T_568ff_row7_col10\" class=\"data row7 col10\" >-0.03</td>\n",
       "                        <td id=\"T_568ff_row7_col11\" class=\"data row7 col11\" >0.06</td>\n",
       "                        <td id=\"T_568ff_row7_col12\" class=\"data row7 col12\" >0.23</td>\n",
       "                        <td id=\"T_568ff_row7_col13\" class=\"data row7 col13\" >-0.07</td>\n",
       "                        <td id=\"T_568ff_row7_col14\" class=\"data row7 col14\" >-0.11</td>\n",
       "                        <td id=\"T_568ff_row7_col15\" class=\"data row7 col15\" >-0.08</td>\n",
       "                        <td id=\"T_568ff_row7_col16\" class=\"data row7 col16\" >0.10</td>\n",
       "                        <td id=\"T_568ff_row7_col17\" class=\"data row7 col17\" >0.03</td>\n",
       "                        <td id=\"T_568ff_row7_col18\" class=\"data row7 col18\" >-0.01</td>\n",
       "                        <td id=\"T_568ff_row7_col19\" class=\"data row7 col19\" >-0.14</td>\n",
       "                        <td id=\"T_568ff_row7_col20\" class=\"data row7 col20\" >-0.01</td>\n",
       "                        <td id=\"T_568ff_row7_col21\" class=\"data row7 col21\" >-0.05</td>\n",
       "                        <td id=\"T_568ff_row7_col22\" class=\"data row7 col22\" >-0.04</td>\n",
       "                        <td id=\"T_568ff_row7_col23\" class=\"data row7 col23\" >-0.04</td>\n",
       "                        <td id=\"T_568ff_row7_col24\" class=\"data row7 col24\" >-0.04</td>\n",
       "                        <td id=\"T_568ff_row7_col25\" class=\"data row7 col25\" >-0.07</td>\n",
       "                        <td id=\"T_568ff_row7_col26\" class=\"data row7 col26\" >-0.05</td>\n",
       "                        <td id=\"T_568ff_row7_col27\" class=\"data row7 col27\" >0.08</td>\n",
       "                        <td id=\"T_568ff_row7_col28\" class=\"data row7 col28\" >0.00</td>\n",
       "                        <td id=\"T_568ff_row7_col29\" class=\"data row7 col29\" >0.00</td>\n",
       "                        <td id=\"T_568ff_row7_col30\" class=\"data row7 col30\" >-0.09</td>\n",
       "            </tr>\n",
       "            <tr>\n",
       "                        <th id=\"T_568ff_level0_row8\" class=\"row_heading level0 row8\" >intense_violence</th>\n",
       "                        <td id=\"T_568ff_row8_col0\" class=\"data row8 col0\" >0.15</td>\n",
       "                        <td id=\"T_568ff_row8_col1\" class=\"data row8 col1\" >0.09</td>\n",
       "                        <td id=\"T_568ff_row8_col2\" class=\"data row8 col2\" >0.09</td>\n",
       "                        <td id=\"T_568ff_row8_col3\" class=\"data row8 col3\" >0.29</td>\n",
       "                        <td id=\"T_568ff_row8_col4\" class=\"data row8 col4\" >-0.05</td>\n",
       "                        <td id=\"T_568ff_row8_col5\" class=\"data row8 col5\" >0.09</td>\n",
       "                        <td id=\"T_568ff_row8_col6\" class=\"data row8 col6\" >0.02</td>\n",
       "                        <td id=\"T_568ff_row8_col7\" class=\"data row8 col7\" >-0.17</td>\n",
       "                        <td id=\"T_568ff_row8_col8\" class=\"data row8 col8\" >1.00</td>\n",
       "                        <td id=\"T_568ff_row8_col9\" class=\"data row8 col9\" >-0.11</td>\n",
       "                        <td id=\"T_568ff_row8_col10\" class=\"data row8 col10\" >0.07</td>\n",
       "                        <td id=\"T_568ff_row8_col11\" class=\"data row8 col11\" >0.05</td>\n",
       "                        <td id=\"T_568ff_row8_col12\" class=\"data row8 col12\" >-0.06</td>\n",
       "                        <td id=\"T_568ff_row8_col13\" class=\"data row8 col13\" >0.09</td>\n",
       "                        <td id=\"T_568ff_row8_col14\" class=\"data row8 col14\" >-0.07</td>\n",
       "                        <td id=\"T_568ff_row8_col15\" class=\"data row8 col15\" >-0.05</td>\n",
       "                        <td id=\"T_568ff_row8_col16\" class=\"data row8 col16\" >-0.11</td>\n",
       "                        <td id=\"T_568ff_row8_col17\" class=\"data row8 col17\" >0.17</td>\n",
       "                        <td id=\"T_568ff_row8_col18\" class=\"data row8 col18\" >0.01</td>\n",
       "                        <td id=\"T_568ff_row8_col19\" class=\"data row8 col19\" >-0.09</td>\n",
       "                        <td id=\"T_568ff_row8_col20\" class=\"data row8 col20\" >0.09</td>\n",
       "                        <td id=\"T_568ff_row8_col21\" class=\"data row8 col21\" >-0.04</td>\n",
       "                        <td id=\"T_568ff_row8_col22\" class=\"data row8 col22\" >0.00</td>\n",
       "                        <td id=\"T_568ff_row8_col23\" class=\"data row8 col23\" >0.02</td>\n",
       "                        <td id=\"T_568ff_row8_col24\" class=\"data row8 col24\" >0.01</td>\n",
       "                        <td id=\"T_568ff_row8_col25\" class=\"data row8 col25\" >0.10</td>\n",
       "                        <td id=\"T_568ff_row8_col26\" class=\"data row8 col26\" >0.39</td>\n",
       "                        <td id=\"T_568ff_row8_col27\" class=\"data row8 col27\" >-0.01</td>\n",
       "                        <td id=\"T_568ff_row8_col28\" class=\"data row8 col28\" >0.06</td>\n",
       "                        <td id=\"T_568ff_row8_col29\" class=\"data row8 col29\" >0.01</td>\n",
       "                        <td id=\"T_568ff_row8_col30\" class=\"data row8 col30\" >-0.01</td>\n",
       "            </tr>\n",
       "            <tr>\n",
       "                        <th id=\"T_568ff_level0_row9\" class=\"row_heading level0 row9\" >language</th>\n",
       "                        <td id=\"T_568ff_row9_col0\" class=\"data row9 col0\" >-0.03</td>\n",
       "                        <td id=\"T_568ff_row9_col1\" class=\"data row9 col1\" >0.05</td>\n",
       "                        <td id=\"T_568ff_row9_col2\" class=\"data row9 col2\" >0.03</td>\n",
       "                        <td id=\"T_568ff_row9_col3\" class=\"data row9 col3\" >0.10</td>\n",
       "                        <td id=\"T_568ff_row9_col4\" class=\"data row9 col4\" >-0.05</td>\n",
       "                        <td id=\"T_568ff_row9_col5\" class=\"data row9 col5\" >-0.06</td>\n",
       "                        <td id=\"T_568ff_row9_col6\" class=\"data row9 col6\" >0.17</td>\n",
       "                        <td id=\"T_568ff_row9_col7\" class=\"data row9 col7\" >-0.00</td>\n",
       "                        <td id=\"T_568ff_row9_col8\" class=\"data row9 col8\" >-0.11</td>\n",
       "                        <td id=\"T_568ff_row9_col9\" class=\"data row9 col9\" >1.00</td>\n",
       "                        <td id=\"T_568ff_row9_col10\" class=\"data row9 col10\" >-0.04</td>\n",
       "                        <td id=\"T_568ff_row9_col11\" class=\"data row9 col11\" >-0.01</td>\n",
       "                        <td id=\"T_568ff_row9_col12\" class=\"data row9 col12\" >0.04</td>\n",
       "                        <td id=\"T_568ff_row9_col13\" class=\"data row9 col13\" >-0.05</td>\n",
       "                        <td id=\"T_568ff_row9_col14\" class=\"data row9 col14\" >-0.05</td>\n",
       "                        <td id=\"T_568ff_row9_col15\" class=\"data row9 col15\" >-0.02</td>\n",
       "                        <td id=\"T_568ff_row9_col16\" class=\"data row9 col16\" >-0.10</td>\n",
       "                        <td id=\"T_568ff_row9_col17\" class=\"data row9 col17\" >-0.08</td>\n",
       "                        <td id=\"T_568ff_row9_col18\" class=\"data row9 col18\" >-0.01</td>\n",
       "                        <td id=\"T_568ff_row9_col19\" class=\"data row9 col19\" >-0.09</td>\n",
       "                        <td id=\"T_568ff_row9_col20\" class=\"data row9 col20\" >0.08</td>\n",
       "                        <td id=\"T_568ff_row9_col21\" class=\"data row9 col21\" >0.02</td>\n",
       "                        <td id=\"T_568ff_row9_col22\" class=\"data row9 col22\" >-0.03</td>\n",
       "                        <td id=\"T_568ff_row9_col23\" class=\"data row9 col23\" >0.09</td>\n",
       "                        <td id=\"T_568ff_row9_col24\" class=\"data row9 col24\" >0.04</td>\n",
       "                        <td id=\"T_568ff_row9_col25\" class=\"data row9 col25\" >0.02</td>\n",
       "                        <td id=\"T_568ff_row9_col26\" class=\"data row9 col26\" >-0.01</td>\n",
       "                        <td id=\"T_568ff_row9_col27\" class=\"data row9 col27\" >0.08</td>\n",
       "                        <td id=\"T_568ff_row9_col28\" class=\"data row9 col28\" >-0.00</td>\n",
       "                        <td id=\"T_568ff_row9_col29\" class=\"data row9 col29\" >0.02</td>\n",
       "                        <td id=\"T_568ff_row9_col30\" class=\"data row9 col30\" >-0.02</td>\n",
       "            </tr>\n",
       "            <tr>\n",
       "                        <th id=\"T_568ff_level0_row10\" class=\"row_heading level0 row10\" >lyrics</th>\n",
       "                        <td id=\"T_568ff_row10_col0\" class=\"data row10 col0\" >0.08</td>\n",
       "                        <td id=\"T_568ff_row10_col1\" class=\"data row10 col1\" >-0.02</td>\n",
       "                        <td id=\"T_568ff_row10_col2\" class=\"data row10 col2\" >0.06</td>\n",
       "                        <td id=\"T_568ff_row10_col3\" class=\"data row10 col3\" >0.05</td>\n",
       "                        <td id=\"T_568ff_row10_col4\" class=\"data row10 col4\" >0.04</td>\n",
       "                        <td id=\"T_568ff_row10_col5\" class=\"data row10 col5\" >0.03</td>\n",
       "                        <td id=\"T_568ff_row10_col6\" class=\"data row10 col6\" >0.05</td>\n",
       "                        <td id=\"T_568ff_row10_col7\" class=\"data row10 col7\" >-0.03</td>\n",
       "                        <td id=\"T_568ff_row10_col8\" class=\"data row10 col8\" >0.07</td>\n",
       "                        <td id=\"T_568ff_row10_col9\" class=\"data row10 col9\" >-0.04</td>\n",
       "                        <td id=\"T_568ff_row10_col10\" class=\"data row10 col10\" >1.00</td>\n",
       "                        <td id=\"T_568ff_row10_col11\" class=\"data row10 col11\" >-0.02</td>\n",
       "                        <td id=\"T_568ff_row10_col12\" class=\"data row10 col12\" >0.02</td>\n",
       "                        <td id=\"T_568ff_row10_col13\" class=\"data row10 col13\" >-0.01</td>\n",
       "                        <td id=\"T_568ff_row10_col14\" class=\"data row10 col14\" >-0.01</td>\n",
       "                        <td id=\"T_568ff_row10_col15\" class=\"data row10 col15\" >-0.03</td>\n",
       "                        <td id=\"T_568ff_row10_col16\" class=\"data row10 col16\" >-0.05</td>\n",
       "                        <td id=\"T_568ff_row10_col17\" class=\"data row10 col17\" >-0.04</td>\n",
       "                        <td id=\"T_568ff_row10_col18\" class=\"data row10 col18\" >-0.04</td>\n",
       "                        <td id=\"T_568ff_row10_col19\" class=\"data row10 col19\" >-0.05</td>\n",
       "                        <td id=\"T_568ff_row10_col20\" class=\"data row10 col20\" >0.07</td>\n",
       "                        <td id=\"T_568ff_row10_col21\" class=\"data row10 col21\" >0.00</td>\n",
       "                        <td id=\"T_568ff_row10_col22\" class=\"data row10 col22\" >-0.02</td>\n",
       "                        <td id=\"T_568ff_row10_col23\" class=\"data row10 col23\" >0.11</td>\n",
       "                        <td id=\"T_568ff_row10_col24\" class=\"data row10 col24\" >0.15</td>\n",
       "                        <td id=\"T_568ff_row10_col25\" class=\"data row10 col25\" >-0.01</td>\n",
       "                        <td id=\"T_568ff_row10_col26\" class=\"data row10 col26\" >-0.02</td>\n",
       "                        <td id=\"T_568ff_row10_col27\" class=\"data row10 col27\" >0.10</td>\n",
       "                        <td id=\"T_568ff_row10_col28\" class=\"data row10 col28\" >0.00</td>\n",
       "                        <td id=\"T_568ff_row10_col29\" class=\"data row10 col29\" >0.02</td>\n",
       "                        <td id=\"T_568ff_row10_col30\" class=\"data row10 col30\" >0.05</td>\n",
       "            </tr>\n",
       "            <tr>\n",
       "                        <th id=\"T_568ff_level0_row11\" class=\"row_heading level0 row11\" >mature_humor</th>\n",
       "                        <td id=\"T_568ff_row11_col0\" class=\"data row11 col0\" >0.11</td>\n",
       "                        <td id=\"T_568ff_row11_col1\" class=\"data row11 col1\" >-0.01</td>\n",
       "                        <td id=\"T_568ff_row11_col2\" class=\"data row11 col2\" >0.12</td>\n",
       "                        <td id=\"T_568ff_row11_col3\" class=\"data row11 col3\" >-0.03</td>\n",
       "                        <td id=\"T_568ff_row11_col4\" class=\"data row11 col4\" >-0.02</td>\n",
       "                        <td id=\"T_568ff_row11_col5\" class=\"data row11 col5\" >0.02</td>\n",
       "                        <td id=\"T_568ff_row11_col6\" class=\"data row11 col6\" >0.06</td>\n",
       "                        <td id=\"T_568ff_row11_col7\" class=\"data row11 col7\" >0.06</td>\n",
       "                        <td id=\"T_568ff_row11_col8\" class=\"data row11 col8\" >0.05</td>\n",
       "                        <td id=\"T_568ff_row11_col9\" class=\"data row11 col9\" >-0.01</td>\n",
       "                        <td id=\"T_568ff_row11_col10\" class=\"data row11 col10\" >-0.02</td>\n",
       "                        <td id=\"T_568ff_row11_col11\" class=\"data row11 col11\" >1.00</td>\n",
       "                        <td id=\"T_568ff_row11_col12\" class=\"data row11 col12\" >0.01</td>\n",
       "                        <td id=\"T_568ff_row11_col13\" class=\"data row11 col13\" >0.02</td>\n",
       "                        <td id=\"T_568ff_row11_col14\" class=\"data row11 col14\" >-0.02</td>\n",
       "                        <td id=\"T_568ff_row11_col15\" class=\"data row11 col15\" >-0.02</td>\n",
       "                        <td id=\"T_568ff_row11_col16\" class=\"data row11 col16\" >-0.03</td>\n",
       "                        <td id=\"T_568ff_row11_col17\" class=\"data row11 col17\" >-0.02</td>\n",
       "                        <td id=\"T_568ff_row11_col18\" class=\"data row11 col18\" >-0.02</td>\n",
       "                        <td id=\"T_568ff_row11_col19\" class=\"data row11 col19\" >-0.03</td>\n",
       "                        <td id=\"T_568ff_row11_col20\" class=\"data row11 col20\" >0.07</td>\n",
       "                        <td id=\"T_568ff_row11_col21\" class=\"data row11 col21\" >0.03</td>\n",
       "                        <td id=\"T_568ff_row11_col22\" class=\"data row11 col22\" >-0.02</td>\n",
       "                        <td id=\"T_568ff_row11_col23\" class=\"data row11 col23\" >-0.03</td>\n",
       "                        <td id=\"T_568ff_row11_col24\" class=\"data row11 col24\" >0.09</td>\n",
       "                        <td id=\"T_568ff_row11_col25\" class=\"data row11 col25\" >-0.02</td>\n",
       "                        <td id=\"T_568ff_row11_col26\" class=\"data row11 col26\" >0.01</td>\n",
       "                        <td id=\"T_568ff_row11_col27\" class=\"data row11 col27\" >0.11</td>\n",
       "                        <td id=\"T_568ff_row11_col28\" class=\"data row11 col28\" >-0.01</td>\n",
       "                        <td id=\"T_568ff_row11_col29\" class=\"data row11 col29\" >-0.01</td>\n",
       "                        <td id=\"T_568ff_row11_col30\" class=\"data row11 col30\" >-0.03</td>\n",
       "            </tr>\n",
       "            <tr>\n",
       "                        <th id=\"T_568ff_level0_row12\" class=\"row_heading level0 row12\" >mild_blood</th>\n",
       "                        <td id=\"T_568ff_row12_col0\" class=\"data row12 col0\" >0.02</td>\n",
       "                        <td id=\"T_568ff_row12_col1\" class=\"data row12 col1\" >0.03</td>\n",
       "                        <td id=\"T_568ff_row12_col2\" class=\"data row12 col2\" >-0.13</td>\n",
       "                        <td id=\"T_568ff_row12_col3\" class=\"data row12 col3\" >-0.07</td>\n",
       "                        <td id=\"T_568ff_row12_col4\" class=\"data row12 col4\" >-0.04</td>\n",
       "                        <td id=\"T_568ff_row12_col5\" class=\"data row12 col5\" >-0.06</td>\n",
       "                        <td id=\"T_568ff_row12_col6\" class=\"data row12 col6\" >0.14</td>\n",
       "                        <td id=\"T_568ff_row12_col7\" class=\"data row12 col7\" >0.23</td>\n",
       "                        <td id=\"T_568ff_row12_col8\" class=\"data row12 col8\" >-0.06</td>\n",
       "                        <td id=\"T_568ff_row12_col9\" class=\"data row12 col9\" >0.04</td>\n",
       "                        <td id=\"T_568ff_row12_col10\" class=\"data row12 col10\" >0.02</td>\n",
       "                        <td id=\"T_568ff_row12_col11\" class=\"data row12 col11\" >0.01</td>\n",
       "                        <td id=\"T_568ff_row12_col12\" class=\"data row12 col12\" >1.00</td>\n",
       "                        <td id=\"T_568ff_row12_col13\" class=\"data row12 col13\" >-0.04</td>\n",
       "                        <td id=\"T_568ff_row12_col14\" class=\"data row12 col14\" >-0.06</td>\n",
       "                        <td id=\"T_568ff_row12_col15\" class=\"data row12 col15\" >-0.01</td>\n",
       "                        <td id=\"T_568ff_row12_col16\" class=\"data row12 col16\" >-0.00</td>\n",
       "                        <td id=\"T_568ff_row12_col17\" class=\"data row12 col17\" >0.10</td>\n",
       "                        <td id=\"T_568ff_row12_col18\" class=\"data row12 col18\" >0.06</td>\n",
       "                        <td id=\"T_568ff_row12_col19\" class=\"data row12 col19\" >-0.07</td>\n",
       "                        <td id=\"T_568ff_row12_col20\" class=\"data row12 col20\" >0.07</td>\n",
       "                        <td id=\"T_568ff_row12_col21\" class=\"data row12 col21\" >0.00</td>\n",
       "                        <td id=\"T_568ff_row12_col22\" class=\"data row12 col22\" >-0.03</td>\n",
       "                        <td id=\"T_568ff_row12_col23\" class=\"data row12 col23\" >-0.01</td>\n",
       "                        <td id=\"T_568ff_row12_col24\" class=\"data row12 col24\" >0.00</td>\n",
       "                        <td id=\"T_568ff_row12_col25\" class=\"data row12 col25\" >-0.04</td>\n",
       "                        <td id=\"T_568ff_row12_col26\" class=\"data row12 col26\" >-0.02</td>\n",
       "                        <td id=\"T_568ff_row12_col27\" class=\"data row12 col27\" >0.08</td>\n",
       "                        <td id=\"T_568ff_row12_col28\" class=\"data row12 col28\" >0.03</td>\n",
       "                        <td id=\"T_568ff_row12_col29\" class=\"data row12 col29\" >-0.02</td>\n",
       "                        <td id=\"T_568ff_row12_col30\" class=\"data row12 col30\" >-0.02</td>\n",
       "            </tr>\n",
       "            <tr>\n",
       "                        <th id=\"T_568ff_level0_row13\" class=\"row_heading level0 row13\" >mild_cartoon_violence</th>\n",
       "                        <td id=\"T_568ff_row13_col0\" class=\"data row13 col0\" >0.12</td>\n",
       "                        <td id=\"T_568ff_row13_col1\" class=\"data row13 col1\" >-0.02</td>\n",
       "                        <td id=\"T_568ff_row13_col2\" class=\"data row13 col2\" >-0.07</td>\n",
       "                        <td id=\"T_568ff_row13_col3\" class=\"data row13 col3\" >-0.06</td>\n",
       "                        <td id=\"T_568ff_row13_col4\" class=\"data row13 col4\" >0.00</td>\n",
       "                        <td id=\"T_568ff_row13_col5\" class=\"data row13 col5\" >0.10</td>\n",
       "                        <td id=\"T_568ff_row13_col6\" class=\"data row13 col6\" >-0.01</td>\n",
       "                        <td id=\"T_568ff_row13_col7\" class=\"data row13 col7\" >-0.07</td>\n",
       "                        <td id=\"T_568ff_row13_col8\" class=\"data row13 col8\" >0.09</td>\n",
       "                        <td id=\"T_568ff_row13_col9\" class=\"data row13 col9\" >-0.05</td>\n",
       "                        <td id=\"T_568ff_row13_col10\" class=\"data row13 col10\" >-0.01</td>\n",
       "                        <td id=\"T_568ff_row13_col11\" class=\"data row13 col11\" >0.02</td>\n",
       "                        <td id=\"T_568ff_row13_col12\" class=\"data row13 col12\" >-0.04</td>\n",
       "                        <td id=\"T_568ff_row13_col13\" class=\"data row13 col13\" >1.00</td>\n",
       "                        <td id=\"T_568ff_row13_col14\" class=\"data row13 col14\" >-0.04</td>\n",
       "                        <td id=\"T_568ff_row13_col15\" class=\"data row13 col15\" >-0.02</td>\n",
       "                        <td id=\"T_568ff_row13_col16\" class=\"data row13 col16\" >-0.03</td>\n",
       "                        <td id=\"T_568ff_row13_col17\" class=\"data row13 col17\" >0.00</td>\n",
       "                        <td id=\"T_568ff_row13_col18\" class=\"data row13 col18\" >0.05</td>\n",
       "                        <td id=\"T_568ff_row13_col19\" class=\"data row13 col19\" >-0.04</td>\n",
       "                        <td id=\"T_568ff_row13_col20\" class=\"data row13 col20\" >0.01</td>\n",
       "                        <td id=\"T_568ff_row13_col21\" class=\"data row13 col21\" >0.04</td>\n",
       "                        <td id=\"T_568ff_row13_col22\" class=\"data row13 col22\" >-0.01</td>\n",
       "                        <td id=\"T_568ff_row13_col23\" class=\"data row13 col23\" >-0.01</td>\n",
       "                        <td id=\"T_568ff_row13_col24\" class=\"data row13 col24\" >-0.01</td>\n",
       "                        <td id=\"T_568ff_row13_col25\" class=\"data row13 col25\" >-0.04</td>\n",
       "                        <td id=\"T_568ff_row13_col26\" class=\"data row13 col26\" >0.01</td>\n",
       "                        <td id=\"T_568ff_row13_col27\" class=\"data row13 col27\" >-0.01</td>\n",
       "                        <td id=\"T_568ff_row13_col28\" class=\"data row13 col28\" >0.04</td>\n",
       "                        <td id=\"T_568ff_row13_col29\" class=\"data row13 col29\" >-0.02</td>\n",
       "                        <td id=\"T_568ff_row13_col30\" class=\"data row13 col30\" >-0.04</td>\n",
       "            </tr>\n",
       "            <tr>\n",
       "                        <th id=\"T_568ff_level0_row14\" class=\"row_heading level0 row14\" >mild_fantasy_violence</th>\n",
       "                        <td id=\"T_568ff_row14_col0\" class=\"data row14 col0\" >-0.04</td>\n",
       "                        <td id=\"T_568ff_row14_col1\" class=\"data row14 col1\" >-0.02</td>\n",
       "                        <td id=\"T_568ff_row14_col2\" class=\"data row14 col2\" >-0.12</td>\n",
       "                        <td id=\"T_568ff_row14_col3\" class=\"data row14 col3\" >-0.08</td>\n",
       "                        <td id=\"T_568ff_row14_col4\" class=\"data row14 col4\" >-0.01</td>\n",
       "                        <td id=\"T_568ff_row14_col5\" class=\"data row14 col5\" >-0.02</td>\n",
       "                        <td id=\"T_568ff_row14_col6\" class=\"data row14 col6\" >-0.03</td>\n",
       "                        <td id=\"T_568ff_row14_col7\" class=\"data row14 col7\" >-0.11</td>\n",
       "                        <td id=\"T_568ff_row14_col8\" class=\"data row14 col8\" >-0.07</td>\n",
       "                        <td id=\"T_568ff_row14_col9\" class=\"data row14 col9\" >-0.05</td>\n",
       "                        <td id=\"T_568ff_row14_col10\" class=\"data row14 col10\" >-0.01</td>\n",
       "                        <td id=\"T_568ff_row14_col11\" class=\"data row14 col11\" >-0.02</td>\n",
       "                        <td id=\"T_568ff_row14_col12\" class=\"data row14 col12\" >-0.06</td>\n",
       "                        <td id=\"T_568ff_row14_col13\" class=\"data row14 col13\" >-0.04</td>\n",
       "                        <td id=\"T_568ff_row14_col14\" class=\"data row14 col14\" >1.00</td>\n",
       "                        <td id=\"T_568ff_row14_col15\" class=\"data row14 col15\" >-0.03</td>\n",
       "                        <td id=\"T_568ff_row14_col16\" class=\"data row14 col16\" >0.04</td>\n",
       "                        <td id=\"T_568ff_row14_col17\" class=\"data row14 col17\" >-0.04</td>\n",
       "                        <td id=\"T_568ff_row14_col18\" class=\"data row14 col18\" >-0.05</td>\n",
       "                        <td id=\"T_568ff_row14_col19\" class=\"data row14 col19\" >-0.06</td>\n",
       "                        <td id=\"T_568ff_row14_col20\" class=\"data row14 col20\" >-0.03</td>\n",
       "                        <td id=\"T_568ff_row14_col21\" class=\"data row14 col21\" >-0.03</td>\n",
       "                        <td id=\"T_568ff_row14_col22\" class=\"data row14 col22\" >-0.04</td>\n",
       "                        <td id=\"T_568ff_row14_col23\" class=\"data row14 col23\" >-0.04</td>\n",
       "                        <td id=\"T_568ff_row14_col24\" class=\"data row14 col24\" >-0.06</td>\n",
       "                        <td id=\"T_568ff_row14_col25\" class=\"data row14 col25\" >-0.07</td>\n",
       "                        <td id=\"T_568ff_row14_col26\" class=\"data row14 col26\" >-0.04</td>\n",
       "                        <td id=\"T_568ff_row14_col27\" class=\"data row14 col27\" >-0.07</td>\n",
       "                        <td id=\"T_568ff_row14_col28\" class=\"data row14 col28\" >-0.03</td>\n",
       "                        <td id=\"T_568ff_row14_col29\" class=\"data row14 col29\" >0.01</td>\n",
       "                        <td id=\"T_568ff_row14_col30\" class=\"data row14 col30\" >-0.06</td>\n",
       "            </tr>\n",
       "            <tr>\n",
       "                        <th id=\"T_568ff_level0_row15\" class=\"row_heading level0 row15\" >mild_language</th>\n",
       "                        <td id=\"T_568ff_row15_col0\" class=\"data row15 col0\" >0.03</td>\n",
       "                        <td id=\"T_568ff_row15_col1\" class=\"data row15 col1\" >-0.01</td>\n",
       "                        <td id=\"T_568ff_row15_col2\" class=\"data row15 col2\" >-0.08</td>\n",
       "                        <td id=\"T_568ff_row15_col3\" class=\"data row15 col3\" >-0.06</td>\n",
       "                        <td id=\"T_568ff_row15_col4\" class=\"data row15 col4\" >-0.02</td>\n",
       "                        <td id=\"T_568ff_row15_col5\" class=\"data row15 col5\" >0.01</td>\n",
       "                        <td id=\"T_568ff_row15_col6\" class=\"data row15 col6\" >-0.03</td>\n",
       "                        <td id=\"T_568ff_row15_col7\" class=\"data row15 col7\" >-0.08</td>\n",
       "                        <td id=\"T_568ff_row15_col8\" class=\"data row15 col8\" >-0.05</td>\n",
       "                        <td id=\"T_568ff_row15_col9\" class=\"data row15 col9\" >-0.02</td>\n",
       "                        <td id=\"T_568ff_row15_col10\" class=\"data row15 col10\" >-0.03</td>\n",
       "                        <td id=\"T_568ff_row15_col11\" class=\"data row15 col11\" >-0.02</td>\n",
       "                        <td id=\"T_568ff_row15_col12\" class=\"data row15 col12\" >-0.01</td>\n",
       "                        <td id=\"T_568ff_row15_col13\" class=\"data row15 col13\" >-0.02</td>\n",
       "                        <td id=\"T_568ff_row15_col14\" class=\"data row15 col14\" >-0.03</td>\n",
       "                        <td id=\"T_568ff_row15_col15\" class=\"data row15 col15\" >1.00</td>\n",
       "                        <td id=\"T_568ff_row15_col16\" class=\"data row15 col16\" >-0.04</td>\n",
       "                        <td id=\"T_568ff_row15_col17\" class=\"data row15 col17\" >0.00</td>\n",
       "                        <td id=\"T_568ff_row15_col18\" class=\"data row15 col18\" >-0.03</td>\n",
       "                        <td id=\"T_568ff_row15_col19\" class=\"data row15 col19\" >-0.04</td>\n",
       "                        <td id=\"T_568ff_row15_col20\" class=\"data row15 col20\" >-0.02</td>\n",
       "                        <td id=\"T_568ff_row15_col21\" class=\"data row15 col21\" >0.05</td>\n",
       "                        <td id=\"T_568ff_row15_col22\" class=\"data row15 col22\" >-0.03</td>\n",
       "                        <td id=\"T_568ff_row15_col23\" class=\"data row15 col23\" >-0.01</td>\n",
       "                        <td id=\"T_568ff_row15_col24\" class=\"data row15 col24\" >-0.03</td>\n",
       "                        <td id=\"T_568ff_row15_col25\" class=\"data row15 col25\" >-0.05</td>\n",
       "                        <td id=\"T_568ff_row15_col26\" class=\"data row15 col26\" >-0.03</td>\n",
       "                        <td id=\"T_568ff_row15_col27\" class=\"data row15 col27\" >0.02</td>\n",
       "                        <td id=\"T_568ff_row15_col28\" class=\"data row15 col28\" >0.01</td>\n",
       "                        <td id=\"T_568ff_row15_col29\" class=\"data row15 col29\" >0.01</td>\n",
       "                        <td id=\"T_568ff_row15_col30\" class=\"data row15 col30\" >0.01</td>\n",
       "            </tr>\n",
       "            <tr>\n",
       "                        <th id=\"T_568ff_level0_row16\" class=\"row_heading level0 row16\" >mild_lyrics</th>\n",
       "                        <td id=\"T_568ff_row16_col0\" class=\"data row16 col0\" >0.01</td>\n",
       "                        <td id=\"T_568ff_row16_col1\" class=\"data row16 col1\" >-0.03</td>\n",
       "                        <td id=\"T_568ff_row16_col2\" class=\"data row16 col2\" >-0.01</td>\n",
       "                        <td id=\"T_568ff_row16_col3\" class=\"data row16 col3\" >-0.09</td>\n",
       "                        <td id=\"T_568ff_row16_col4\" class=\"data row16 col4\" >0.00</td>\n",
       "                        <td id=\"T_568ff_row16_col5\" class=\"data row16 col5\" >-0.06</td>\n",
       "                        <td id=\"T_568ff_row16_col6\" class=\"data row16 col6\" >0.01</td>\n",
       "                        <td id=\"T_568ff_row16_col7\" class=\"data row16 col7\" >0.10</td>\n",
       "                        <td id=\"T_568ff_row16_col8\" class=\"data row16 col8\" >-0.11</td>\n",
       "                        <td id=\"T_568ff_row16_col9\" class=\"data row16 col9\" >-0.10</td>\n",
       "                        <td id=\"T_568ff_row16_col10\" class=\"data row16 col10\" >-0.05</td>\n",
       "                        <td id=\"T_568ff_row16_col11\" class=\"data row16 col11\" >-0.03</td>\n",
       "                        <td id=\"T_568ff_row16_col12\" class=\"data row16 col12\" >-0.00</td>\n",
       "                        <td id=\"T_568ff_row16_col13\" class=\"data row16 col13\" >-0.03</td>\n",
       "                        <td id=\"T_568ff_row16_col14\" class=\"data row16 col14\" >0.04</td>\n",
       "                        <td id=\"T_568ff_row16_col15\" class=\"data row16 col15\" >-0.04</td>\n",
       "                        <td id=\"T_568ff_row16_col16\" class=\"data row16 col16\" >1.00</td>\n",
       "                        <td id=\"T_568ff_row16_col17\" class=\"data row16 col17\" >0.01</td>\n",
       "                        <td id=\"T_568ff_row16_col18\" class=\"data row16 col18\" >0.00</td>\n",
       "                        <td id=\"T_568ff_row16_col19\" class=\"data row16 col19\" >-0.07</td>\n",
       "                        <td id=\"T_568ff_row16_col20\" class=\"data row16 col20\" >-0.04</td>\n",
       "                        <td id=\"T_568ff_row16_col21\" class=\"data row16 col21\" >-0.02</td>\n",
       "                        <td id=\"T_568ff_row16_col22\" class=\"data row16 col22\" >-0.02</td>\n",
       "                        <td id=\"T_568ff_row16_col23\" class=\"data row16 col23\" >-0.05</td>\n",
       "                        <td id=\"T_568ff_row16_col24\" class=\"data row16 col24\" >-0.05</td>\n",
       "                        <td id=\"T_568ff_row16_col25\" class=\"data row16 col25\" >-0.11</td>\n",
       "                        <td id=\"T_568ff_row16_col26\" class=\"data row16 col26\" >-0.06</td>\n",
       "                        <td id=\"T_568ff_row16_col27\" class=\"data row16 col27\" >0.04</td>\n",
       "                        <td id=\"T_568ff_row16_col28\" class=\"data row16 col28\" >0.03</td>\n",
       "                        <td id=\"T_568ff_row16_col29\" class=\"data row16 col29\" >0.03</td>\n",
       "                        <td id=\"T_568ff_row16_col30\" class=\"data row16 col30\" >0.01</td>\n",
       "            </tr>\n",
       "            <tr>\n",
       "                        <th id=\"T_568ff_level0_row17\" class=\"row_heading level0 row17\" >mild_suggestive_themes</th>\n",
       "                        <td id=\"T_568ff_row17_col0\" class=\"data row17 col0\" >0.22</td>\n",
       "                        <td id=\"T_568ff_row17_col1\" class=\"data row17 col1\" >0.06</td>\n",
       "                        <td id=\"T_568ff_row17_col2\" class=\"data row17 col2\" >-0.00</td>\n",
       "                        <td id=\"T_568ff_row17_col3\" class=\"data row17 col3\" >-0.04</td>\n",
       "                        <td id=\"T_568ff_row17_col4\" class=\"data row17 col4\" >0.08</td>\n",
       "                        <td id=\"T_568ff_row17_col5\" class=\"data row17 col5\" >0.08</td>\n",
       "                        <td id=\"T_568ff_row17_col6\" class=\"data row17 col6\" >0.02</td>\n",
       "                        <td id=\"T_568ff_row17_col7\" class=\"data row17 col7\" >0.03</td>\n",
       "                        <td id=\"T_568ff_row17_col8\" class=\"data row17 col8\" >0.17</td>\n",
       "                        <td id=\"T_568ff_row17_col9\" class=\"data row17 col9\" >-0.08</td>\n",
       "                        <td id=\"T_568ff_row17_col10\" class=\"data row17 col10\" >-0.04</td>\n",
       "                        <td id=\"T_568ff_row17_col11\" class=\"data row17 col11\" >-0.02</td>\n",
       "                        <td id=\"T_568ff_row17_col12\" class=\"data row17 col12\" >0.10</td>\n",
       "                        <td id=\"T_568ff_row17_col13\" class=\"data row17 col13\" >0.00</td>\n",
       "                        <td id=\"T_568ff_row17_col14\" class=\"data row17 col14\" >-0.04</td>\n",
       "                        <td id=\"T_568ff_row17_col15\" class=\"data row17 col15\" >0.00</td>\n",
       "                        <td id=\"T_568ff_row17_col16\" class=\"data row17 col16\" >0.01</td>\n",
       "                        <td id=\"T_568ff_row17_col17\" class=\"data row17 col17\" >1.00</td>\n",
       "                        <td id=\"T_568ff_row17_col18\" class=\"data row17 col18\" >0.07</td>\n",
       "                        <td id=\"T_568ff_row17_col19\" class=\"data row17 col19\" >-0.06</td>\n",
       "                        <td id=\"T_568ff_row17_col20\" class=\"data row17 col20\" >-0.03</td>\n",
       "                        <td id=\"T_568ff_row17_col21\" class=\"data row17 col21\" >-0.00</td>\n",
       "                        <td id=\"T_568ff_row17_col22\" class=\"data row17 col22\" >-0.04</td>\n",
       "                        <td id=\"T_568ff_row17_col23\" class=\"data row17 col23\" >0.02</td>\n",
       "                        <td id=\"T_568ff_row17_col24\" class=\"data row17 col24\" >0.00</td>\n",
       "                        <td id=\"T_568ff_row17_col25\" class=\"data row17 col25\" >-0.08</td>\n",
       "                        <td id=\"T_568ff_row17_col26\" class=\"data row17 col26\" >-0.01</td>\n",
       "                        <td id=\"T_568ff_row17_col27\" class=\"data row17 col27\" >0.04</td>\n",
       "                        <td id=\"T_568ff_row17_col28\" class=\"data row17 col28\" >0.08</td>\n",
       "                        <td id=\"T_568ff_row17_col29\" class=\"data row17 col29\" >0.01</td>\n",
       "                        <td id=\"T_568ff_row17_col30\" class=\"data row17 col30\" >-0.04</td>\n",
       "            </tr>\n",
       "            <tr>\n",
       "                        <th id=\"T_568ff_level0_row18\" class=\"row_heading level0 row18\" >mild_violence</th>\n",
       "                        <td id=\"T_568ff_row18_col0\" class=\"data row18 col0\" >0.10</td>\n",
       "                        <td id=\"T_568ff_row18_col1\" class=\"data row18 col1\" >-0.02</td>\n",
       "                        <td id=\"T_568ff_row18_col2\" class=\"data row18 col2\" >-0.08</td>\n",
       "                        <td id=\"T_568ff_row18_col3\" class=\"data row18 col3\" >-0.05</td>\n",
       "                        <td id=\"T_568ff_row18_col4\" class=\"data row18 col4\" >0.02</td>\n",
       "                        <td id=\"T_568ff_row18_col5\" class=\"data row18 col5\" >-0.03</td>\n",
       "                        <td id=\"T_568ff_row18_col6\" class=\"data row18 col6\" >0.01</td>\n",
       "                        <td id=\"T_568ff_row18_col7\" class=\"data row18 col7\" >-0.01</td>\n",
       "                        <td id=\"T_568ff_row18_col8\" class=\"data row18 col8\" >0.01</td>\n",
       "                        <td id=\"T_568ff_row18_col9\" class=\"data row18 col9\" >-0.01</td>\n",
       "                        <td id=\"T_568ff_row18_col10\" class=\"data row18 col10\" >-0.04</td>\n",
       "                        <td id=\"T_568ff_row18_col11\" class=\"data row18 col11\" >-0.02</td>\n",
       "                        <td id=\"T_568ff_row18_col12\" class=\"data row18 col12\" >0.06</td>\n",
       "                        <td id=\"T_568ff_row18_col13\" class=\"data row18 col13\" >0.05</td>\n",
       "                        <td id=\"T_568ff_row18_col14\" class=\"data row18 col14\" >-0.05</td>\n",
       "                        <td id=\"T_568ff_row18_col15\" class=\"data row18 col15\" >-0.03</td>\n",
       "                        <td id=\"T_568ff_row18_col16\" class=\"data row18 col16\" >0.00</td>\n",
       "                        <td id=\"T_568ff_row18_col17\" class=\"data row18 col17\" >0.07</td>\n",
       "                        <td id=\"T_568ff_row18_col18\" class=\"data row18 col18\" >1.00</td>\n",
       "                        <td id=\"T_568ff_row18_col19\" class=\"data row18 col19\" >-0.06</td>\n",
       "                        <td id=\"T_568ff_row18_col20\" class=\"data row18 col20\" >0.01</td>\n",
       "                        <td id=\"T_568ff_row18_col21\" class=\"data row18 col21\" >-0.00</td>\n",
       "                        <td id=\"T_568ff_row18_col22\" class=\"data row18 col22\" >-0.03</td>\n",
       "                        <td id=\"T_568ff_row18_col23\" class=\"data row18 col23\" >-0.06</td>\n",
       "                        <td id=\"T_568ff_row18_col24\" class=\"data row18 col24\" >-0.04</td>\n",
       "                        <td id=\"T_568ff_row18_col25\" class=\"data row18 col25\" >-0.08</td>\n",
       "                        <td id=\"T_568ff_row18_col26\" class=\"data row18 col26\" >-0.04</td>\n",
       "                        <td id=\"T_568ff_row18_col27\" class=\"data row18 col27\" >-0.06</td>\n",
       "                        <td id=\"T_568ff_row18_col28\" class=\"data row18 col28\" >0.01</td>\n",
       "                        <td id=\"T_568ff_row18_col29\" class=\"data row18 col29\" >-0.01</td>\n",
       "                        <td id=\"T_568ff_row18_col30\" class=\"data row18 col30\" >-0.03</td>\n",
       "            </tr>\n",
       "            <tr>\n",
       "                        <th id=\"T_568ff_level0_row19\" class=\"row_heading level0 row19\" >no_descriptors</th>\n",
       "                        <td id=\"T_568ff_row19_col0\" class=\"data row19 col0\" >-0.06</td>\n",
       "                        <td id=\"T_568ff_row19_col1\" class=\"data row19 col1\" >-0.03</td>\n",
       "                        <td id=\"T_568ff_row19_col2\" class=\"data row19 col2\" >-0.14</td>\n",
       "                        <td id=\"T_568ff_row19_col3\" class=\"data row19 col3\" >-0.10</td>\n",
       "                        <td id=\"T_568ff_row19_col4\" class=\"data row19 col4\" >-0.04</td>\n",
       "                        <td id=\"T_568ff_row19_col5\" class=\"data row19 col5\" >-0.06</td>\n",
       "                        <td id=\"T_568ff_row19_col6\" class=\"data row19 col6\" >-0.05</td>\n",
       "                        <td id=\"T_568ff_row19_col7\" class=\"data row19 col7\" >-0.14</td>\n",
       "                        <td id=\"T_568ff_row19_col8\" class=\"data row19 col8\" >-0.09</td>\n",
       "                        <td id=\"T_568ff_row19_col9\" class=\"data row19 col9\" >-0.09</td>\n",
       "                        <td id=\"T_568ff_row19_col10\" class=\"data row19 col10\" >-0.05</td>\n",
       "                        <td id=\"T_568ff_row19_col11\" class=\"data row19 col11\" >-0.03</td>\n",
       "                        <td id=\"T_568ff_row19_col12\" class=\"data row19 col12\" >-0.07</td>\n",
       "                        <td id=\"T_568ff_row19_col13\" class=\"data row19 col13\" >-0.04</td>\n",
       "                        <td id=\"T_568ff_row19_col14\" class=\"data row19 col14\" >-0.06</td>\n",
       "                        <td id=\"T_568ff_row19_col15\" class=\"data row19 col15\" >-0.04</td>\n",
       "                        <td id=\"T_568ff_row19_col16\" class=\"data row19 col16\" >-0.07</td>\n",
       "                        <td id=\"T_568ff_row19_col17\" class=\"data row19 col17\" >-0.06</td>\n",
       "                        <td id=\"T_568ff_row19_col18\" class=\"data row19 col18\" >-0.06</td>\n",
       "                        <td id=\"T_568ff_row19_col19\" class=\"data row19 col19\" >1.00</td>\n",
       "                        <td id=\"T_568ff_row19_col20\" class=\"data row19 col20\" >-0.03</td>\n",
       "                        <td id=\"T_568ff_row19_col21\" class=\"data row19 col21\" >-0.03</td>\n",
       "                        <td id=\"T_568ff_row19_col22\" class=\"data row19 col22\" >-0.05</td>\n",
       "                        <td id=\"T_568ff_row19_col23\" class=\"data row19 col23\" >-0.06</td>\n",
       "                        <td id=\"T_568ff_row19_col24\" class=\"data row19 col24\" >-0.07</td>\n",
       "                        <td id=\"T_568ff_row19_col25\" class=\"data row19 col25\" >-0.09</td>\n",
       "                        <td id=\"T_568ff_row19_col26\" class=\"data row19 col26\" >-0.05</td>\n",
       "                        <td id=\"T_568ff_row19_col27\" class=\"data row19 col27\" >-0.09</td>\n",
       "                        <td id=\"T_568ff_row19_col28\" class=\"data row19 col28\" >-0.03</td>\n",
       "                        <td id=\"T_568ff_row19_col29\" class=\"data row19 col29\" >-0.03</td>\n",
       "                        <td id=\"T_568ff_row19_col30\" class=\"data row19 col30\" >-0.07</td>\n",
       "            </tr>\n",
       "            <tr>\n",
       "                        <th id=\"T_568ff_level0_row20\" class=\"row_heading level0 row20\" >nudity</th>\n",
       "                        <td id=\"T_568ff_row20_col0\" class=\"data row20 col0\" >0.03</td>\n",
       "                        <td id=\"T_568ff_row20_col1\" class=\"data row20 col1\" >-0.01</td>\n",
       "                        <td id=\"T_568ff_row20_col2\" class=\"data row20 col2\" >-0.02</td>\n",
       "                        <td id=\"T_568ff_row20_col3\" class=\"data row20 col3\" >0.12</td>\n",
       "                        <td id=\"T_568ff_row20_col4\" class=\"data row20 col4\" >-0.02</td>\n",
       "                        <td id=\"T_568ff_row20_col5\" class=\"data row20 col5\" >0.01</td>\n",
       "                        <td id=\"T_568ff_row20_col6\" class=\"data row20 col6\" >0.02</td>\n",
       "                        <td id=\"T_568ff_row20_col7\" class=\"data row20 col7\" >-0.01</td>\n",
       "                        <td id=\"T_568ff_row20_col8\" class=\"data row20 col8\" >0.09</td>\n",
       "                        <td id=\"T_568ff_row20_col9\" class=\"data row20 col9\" >0.08</td>\n",
       "                        <td id=\"T_568ff_row20_col10\" class=\"data row20 col10\" >0.07</td>\n",
       "                        <td id=\"T_568ff_row20_col11\" class=\"data row20 col11\" >0.07</td>\n",
       "                        <td id=\"T_568ff_row20_col12\" class=\"data row20 col12\" >0.07</td>\n",
       "                        <td id=\"T_568ff_row20_col13\" class=\"data row20 col13\" >0.01</td>\n",
       "                        <td id=\"T_568ff_row20_col14\" class=\"data row20 col14\" >-0.03</td>\n",
       "                        <td id=\"T_568ff_row20_col15\" class=\"data row20 col15\" >-0.02</td>\n",
       "                        <td id=\"T_568ff_row20_col16\" class=\"data row20 col16\" >-0.04</td>\n",
       "                        <td id=\"T_568ff_row20_col17\" class=\"data row20 col17\" >-0.03</td>\n",
       "                        <td id=\"T_568ff_row20_col18\" class=\"data row20 col18\" >0.01</td>\n",
       "                        <td id=\"T_568ff_row20_col19\" class=\"data row20 col19\" >-0.03</td>\n",
       "                        <td id=\"T_568ff_row20_col20\" class=\"data row20 col20\" >1.00</td>\n",
       "                        <td id=\"T_568ff_row20_col21\" class=\"data row20 col21\" >-0.01</td>\n",
       "                        <td id=\"T_568ff_row20_col22\" class=\"data row20 col22\" >0.02</td>\n",
       "                        <td id=\"T_568ff_row20_col23\" class=\"data row20 col23\" >0.04</td>\n",
       "                        <td id=\"T_568ff_row20_col24\" class=\"data row20 col24\" >-0.03</td>\n",
       "                        <td id=\"T_568ff_row20_col25\" class=\"data row20 col25\" >0.12</td>\n",
       "                        <td id=\"T_568ff_row20_col26\" class=\"data row20 col26\" >-0.00</td>\n",
       "                        <td id=\"T_568ff_row20_col27\" class=\"data row20 col27\" >-0.00</td>\n",
       "                        <td id=\"T_568ff_row20_col28\" class=\"data row20 col28\" >0.02</td>\n",
       "                        <td id=\"T_568ff_row20_col29\" class=\"data row20 col29\" >0.02</td>\n",
       "                        <td id=\"T_568ff_row20_col30\" class=\"data row20 col30\" >0.06</td>\n",
       "            </tr>\n",
       "            <tr>\n",
       "                        <th id=\"T_568ff_level0_row21\" class=\"row_heading level0 row21\" >partial_nudity</th>\n",
       "                        <td id=\"T_568ff_row21_col0\" class=\"data row21 col0\" >-0.01</td>\n",
       "                        <td id=\"T_568ff_row21_col1\" class=\"data row21 col1\" >-0.01</td>\n",
       "                        <td id=\"T_568ff_row21_col2\" class=\"data row21 col2\" >0.05</td>\n",
       "                        <td id=\"T_568ff_row21_col3\" class=\"data row21 col3\" >-0.00</td>\n",
       "                        <td id=\"T_568ff_row21_col4\" class=\"data row21 col4\" >-0.02</td>\n",
       "                        <td id=\"T_568ff_row21_col5\" class=\"data row21 col5\" >0.01</td>\n",
       "                        <td id=\"T_568ff_row21_col6\" class=\"data row21 col6\" >0.05</td>\n",
       "                        <td id=\"T_568ff_row21_col7\" class=\"data row21 col7\" >-0.05</td>\n",
       "                        <td id=\"T_568ff_row21_col8\" class=\"data row21 col8\" >-0.04</td>\n",
       "                        <td id=\"T_568ff_row21_col9\" class=\"data row21 col9\" >0.02</td>\n",
       "                        <td id=\"T_568ff_row21_col10\" class=\"data row21 col10\" >0.00</td>\n",
       "                        <td id=\"T_568ff_row21_col11\" class=\"data row21 col11\" >0.03</td>\n",
       "                        <td id=\"T_568ff_row21_col12\" class=\"data row21 col12\" >0.00</td>\n",
       "                        <td id=\"T_568ff_row21_col13\" class=\"data row21 col13\" >0.04</td>\n",
       "                        <td id=\"T_568ff_row21_col14\" class=\"data row21 col14\" >-0.03</td>\n",
       "                        <td id=\"T_568ff_row21_col15\" class=\"data row21 col15\" >0.05</td>\n",
       "                        <td id=\"T_568ff_row21_col16\" class=\"data row21 col16\" >-0.02</td>\n",
       "                        <td id=\"T_568ff_row21_col17\" class=\"data row21 col17\" >-0.00</td>\n",
       "                        <td id=\"T_568ff_row21_col18\" class=\"data row21 col18\" >-0.00</td>\n",
       "                        <td id=\"T_568ff_row21_col19\" class=\"data row21 col19\" >-0.03</td>\n",
       "                        <td id=\"T_568ff_row21_col20\" class=\"data row21 col20\" >-0.01</td>\n",
       "                        <td id=\"T_568ff_row21_col21\" class=\"data row21 col21\" >1.00</td>\n",
       "                        <td id=\"T_568ff_row21_col22\" class=\"data row21 col22\" >0.00</td>\n",
       "                        <td id=\"T_568ff_row21_col23\" class=\"data row21 col23\" >0.15</td>\n",
       "                        <td id=\"T_568ff_row21_col24\" class=\"data row21 col24\" >0.02</td>\n",
       "                        <td id=\"T_568ff_row21_col25\" class=\"data row21 col25\" >0.13</td>\n",
       "                        <td id=\"T_568ff_row21_col26\" class=\"data row21 col26\" >-0.02</td>\n",
       "                        <td id=\"T_568ff_row21_col27\" class=\"data row21 col27\" >-0.04</td>\n",
       "                        <td id=\"T_568ff_row21_col28\" class=\"data row21 col28\" >-0.01</td>\n",
       "                        <td id=\"T_568ff_row21_col29\" class=\"data row21 col29\" >-0.01</td>\n",
       "                        <td id=\"T_568ff_row21_col30\" class=\"data row21 col30\" >-0.01</td>\n",
       "            </tr>\n",
       "            <tr>\n",
       "                        <th id=\"T_568ff_level0_row22\" class=\"row_heading level0 row22\" >sexual_content</th>\n",
       "                        <td id=\"T_568ff_row22_col0\" class=\"data row22 col0\" >-0.04</td>\n",
       "                        <td id=\"T_568ff_row22_col1\" class=\"data row22 col1\" >-0.02</td>\n",
       "                        <td id=\"T_568ff_row22_col2\" class=\"data row22 col2\" >0.08</td>\n",
       "                        <td id=\"T_568ff_row22_col3\" class=\"data row22 col3\" >0.14</td>\n",
       "                        <td id=\"T_568ff_row22_col4\" class=\"data row22 col4\" >-0.03</td>\n",
       "                        <td id=\"T_568ff_row22_col5\" class=\"data row22 col5\" >-0.03</td>\n",
       "                        <td id=\"T_568ff_row22_col6\" class=\"data row22 col6\" >0.03</td>\n",
       "                        <td id=\"T_568ff_row22_col7\" class=\"data row22 col7\" >-0.04</td>\n",
       "                        <td id=\"T_568ff_row22_col8\" class=\"data row22 col8\" >0.00</td>\n",
       "                        <td id=\"T_568ff_row22_col9\" class=\"data row22 col9\" >-0.03</td>\n",
       "                        <td id=\"T_568ff_row22_col10\" class=\"data row22 col10\" >-0.02</td>\n",
       "                        <td id=\"T_568ff_row22_col11\" class=\"data row22 col11\" >-0.02</td>\n",
       "                        <td id=\"T_568ff_row22_col12\" class=\"data row22 col12\" >-0.03</td>\n",
       "                        <td id=\"T_568ff_row22_col13\" class=\"data row22 col13\" >-0.01</td>\n",
       "                        <td id=\"T_568ff_row22_col14\" class=\"data row22 col14\" >-0.04</td>\n",
       "                        <td id=\"T_568ff_row22_col15\" class=\"data row22 col15\" >-0.03</td>\n",
       "                        <td id=\"T_568ff_row22_col16\" class=\"data row22 col16\" >-0.02</td>\n",
       "                        <td id=\"T_568ff_row22_col17\" class=\"data row22 col17\" >-0.04</td>\n",
       "                        <td id=\"T_568ff_row22_col18\" class=\"data row22 col18\" >-0.03</td>\n",
       "                        <td id=\"T_568ff_row22_col19\" class=\"data row22 col19\" >-0.05</td>\n",
       "                        <td id=\"T_568ff_row22_col20\" class=\"data row22 col20\" >0.02</td>\n",
       "                        <td id=\"T_568ff_row22_col21\" class=\"data row22 col21\" >0.00</td>\n",
       "                        <td id=\"T_568ff_row22_col22\" class=\"data row22 col22\" >1.00</td>\n",
       "                        <td id=\"T_568ff_row22_col23\" class=\"data row22 col23\" >0.04</td>\n",
       "                        <td id=\"T_568ff_row22_col24\" class=\"data row22 col24\" >0.01</td>\n",
       "                        <td id=\"T_568ff_row22_col25\" class=\"data row22 col25\" >0.16</td>\n",
       "                        <td id=\"T_568ff_row22_col26\" class=\"data row22 col26\" >0.01</td>\n",
       "                        <td id=\"T_568ff_row22_col27\" class=\"data row22 col27\" >0.02</td>\n",
       "                        <td id=\"T_568ff_row22_col28\" class=\"data row22 col28\" >0.05</td>\n",
       "                        <td id=\"T_568ff_row22_col29\" class=\"data row22 col29\" >-0.02</td>\n",
       "                        <td id=\"T_568ff_row22_col30\" class=\"data row22 col30\" >0.01</td>\n",
       "            </tr>\n",
       "            <tr>\n",
       "                        <th id=\"T_568ff_level0_row23\" class=\"row_heading level0 row23\" >sexual_themes</th>\n",
       "                        <td id=\"T_568ff_row23_col0\" class=\"data row23 col0\" >-0.03</td>\n",
       "                        <td id=\"T_568ff_row23_col1\" class=\"data row23 col1\" >-0.02</td>\n",
       "                        <td id=\"T_568ff_row23_col2\" class=\"data row23 col2\" >0.07</td>\n",
       "                        <td id=\"T_568ff_row23_col3\" class=\"data row23 col3\" >0.12</td>\n",
       "                        <td id=\"T_568ff_row23_col4\" class=\"data row23 col4\" >0.03</td>\n",
       "                        <td id=\"T_568ff_row23_col5\" class=\"data row23 col5\" >-0.03</td>\n",
       "                        <td id=\"T_568ff_row23_col6\" class=\"data row23 col6\" >0.09</td>\n",
       "                        <td id=\"T_568ff_row23_col7\" class=\"data row23 col7\" >-0.04</td>\n",
       "                        <td id=\"T_568ff_row23_col8\" class=\"data row23 col8\" >0.02</td>\n",
       "                        <td id=\"T_568ff_row23_col9\" class=\"data row23 col9\" >0.09</td>\n",
       "                        <td id=\"T_568ff_row23_col10\" class=\"data row23 col10\" >0.11</td>\n",
       "                        <td id=\"T_568ff_row23_col11\" class=\"data row23 col11\" >-0.03</td>\n",
       "                        <td id=\"T_568ff_row23_col12\" class=\"data row23 col12\" >-0.01</td>\n",
       "                        <td id=\"T_568ff_row23_col13\" class=\"data row23 col13\" >-0.01</td>\n",
       "                        <td id=\"T_568ff_row23_col14\" class=\"data row23 col14\" >-0.04</td>\n",
       "                        <td id=\"T_568ff_row23_col15\" class=\"data row23 col15\" >-0.01</td>\n",
       "                        <td id=\"T_568ff_row23_col16\" class=\"data row23 col16\" >-0.05</td>\n",
       "                        <td id=\"T_568ff_row23_col17\" class=\"data row23 col17\" >0.02</td>\n",
       "                        <td id=\"T_568ff_row23_col18\" class=\"data row23 col18\" >-0.06</td>\n",
       "                        <td id=\"T_568ff_row23_col19\" class=\"data row23 col19\" >-0.06</td>\n",
       "                        <td id=\"T_568ff_row23_col20\" class=\"data row23 col20\" >0.04</td>\n",
       "                        <td id=\"T_568ff_row23_col21\" class=\"data row23 col21\" >0.15</td>\n",
       "                        <td id=\"T_568ff_row23_col22\" class=\"data row23 col22\" >0.04</td>\n",
       "                        <td id=\"T_568ff_row23_col23\" class=\"data row23 col23\" >1.00</td>\n",
       "                        <td id=\"T_568ff_row23_col24\" class=\"data row23 col24\" >0.08</td>\n",
       "                        <td id=\"T_568ff_row23_col25\" class=\"data row23 col25\" >0.27</td>\n",
       "                        <td id=\"T_568ff_row23_col26\" class=\"data row23 col26\" >-0.01</td>\n",
       "                        <td id=\"T_568ff_row23_col27\" class=\"data row23 col27\" >0.01</td>\n",
       "                        <td id=\"T_568ff_row23_col28\" class=\"data row23 col28\" >-0.03</td>\n",
       "                        <td id=\"T_568ff_row23_col29\" class=\"data row23 col29\" >-0.01</td>\n",
       "                        <td id=\"T_568ff_row23_col30\" class=\"data row23 col30\" >-0.02</td>\n",
       "            </tr>\n",
       "            <tr>\n",
       "                        <th id=\"T_568ff_level0_row24\" class=\"row_heading level0 row24\" >simulated_gambling</th>\n",
       "                        <td id=\"T_568ff_row24_col0\" class=\"data row24 col0\" >-0.00</td>\n",
       "                        <td id=\"T_568ff_row24_col1\" class=\"data row24 col1\" >-0.03</td>\n",
       "                        <td id=\"T_568ff_row24_col2\" class=\"data row24 col2\" >0.11</td>\n",
       "                        <td id=\"T_568ff_row24_col3\" class=\"data row24 col3\" >0.01</td>\n",
       "                        <td id=\"T_568ff_row24_col4\" class=\"data row24 col4\" >-0.02</td>\n",
       "                        <td id=\"T_568ff_row24_col5\" class=\"data row24 col5\" >0.32</td>\n",
       "                        <td id=\"T_568ff_row24_col6\" class=\"data row24 col6\" >0.06</td>\n",
       "                        <td id=\"T_568ff_row24_col7\" class=\"data row24 col7\" >-0.04</td>\n",
       "                        <td id=\"T_568ff_row24_col8\" class=\"data row24 col8\" >0.01</td>\n",
       "                        <td id=\"T_568ff_row24_col9\" class=\"data row24 col9\" >0.04</td>\n",
       "                        <td id=\"T_568ff_row24_col10\" class=\"data row24 col10\" >0.15</td>\n",
       "                        <td id=\"T_568ff_row24_col11\" class=\"data row24 col11\" >0.09</td>\n",
       "                        <td id=\"T_568ff_row24_col12\" class=\"data row24 col12\" >0.00</td>\n",
       "                        <td id=\"T_568ff_row24_col13\" class=\"data row24 col13\" >-0.01</td>\n",
       "                        <td id=\"T_568ff_row24_col14\" class=\"data row24 col14\" >-0.06</td>\n",
       "                        <td id=\"T_568ff_row24_col15\" class=\"data row24 col15\" >-0.03</td>\n",
       "                        <td id=\"T_568ff_row24_col16\" class=\"data row24 col16\" >-0.05</td>\n",
       "                        <td id=\"T_568ff_row24_col17\" class=\"data row24 col17\" >0.00</td>\n",
       "                        <td id=\"T_568ff_row24_col18\" class=\"data row24 col18\" >-0.04</td>\n",
       "                        <td id=\"T_568ff_row24_col19\" class=\"data row24 col19\" >-0.07</td>\n",
       "                        <td id=\"T_568ff_row24_col20\" class=\"data row24 col20\" >-0.03</td>\n",
       "                        <td id=\"T_568ff_row24_col21\" class=\"data row24 col21\" >0.02</td>\n",
       "                        <td id=\"T_568ff_row24_col22\" class=\"data row24 col22\" >0.01</td>\n",
       "                        <td id=\"T_568ff_row24_col23\" class=\"data row24 col23\" >0.08</td>\n",
       "                        <td id=\"T_568ff_row24_col24\" class=\"data row24 col24\" >1.00</td>\n",
       "                        <td id=\"T_568ff_row24_col25\" class=\"data row24 col25\" >0.15</td>\n",
       "                        <td id=\"T_568ff_row24_col26\" class=\"data row24 col26\" >-0.02</td>\n",
       "                        <td id=\"T_568ff_row24_col27\" class=\"data row24 col27\" >-0.03</td>\n",
       "                        <td id=\"T_568ff_row24_col28\" class=\"data row24 col28\" >-0.03</td>\n",
       "                        <td id=\"T_568ff_row24_col29\" class=\"data row24 col29\" >0.02</td>\n",
       "                        <td id=\"T_568ff_row24_col30\" class=\"data row24 col30\" >0.01</td>\n",
       "            </tr>\n",
       "            <tr>\n",
       "                        <th id=\"T_568ff_level0_row25\" class=\"row_heading level0 row25\" >strong_language</th>\n",
       "                        <td id=\"T_568ff_row25_col0\" class=\"data row25 col0\" >-0.08</td>\n",
       "                        <td id=\"T_568ff_row25_col1\" class=\"data row25 col1\" >-0.02</td>\n",
       "                        <td id=\"T_568ff_row25_col2\" class=\"data row25 col2\" >0.29</td>\n",
       "                        <td id=\"T_568ff_row25_col3\" class=\"data row25 col3\" >0.22</td>\n",
       "                        <td id=\"T_568ff_row25_col4\" class=\"data row25 col4\" >-0.05</td>\n",
       "                        <td id=\"T_568ff_row25_col5\" class=\"data row25 col5\" >-0.07</td>\n",
       "                        <td id=\"T_568ff_row25_col6\" class=\"data row25 col6\" >0.16</td>\n",
       "                        <td id=\"T_568ff_row25_col7\" class=\"data row25 col7\" >-0.07</td>\n",
       "                        <td id=\"T_568ff_row25_col8\" class=\"data row25 col8\" >0.10</td>\n",
       "                        <td id=\"T_568ff_row25_col9\" class=\"data row25 col9\" >0.02</td>\n",
       "                        <td id=\"T_568ff_row25_col10\" class=\"data row25 col10\" >-0.01</td>\n",
       "                        <td id=\"T_568ff_row25_col11\" class=\"data row25 col11\" >-0.02</td>\n",
       "                        <td id=\"T_568ff_row25_col12\" class=\"data row25 col12\" >-0.04</td>\n",
       "                        <td id=\"T_568ff_row25_col13\" class=\"data row25 col13\" >-0.04</td>\n",
       "                        <td id=\"T_568ff_row25_col14\" class=\"data row25 col14\" >-0.07</td>\n",
       "                        <td id=\"T_568ff_row25_col15\" class=\"data row25 col15\" >-0.05</td>\n",
       "                        <td id=\"T_568ff_row25_col16\" class=\"data row25 col16\" >-0.11</td>\n",
       "                        <td id=\"T_568ff_row25_col17\" class=\"data row25 col17\" >-0.08</td>\n",
       "                        <td id=\"T_568ff_row25_col18\" class=\"data row25 col18\" >-0.08</td>\n",
       "                        <td id=\"T_568ff_row25_col19\" class=\"data row25 col19\" >-0.09</td>\n",
       "                        <td id=\"T_568ff_row25_col20\" class=\"data row25 col20\" >0.12</td>\n",
       "                        <td id=\"T_568ff_row25_col21\" class=\"data row25 col21\" >0.13</td>\n",
       "                        <td id=\"T_568ff_row25_col22\" class=\"data row25 col22\" >0.16</td>\n",
       "                        <td id=\"T_568ff_row25_col23\" class=\"data row25 col23\" >0.27</td>\n",
       "                        <td id=\"T_568ff_row25_col24\" class=\"data row25 col24\" >0.15</td>\n",
       "                        <td id=\"T_568ff_row25_col25\" class=\"data row25 col25\" >1.00</td>\n",
       "                        <td id=\"T_568ff_row25_col26\" class=\"data row25 col26\" >0.03</td>\n",
       "                        <td id=\"T_568ff_row25_col27\" class=\"data row25 col27\" >-0.01</td>\n",
       "                        <td id=\"T_568ff_row25_col28\" class=\"data row25 col28\" >-0.02</td>\n",
       "                        <td id=\"T_568ff_row25_col29\" class=\"data row25 col29\" >-0.05</td>\n",
       "                        <td id=\"T_568ff_row25_col30\" class=\"data row25 col30\" >-0.01</td>\n",
       "            </tr>\n",
       "            <tr>\n",
       "                        <th id=\"T_568ff_level0_row26\" class=\"row_heading level0 row26\" >strong_sexual_content</th>\n",
       "                        <td id=\"T_568ff_row26_col0\" class=\"data row26 col0\" >0.01</td>\n",
       "                        <td id=\"T_568ff_row26_col1\" class=\"data row26 col1\" >-0.02</td>\n",
       "                        <td id=\"T_568ff_row26_col2\" class=\"data row26 col2\" >-0.04</td>\n",
       "                        <td id=\"T_568ff_row26_col3\" class=\"data row26 col3\" >0.34</td>\n",
       "                        <td id=\"T_568ff_row26_col4\" class=\"data row26 col4\" >-0.03</td>\n",
       "                        <td id=\"T_568ff_row26_col5\" class=\"data row26 col5\" >0.02</td>\n",
       "                        <td id=\"T_568ff_row26_col6\" class=\"data row26 col6\" >0.07</td>\n",
       "                        <td id=\"T_568ff_row26_col7\" class=\"data row26 col7\" >-0.05</td>\n",
       "                        <td id=\"T_568ff_row26_col8\" class=\"data row26 col8\" >0.39</td>\n",
       "                        <td id=\"T_568ff_row26_col9\" class=\"data row26 col9\" >-0.01</td>\n",
       "                        <td id=\"T_568ff_row26_col10\" class=\"data row26 col10\" >-0.02</td>\n",
       "                        <td id=\"T_568ff_row26_col11\" class=\"data row26 col11\" >0.01</td>\n",
       "                        <td id=\"T_568ff_row26_col12\" class=\"data row26 col12\" >-0.02</td>\n",
       "                        <td id=\"T_568ff_row26_col13\" class=\"data row26 col13\" >0.01</td>\n",
       "                        <td id=\"T_568ff_row26_col14\" class=\"data row26 col14\" >-0.04</td>\n",
       "                        <td id=\"T_568ff_row26_col15\" class=\"data row26 col15\" >-0.03</td>\n",
       "                        <td id=\"T_568ff_row26_col16\" class=\"data row26 col16\" >-0.06</td>\n",
       "                        <td id=\"T_568ff_row26_col17\" class=\"data row26 col17\" >-0.01</td>\n",
       "                        <td id=\"T_568ff_row26_col18\" class=\"data row26 col18\" >-0.04</td>\n",
       "                        <td id=\"T_568ff_row26_col19\" class=\"data row26 col19\" >-0.05</td>\n",
       "                        <td id=\"T_568ff_row26_col20\" class=\"data row26 col20\" >-0.00</td>\n",
       "                        <td id=\"T_568ff_row26_col21\" class=\"data row26 col21\" >-0.02</td>\n",
       "                        <td id=\"T_568ff_row26_col22\" class=\"data row26 col22\" >0.01</td>\n",
       "                        <td id=\"T_568ff_row26_col23\" class=\"data row26 col23\" >-0.01</td>\n",
       "                        <td id=\"T_568ff_row26_col24\" class=\"data row26 col24\" >-0.02</td>\n",
       "                        <td id=\"T_568ff_row26_col25\" class=\"data row26 col25\" >0.03</td>\n",
       "                        <td id=\"T_568ff_row26_col26\" class=\"data row26 col26\" >1.00</td>\n",
       "                        <td id=\"T_568ff_row26_col27\" class=\"data row26 col27\" >-0.05</td>\n",
       "                        <td id=\"T_568ff_row26_col28\" class=\"data row26 col28\" >-0.02</td>\n",
       "                        <td id=\"T_568ff_row26_col29\" class=\"data row26 col29\" >-0.02</td>\n",
       "                        <td id=\"T_568ff_row26_col30\" class=\"data row26 col30\" >0.01</td>\n",
       "            </tr>\n",
       "            <tr>\n",
       "                        <th id=\"T_568ff_level0_row27\" class=\"row_heading level0 row27\" >suggestive_themes</th>\n",
       "                        <td id=\"T_568ff_row27_col0\" class=\"data row27 col0\" >-0.00</td>\n",
       "                        <td id=\"T_568ff_row27_col1\" class=\"data row27 col1\" >-0.04</td>\n",
       "                        <td id=\"T_568ff_row27_col2\" class=\"data row27 col2\" >0.09</td>\n",
       "                        <td id=\"T_568ff_row27_col3\" class=\"data row27 col3\" >-0.03</td>\n",
       "                        <td id=\"T_568ff_row27_col4\" class=\"data row27 col4\" >0.01</td>\n",
       "                        <td id=\"T_568ff_row27_col5\" class=\"data row27 col5\" >-0.03</td>\n",
       "                        <td id=\"T_568ff_row27_col6\" class=\"data row27 col6\" >0.04</td>\n",
       "                        <td id=\"T_568ff_row27_col7\" class=\"data row27 col7\" >0.08</td>\n",
       "                        <td id=\"T_568ff_row27_col8\" class=\"data row27 col8\" >-0.01</td>\n",
       "                        <td id=\"T_568ff_row27_col9\" class=\"data row27 col9\" >0.08</td>\n",
       "                        <td id=\"T_568ff_row27_col10\" class=\"data row27 col10\" >0.10</td>\n",
       "                        <td id=\"T_568ff_row27_col11\" class=\"data row27 col11\" >0.11</td>\n",
       "                        <td id=\"T_568ff_row27_col12\" class=\"data row27 col12\" >0.08</td>\n",
       "                        <td id=\"T_568ff_row27_col13\" class=\"data row27 col13\" >-0.01</td>\n",
       "                        <td id=\"T_568ff_row27_col14\" class=\"data row27 col14\" >-0.07</td>\n",
       "                        <td id=\"T_568ff_row27_col15\" class=\"data row27 col15\" >0.02</td>\n",
       "                        <td id=\"T_568ff_row27_col16\" class=\"data row27 col16\" >0.04</td>\n",
       "                        <td id=\"T_568ff_row27_col17\" class=\"data row27 col17\" >0.04</td>\n",
       "                        <td id=\"T_568ff_row27_col18\" class=\"data row27 col18\" >-0.06</td>\n",
       "                        <td id=\"T_568ff_row27_col19\" class=\"data row27 col19\" >-0.09</td>\n",
       "                        <td id=\"T_568ff_row27_col20\" class=\"data row27 col20\" >-0.00</td>\n",
       "                        <td id=\"T_568ff_row27_col21\" class=\"data row27 col21\" >-0.04</td>\n",
       "                        <td id=\"T_568ff_row27_col22\" class=\"data row27 col22\" >0.02</td>\n",
       "                        <td id=\"T_568ff_row27_col23\" class=\"data row27 col23\" >0.01</td>\n",
       "                        <td id=\"T_568ff_row27_col24\" class=\"data row27 col24\" >-0.03</td>\n",
       "                        <td id=\"T_568ff_row27_col25\" class=\"data row27 col25\" >-0.01</td>\n",
       "                        <td id=\"T_568ff_row27_col26\" class=\"data row27 col26\" >-0.05</td>\n",
       "                        <td id=\"T_568ff_row27_col27\" class=\"data row27 col27\" >1.00</td>\n",
       "                        <td id=\"T_568ff_row27_col28\" class=\"data row27 col28\" >-0.03</td>\n",
       "                        <td id=\"T_568ff_row27_col29\" class=\"data row27 col29\" >0.01</td>\n",
       "                        <td id=\"T_568ff_row27_col30\" class=\"data row27 col30\" >0.01</td>\n",
       "            </tr>\n",
       "            <tr>\n",
       "                        <th id=\"T_568ff_level0_row28\" class=\"row_heading level0 row28\" >use_of_alcohol</th>\n",
       "                        <td id=\"T_568ff_row28_col0\" class=\"data row28 col0\" >0.16</td>\n",
       "                        <td id=\"T_568ff_row28_col1\" class=\"data row28 col1\" >0.07</td>\n",
       "                        <td id=\"T_568ff_row28_col2\" class=\"data row28 col2\" >-0.04</td>\n",
       "                        <td id=\"T_568ff_row28_col3\" class=\"data row28 col3\" >-0.01</td>\n",
       "                        <td id=\"T_568ff_row28_col4\" class=\"data row28 col4\" >0.04</td>\n",
       "                        <td id=\"T_568ff_row28_col5\" class=\"data row28 col5\" >-0.01</td>\n",
       "                        <td id=\"T_568ff_row28_col6\" class=\"data row28 col6\" >-0.02</td>\n",
       "                        <td id=\"T_568ff_row28_col7\" class=\"data row28 col7\" >0.00</td>\n",
       "                        <td id=\"T_568ff_row28_col8\" class=\"data row28 col8\" >0.06</td>\n",
       "                        <td id=\"T_568ff_row28_col9\" class=\"data row28 col9\" >-0.00</td>\n",
       "                        <td id=\"T_568ff_row28_col10\" class=\"data row28 col10\" >0.00</td>\n",
       "                        <td id=\"T_568ff_row28_col11\" class=\"data row28 col11\" >-0.01</td>\n",
       "                        <td id=\"T_568ff_row28_col12\" class=\"data row28 col12\" >0.03</td>\n",
       "                        <td id=\"T_568ff_row28_col13\" class=\"data row28 col13\" >0.04</td>\n",
       "                        <td id=\"T_568ff_row28_col14\" class=\"data row28 col14\" >-0.03</td>\n",
       "                        <td id=\"T_568ff_row28_col15\" class=\"data row28 col15\" >0.01</td>\n",
       "                        <td id=\"T_568ff_row28_col16\" class=\"data row28 col16\" >0.03</td>\n",
       "                        <td id=\"T_568ff_row28_col17\" class=\"data row28 col17\" >0.08</td>\n",
       "                        <td id=\"T_568ff_row28_col18\" class=\"data row28 col18\" >0.01</td>\n",
       "                        <td id=\"T_568ff_row28_col19\" class=\"data row28 col19\" >-0.03</td>\n",
       "                        <td id=\"T_568ff_row28_col20\" class=\"data row28 col20\" >0.02</td>\n",
       "                        <td id=\"T_568ff_row28_col21\" class=\"data row28 col21\" >-0.01</td>\n",
       "                        <td id=\"T_568ff_row28_col22\" class=\"data row28 col22\" >0.05</td>\n",
       "                        <td id=\"T_568ff_row28_col23\" class=\"data row28 col23\" >-0.03</td>\n",
       "                        <td id=\"T_568ff_row28_col24\" class=\"data row28 col24\" >-0.03</td>\n",
       "                        <td id=\"T_568ff_row28_col25\" class=\"data row28 col25\" >-0.02</td>\n",
       "                        <td id=\"T_568ff_row28_col26\" class=\"data row28 col26\" >-0.02</td>\n",
       "                        <td id=\"T_568ff_row28_col27\" class=\"data row28 col27\" >-0.03</td>\n",
       "                        <td id=\"T_568ff_row28_col28\" class=\"data row28 col28\" >1.00</td>\n",
       "                        <td id=\"T_568ff_row28_col29\" class=\"data row28 col29\" >-0.02</td>\n",
       "                        <td id=\"T_568ff_row28_col30\" class=\"data row28 col30\" >0.02</td>\n",
       "            </tr>\n",
       "            <tr>\n",
       "                        <th id=\"T_568ff_level0_row29\" class=\"row_heading level0 row29\" >use_of_drugs_and_alcohol</th>\n",
       "                        <td id=\"T_568ff_row29_col0\" class=\"data row29 col0\" >-0.03</td>\n",
       "                        <td id=\"T_568ff_row29_col1\" class=\"data row29 col1\" >0.03</td>\n",
       "                        <td id=\"T_568ff_row29_col2\" class=\"data row29 col2\" >-0.02</td>\n",
       "                        <td id=\"T_568ff_row29_col3\" class=\"data row29 col3\" >0.05</td>\n",
       "                        <td id=\"T_568ff_row29_col4\" class=\"data row29 col4\" >0.01</td>\n",
       "                        <td id=\"T_568ff_row29_col5\" class=\"data row29 col5\" >-0.03</td>\n",
       "                        <td id=\"T_568ff_row29_col6\" class=\"data row29 col6\" >-0.02</td>\n",
       "                        <td id=\"T_568ff_row29_col7\" class=\"data row29 col7\" >0.00</td>\n",
       "                        <td id=\"T_568ff_row29_col8\" class=\"data row29 col8\" >0.01</td>\n",
       "                        <td id=\"T_568ff_row29_col9\" class=\"data row29 col9\" >0.02</td>\n",
       "                        <td id=\"T_568ff_row29_col10\" class=\"data row29 col10\" >0.02</td>\n",
       "                        <td id=\"T_568ff_row29_col11\" class=\"data row29 col11\" >-0.01</td>\n",
       "                        <td id=\"T_568ff_row29_col12\" class=\"data row29 col12\" >-0.02</td>\n",
       "                        <td id=\"T_568ff_row29_col13\" class=\"data row29 col13\" >-0.02</td>\n",
       "                        <td id=\"T_568ff_row29_col14\" class=\"data row29 col14\" >0.01</td>\n",
       "                        <td id=\"T_568ff_row29_col15\" class=\"data row29 col15\" >0.01</td>\n",
       "                        <td id=\"T_568ff_row29_col16\" class=\"data row29 col16\" >0.03</td>\n",
       "                        <td id=\"T_568ff_row29_col17\" class=\"data row29 col17\" >0.01</td>\n",
       "                        <td id=\"T_568ff_row29_col18\" class=\"data row29 col18\" >-0.01</td>\n",
       "                        <td id=\"T_568ff_row29_col19\" class=\"data row29 col19\" >-0.03</td>\n",
       "                        <td id=\"T_568ff_row29_col20\" class=\"data row29 col20\" >0.02</td>\n",
       "                        <td id=\"T_568ff_row29_col21\" class=\"data row29 col21\" >-0.01</td>\n",
       "                        <td id=\"T_568ff_row29_col22\" class=\"data row29 col22\" >-0.02</td>\n",
       "                        <td id=\"T_568ff_row29_col23\" class=\"data row29 col23\" >-0.01</td>\n",
       "                        <td id=\"T_568ff_row29_col24\" class=\"data row29 col24\" >0.02</td>\n",
       "                        <td id=\"T_568ff_row29_col25\" class=\"data row29 col25\" >-0.05</td>\n",
       "                        <td id=\"T_568ff_row29_col26\" class=\"data row29 col26\" >-0.02</td>\n",
       "                        <td id=\"T_568ff_row29_col27\" class=\"data row29 col27\" >0.01</td>\n",
       "                        <td id=\"T_568ff_row29_col28\" class=\"data row29 col28\" >-0.02</td>\n",
       "                        <td id=\"T_568ff_row29_col29\" class=\"data row29 col29\" >1.00</td>\n",
       "                        <td id=\"T_568ff_row29_col30\" class=\"data row29 col30\" >0.05</td>\n",
       "            </tr>\n",
       "            <tr>\n",
       "                        <th id=\"T_568ff_level0_row30\" class=\"row_heading level0 row30\" >violence</th>\n",
       "                        <td id=\"T_568ff_row30_col0\" class=\"data row30 col0\" >-0.04</td>\n",
       "                        <td id=\"T_568ff_row30_col1\" class=\"data row30 col1\" >0.02</td>\n",
       "                        <td id=\"T_568ff_row30_col2\" class=\"data row30 col2\" >0.01</td>\n",
       "                        <td id=\"T_568ff_row30_col3\" class=\"data row30 col3\" >0.06</td>\n",
       "                        <td id=\"T_568ff_row30_col4\" class=\"data row30 col4\" >-0.04</td>\n",
       "                        <td id=\"T_568ff_row30_col5\" class=\"data row30 col5\" >-0.01</td>\n",
       "                        <td id=\"T_568ff_row30_col6\" class=\"data row30 col6\" >-0.00</td>\n",
       "                        <td id=\"T_568ff_row30_col7\" class=\"data row30 col7\" >-0.09</td>\n",
       "                        <td id=\"T_568ff_row30_col8\" class=\"data row30 col8\" >-0.01</td>\n",
       "                        <td id=\"T_568ff_row30_col9\" class=\"data row30 col9\" >-0.02</td>\n",
       "                        <td id=\"T_568ff_row30_col10\" class=\"data row30 col10\" >0.05</td>\n",
       "                        <td id=\"T_568ff_row30_col11\" class=\"data row30 col11\" >-0.03</td>\n",
       "                        <td id=\"T_568ff_row30_col12\" class=\"data row30 col12\" >-0.02</td>\n",
       "                        <td id=\"T_568ff_row30_col13\" class=\"data row30 col13\" >-0.04</td>\n",
       "                        <td id=\"T_568ff_row30_col14\" class=\"data row30 col14\" >-0.06</td>\n",
       "                        <td id=\"T_568ff_row30_col15\" class=\"data row30 col15\" >0.01</td>\n",
       "                        <td id=\"T_568ff_row30_col16\" class=\"data row30 col16\" >0.01</td>\n",
       "                        <td id=\"T_568ff_row30_col17\" class=\"data row30 col17\" >-0.04</td>\n",
       "                        <td id=\"T_568ff_row30_col18\" class=\"data row30 col18\" >-0.03</td>\n",
       "                        <td id=\"T_568ff_row30_col19\" class=\"data row30 col19\" >-0.07</td>\n",
       "                        <td id=\"T_568ff_row30_col20\" class=\"data row30 col20\" >0.06</td>\n",
       "                        <td id=\"T_568ff_row30_col21\" class=\"data row30 col21\" >-0.01</td>\n",
       "                        <td id=\"T_568ff_row30_col22\" class=\"data row30 col22\" >0.01</td>\n",
       "                        <td id=\"T_568ff_row30_col23\" class=\"data row30 col23\" >-0.02</td>\n",
       "                        <td id=\"T_568ff_row30_col24\" class=\"data row30 col24\" >0.01</td>\n",
       "                        <td id=\"T_568ff_row30_col25\" class=\"data row30 col25\" >-0.01</td>\n",
       "                        <td id=\"T_568ff_row30_col26\" class=\"data row30 col26\" >0.01</td>\n",
       "                        <td id=\"T_568ff_row30_col27\" class=\"data row30 col27\" >0.01</td>\n",
       "                        <td id=\"T_568ff_row30_col28\" class=\"data row30 col28\" >0.02</td>\n",
       "                        <td id=\"T_568ff_row30_col29\" class=\"data row30 col29\" >0.05</td>\n",
       "                        <td id=\"T_568ff_row30_col30\" class=\"data row30 col30\" >1.00</td>\n",
       "            </tr>\n",
       "    </tbody></table>"
      ],
      "text/plain": [
       "<pandas.io.formats.style.Styler at 0x287253690d0>"
      ]
     },
     "execution_count": 15,
     "metadata": {},
     "output_type": "execute_result"
    }
   ],
   "source": [
    "correlation = df_dropped.corr()\n",
    "correlation.style.background_gradient(cmap=\"coolwarm\", axis=None).set_precision(2)"
   ]
  },
  {
   "cell_type": "markdown",
   "metadata": {},
   "source": [
    "It seems that generally the correlation between each *ESRB Content* is very weak with the strongest correlation of *0.39* between ."
   ]
  },
  {
   "cell_type": "markdown",
   "metadata": {},
   "source": [
    "<h5> Model Training"
   ]
  },
  {
   "cell_type": "markdown",
   "metadata": {},
   "source": [
    "Since the dataset already provided a separate test dataset, we wont be needing to split the training dataset. We will only need to create a validation dataset"
   ]
  },
  {
   "cell_type": "code",
   "execution_count": 16,
   "metadata": {},
   "outputs": [],
   "source": [
    "accuracy = [] # for storing accuraries\n",
    "label_encoder = preprocessing.LabelEncoder()"
   ]
  },
  {
   "cell_type": "code",
   "execution_count": 17,
   "metadata": {},
   "outputs": [
    {
     "name": "stdout",
     "output_type": "stream",
     "text": [
      "(1895,)\n",
      "(1895, 31)\n"
     ]
    }
   ],
   "source": [
    "y = label_encoder.fit_transform(df_esrb[['esrb_rating']].values.ravel())\n",
    "print(y.shape)\n",
    "print(df_dropped.shape)"
   ]
  },
  {
   "cell_type": "code",
   "execution_count": 18,
   "metadata": {},
   "outputs": [
    {
     "name": "stdout",
     "output_type": "stream",
     "text": [
      "[0 1 2 ... 0 3 0]\n"
     ]
    }
   ],
   "source": [
    "print(y)"
   ]
  },
  {
   "cell_type": "code",
   "execution_count": 19,
   "metadata": {},
   "outputs": [],
   "source": [
    "X = df_dropped.values"
   ]
  },
  {
   "cell_type": "code",
   "execution_count": 20,
   "metadata": {},
   "outputs": [],
   "source": [
    "X_train, X_val, y_train, y_val = train_test_split(X, y, test_size = 0.20, stratify = y, random_state = 42)"
   ]
  },
  {
   "cell_type": "code",
   "execution_count": 21,
   "metadata": {},
   "outputs": [
    {
     "data": {
      "text/plain": [
       "(500, 31)"
      ]
     },
     "execution_count": 21,
     "metadata": {},
     "output_type": "execute_result"
    }
   ],
   "source": [
    "df_test = pd.read_csv(\"test_esrb.csv\")\n",
    "X_test = df_test.drop(['title','console','esrb_rating'], axis = 1).values\n",
    "y_test = label_encoder.fit_transform(df_test[['esrb_rating']].values.ravel())\n",
    "X_test.shape"
   ]
  },
  {
   "cell_type": "markdown",
   "metadata": {},
   "source": [
    "Convert pandas to tensors"
   ]
  },
  {
   "cell_type": "code",
   "execution_count": 22,
   "metadata": {},
   "outputs": [],
   "source": [
    "X_train = torch.Tensor(X_train)\n",
    "y_train = torch.Tensor(y_train)\n",
    "\n",
    "X_test = torch.Tensor(X_test)\n",
    "y_test = torch.Tensor(y_test)\n",
    "\n",
    "X_val = torch.Tensor(X_val)\n",
    "y_val = torch.Tensor(y_val)"
   ]
  },
  {
   "cell_type": "code",
   "execution_count": 23,
   "metadata": {},
   "outputs": [
    {
     "data": {
      "text/plain": [
       "tensor([2., 3., 1.,  ..., 2., 0., 1.])"
      ]
     },
     "execution_count": 23,
     "metadata": {},
     "output_type": "execute_result"
    }
   ],
   "source": [
    "y_train"
   ]
  },
  {
   "cell_type": "code",
   "execution_count": 24,
   "metadata": {},
   "outputs": [],
   "source": [
    "label_mapping = dict(zip(label_encoder.classes_, label_encoder.transform(label_encoder.classes_)))"
   ]
  },
  {
   "cell_type": "markdown",
   "metadata": {},
   "source": [
    "<h5> Neural Network"
   ]
  },
  {
   "cell_type": "code",
   "execution_count": 25,
   "metadata": {},
   "outputs": [
    {
     "data": {
      "text/plain": [
       "Sequential(\n",
       "  (0): Linear(in_features=31, out_features=12, bias=True)\n",
       "  (1): ELU(alpha=1.0, inplace=True)\n",
       "  (2): Linear(in_features=12, out_features=6, bias=True)\n",
       "  (3): ELU(alpha=1.0, inplace=True)\n",
       "  (4): Linear(in_features=6, out_features=4, bias=True)\n",
       "  (5): LogSoftmax(dim=0)\n",
       ")"
      ]
     },
     "execution_count": 25,
     "metadata": {},
     "output_type": "execute_result"
    }
   ],
   "source": [
    "# 31 -> 4\n",
    "network = nn.Sequential(\n",
    "    nn.Linear(31,12),\n",
    "    nn.ELU(inplace=True),\n",
    "    nn.Linear(12,6),\n",
    "    nn.ELU(inplace=True),\n",
    "    nn.Linear(6,4),\n",
    "    nn.LogSoftmax(dim = 0)\n",
    ")\n",
    "network"
   ]
  },
  {
   "cell_type": "code",
   "execution_count": 26,
   "metadata": {},
   "outputs": [],
   "source": [
    "data_loader = DataLoader(X_train,y_train,48)"
   ]
  },
  {
   "cell_type": "code",
   "execution_count": 27,
   "metadata": {},
   "outputs": [],
   "source": [
    "loss_fn = nn.CrossEntropyLoss()"
   ]
  },
  {
   "cell_type": "markdown",
   "metadata": {},
   "source": [
    "![epochs.png](epochs.png)"
   ]
  },
  {
   "cell_type": "markdown",
   "metadata": {},
   "source": [
    "We trained the model with an epoch of 1500 to see what number of epochs is good for efficiency and accuracy. About 200 is where the \"elbow\" is seen but we decided around 350 to chase for a slight improvement in accuracy."
   ]
  },
  {
   "cell_type": "code",
   "execution_count": 28,
   "metadata": {},
   "outputs": [],
   "source": [
    "def objective(trial):\n",
    "    e = 0\n",
    "    max_epochs = 350\n",
    "    is_converged = False\n",
    "    previous_loss = 0\n",
    "    losses = []\n",
    "\n",
    "    optimizer_name = trial.suggest_categorical(\"optimizer\", [\"Adam\", \"RMSprop\"])\n",
    "    lr = trial.suggest_float(\"lr\", 1e-5, 1e-2, log=False)\n",
    "    optimizer = getattr(optim, optimizer_name)(network.parameters(), lr=lr)\n",
    "\n",
    "    while e < max_epochs and is_converged is not True:\n",
    "    \n",
    "        current_epoch_loss = 0\n",
    "        \n",
    "        X_batch, y_batch = data_loader.get_batch()\n",
    "        \n",
    "        # For each batch\n",
    "        for X, y in zip(X_batch, y_batch):\n",
    "            X = torch.Tensor(X)\n",
    "            y = torch.Tensor(y).to(torch.long)\n",
    "            \n",
    "            optimizer.zero_grad()\n",
    "            \n",
    "            s = network.forward(X)\n",
    "            \n",
    "            loss = loss_fn(s,y)\n",
    "            \n",
    "            loss.backward()\n",
    "            \n",
    "            optimizer.step()\n",
    "            \n",
    "            current_epoch_loss += loss.item()\n",
    "        \n",
    "        average_loss = current_epoch_loss / len(X_batch)\n",
    "        losses.append(average_loss)\n",
    "        \n",
    "        # Display the average loss per epoch\n",
    "        # print('Epoch:', e + 1, '\\tLoss: {:.6f}'.format(average_loss))\n",
    "        \n",
    "        if abs(previous_loss - loss) < 0.0000005:\n",
    "            is_converged = True\n",
    "        else:\n",
    "            previous_loss = loss\n",
    "            e += 1\n",
    "    # get accu\n",
    "    network.eval()\n",
    "\n",
    "    with torch.no_grad():\n",
    "        output = network.forward(X_val)\n",
    "        pred = output.argmax(dim=1, keepdim=True)\n",
    "        # num_correct = torch.sum(pred == y_val)\n",
    "    \n",
    "    accuracy = accuracy_score(pred,y_val)*100.0\n",
    "    trial.report(accuracy, e)\n",
    "\n",
    "    return accuracy\n",
    "\n",
    "\n",
    "        \n",
    "\n",
    "    "
   ]
  },
  {
   "cell_type": "code",
   "execution_count": 29,
   "metadata": {},
   "outputs": [],
   "source": [
    "# study = optuna.create_study(direction = 'maximize')\n",
    "# study.optimize(objective, n_trials=100)\n",
    "\n",
    "# print(\"  Number of finished trials: \", len(study.trials))\n",
    "\n",
    "# print(\"Best trial:\")\n",
    "# trial = study.best_trial\n",
    "\n",
    "# print(\"  Value: \", trial.value)\n",
    "\n",
    "# print(\"  Params: \")\n",
    "# for key, value in trial.params.items():\n",
    "#     print(\"    {}: {}\".format(key, value))"
   ]
  },
  {
   "cell_type": "code",
   "execution_count": 30,
   "metadata": {},
   "outputs": [],
   "source": [
    "# study.best_trial"
   ]
  },
  {
   "cell_type": "markdown",
   "metadata": {},
   "source": [
    "<font size=\"1\"> FrozenTrial(number=1, values=[85.4881266490765], datetime_start=datetime.datetime(2022, 6, 30, 20, 25, 36, 105827), datetime_complete=datetime.datetime(2022, 6, 30, 20, 25, 47, 442350), params={'optimizer': 'RMSprop', 'lr': 0.009992566127730968}, distributions={'optimizer': CategoricalDistribution(choices=('Adam', 'RMSprop')), 'lr': UniformDistribution(high=0.01, low=1e-05)}, user_attrs={}, system_attrs={}, intermediate_values={350: 85.4881266490765}, trial_id=1, state=TrialState.COMPLETE, value=None)"
   ]
  },
  {
   "cell_type": "markdown",
   "metadata": {},
   "source": [
    "Using optuna to optimize the hyperparameters (learning rate and optimizer), it came to a conclusion that Using RMSprop with a learning rate of 0.009992566127730968 resulted in the best validation accuracy, 85.4881266490765%."
   ]
  },
  {
   "cell_type": "code",
   "execution_count": 31,
   "metadata": {},
   "outputs": [
    {
     "name": "stdout",
     "output_type": "stream",
     "text": [
      "Epoch: 1 \tLoss: 0.571894\n",
      "Epoch: 2 \tLoss: 0.386639\n",
      "Epoch: 3 \tLoss: 0.350984\n",
      "Epoch: 4 \tLoss: 0.347982\n",
      "Epoch: 5 \tLoss: 0.338056\n",
      "Epoch: 6 \tLoss: 0.340185\n",
      "Epoch: 7 \tLoss: 0.329760\n",
      "Epoch: 8 \tLoss: 0.318349\n",
      "Epoch: 9 \tLoss: 0.319405\n",
      "Epoch: 10 \tLoss: 0.313636\n",
      "Epoch: 11 \tLoss: 0.309251\n",
      "Epoch: 12 \tLoss: 0.312777\n",
      "Epoch: 13 \tLoss: 0.306125\n",
      "Epoch: 14 \tLoss: 0.306551\n",
      "Epoch: 15 \tLoss: 0.298561\n",
      "Epoch: 16 \tLoss: 0.307939\n",
      "Epoch: 17 \tLoss: 0.299298\n",
      "Epoch: 18 \tLoss: 0.296512\n",
      "Epoch: 19 \tLoss: 0.294596\n",
      "Epoch: 20 \tLoss: 0.291359\n",
      "Epoch: 21 \tLoss: 0.294559\n",
      "Epoch: 22 \tLoss: 0.292604\n",
      "Epoch: 23 \tLoss: 0.284097\n",
      "Epoch: 24 \tLoss: 0.296712\n",
      "Epoch: 25 \tLoss: 0.286845\n",
      "Epoch: 26 \tLoss: 0.285432\n",
      "Epoch: 27 \tLoss: 0.295404\n",
      "Epoch: 28 \tLoss: 0.282758\n",
      "Epoch: 29 \tLoss: 0.283138\n",
      "Epoch: 30 \tLoss: 0.286163\n",
      "Epoch: 31 \tLoss: 0.283429\n",
      "Epoch: 32 \tLoss: 0.281245\n",
      "Epoch: 33 \tLoss: 0.273156\n",
      "Epoch: 34 \tLoss: 0.279803\n",
      "Epoch: 35 \tLoss: 0.281613\n",
      "Epoch: 36 \tLoss: 0.277566\n",
      "Epoch: 37 \tLoss: 0.274292\n",
      "Epoch: 38 \tLoss: 0.271340\n",
      "Epoch: 39 \tLoss: 0.271148\n",
      "Epoch: 40 \tLoss: 0.266555\n",
      "Epoch: 41 \tLoss: 0.273367\n",
      "Epoch: 42 \tLoss: 0.263919\n",
      "Epoch: 43 \tLoss: 0.277247\n",
      "Epoch: 44 \tLoss: 0.274448\n",
      "Epoch: 45 \tLoss: 0.270565\n",
      "Epoch: 46 \tLoss: 0.262827\n",
      "Epoch: 47 \tLoss: 0.270514\n",
      "Epoch: 48 \tLoss: 0.268662\n",
      "Epoch: 49 \tLoss: 0.268654\n",
      "Epoch: 50 \tLoss: 0.274244\n",
      "Epoch: 51 \tLoss: 0.269403\n",
      "Epoch: 52 \tLoss: 0.272860\n",
      "Epoch: 53 \tLoss: 0.259727\n",
      "Epoch: 54 \tLoss: 0.265360\n",
      "Epoch: 55 \tLoss: 0.264445\n",
      "Epoch: 56 \tLoss: 0.255966\n",
      "Epoch: 57 \tLoss: 0.268343\n",
      "Epoch: 58 \tLoss: 0.263070\n",
      "Epoch: 59 \tLoss: 0.263684\n",
      "Epoch: 60 \tLoss: 0.258852\n",
      "Epoch: 61 \tLoss: 0.266553\n",
      "Epoch: 62 \tLoss: 0.276471\n",
      "Epoch: 63 \tLoss: 0.262284\n",
      "Epoch: 64 \tLoss: 0.254438\n",
      "Epoch: 65 \tLoss: 0.257161\n",
      "Epoch: 66 \tLoss: 0.261936\n",
      "Epoch: 67 \tLoss: 0.259202\n",
      "Epoch: 68 \tLoss: 0.254231\n",
      "Epoch: 69 \tLoss: 0.258546\n",
      "Epoch: 70 \tLoss: 0.261147\n",
      "Epoch: 71 \tLoss: 0.253947\n",
      "Epoch: 72 \tLoss: 0.259060\n",
      "Epoch: 73 \tLoss: 0.248296\n",
      "Epoch: 74 \tLoss: 0.256549\n",
      "Epoch: 75 \tLoss: 0.247488\n",
      "Epoch: 76 \tLoss: 0.248676\n",
      "Epoch: 77 \tLoss: 0.258506\n",
      "Epoch: 78 \tLoss: 0.256316\n",
      "Epoch: 79 \tLoss: 0.254900\n",
      "Epoch: 80 \tLoss: 0.260616\n",
      "Epoch: 81 \tLoss: 0.255477\n",
      "Epoch: 82 \tLoss: 0.255388\n",
      "Epoch: 83 \tLoss: 0.248769\n",
      "Epoch: 84 \tLoss: 0.251180\n",
      "Epoch: 85 \tLoss: 0.249709\n",
      "Epoch: 86 \tLoss: 0.245952\n",
      "Epoch: 87 \tLoss: 0.246267\n",
      "Epoch: 88 \tLoss: 0.250323\n",
      "Epoch: 89 \tLoss: 0.247577\n",
      "Epoch: 90 \tLoss: 0.255108\n",
      "Epoch: 91 \tLoss: 0.239525\n",
      "Epoch: 92 \tLoss: 0.259784\n",
      "Epoch: 93 \tLoss: 0.250756\n",
      "Epoch: 94 \tLoss: 0.248656\n",
      "Epoch: 95 \tLoss: 0.246154\n",
      "Epoch: 96 \tLoss: 0.245457\n",
      "Epoch: 97 \tLoss: 0.242214\n",
      "Epoch: 98 \tLoss: 0.247420\n",
      "Epoch: 99 \tLoss: 0.251447\n",
      "Epoch: 100 \tLoss: 0.248246\n",
      "Epoch: 101 \tLoss: 0.252916\n",
      "Epoch: 102 \tLoss: 0.248368\n",
      "Epoch: 103 \tLoss: 0.244398\n",
      "Epoch: 104 \tLoss: 0.245815\n",
      "Epoch: 105 \tLoss: 0.245545\n",
      "Epoch: 106 \tLoss: 0.248346\n",
      "Epoch: 107 \tLoss: 0.248614\n",
      "Epoch: 108 \tLoss: 0.243705\n",
      "Epoch: 109 \tLoss: 0.240271\n",
      "Epoch: 110 \tLoss: 0.245123\n",
      "Epoch: 111 \tLoss: 0.242220\n",
      "Epoch: 112 \tLoss: 0.255187\n",
      "Epoch: 113 \tLoss: 0.246672\n",
      "Epoch: 114 \tLoss: 0.248206\n",
      "Epoch: 115 \tLoss: 0.246844\n",
      "Epoch: 116 \tLoss: 0.244877\n",
      "Epoch: 117 \tLoss: 0.246300\n",
      "Epoch: 118 \tLoss: 0.250063\n",
      "Epoch: 119 \tLoss: 0.242754\n",
      "Epoch: 120 \tLoss: 0.243244\n",
      "Epoch: 121 \tLoss: 0.251700\n",
      "Epoch: 122 \tLoss: 0.245354\n",
      "Epoch: 123 \tLoss: 0.230241\n",
      "Epoch: 124 \tLoss: 0.234635\n",
      "Epoch: 125 \tLoss: 0.239354\n",
      "Epoch: 126 \tLoss: 0.243539\n",
      "Epoch: 127 \tLoss: 0.239681\n",
      "Epoch: 128 \tLoss: 0.235035\n",
      "Epoch: 129 \tLoss: 0.241473\n",
      "Epoch: 130 \tLoss: 0.245723\n",
      "Epoch: 131 \tLoss: 0.237779\n",
      "Epoch: 132 \tLoss: 0.243711\n",
      "Epoch: 133 \tLoss: 0.241053\n",
      "Epoch: 134 \tLoss: 0.243014\n",
      "Epoch: 135 \tLoss: 0.235903\n",
      "Epoch: 136 \tLoss: 0.232800\n",
      "Epoch: 137 \tLoss: 0.242155\n",
      "Epoch: 138 \tLoss: 0.246605\n",
      "Epoch: 139 \tLoss: 0.242518\n",
      "Epoch: 140 \tLoss: 0.238066\n",
      "Epoch: 141 \tLoss: 0.237877\n",
      "Epoch: 142 \tLoss: 0.240947\n",
      "Epoch: 143 \tLoss: 0.238711\n",
      "Epoch: 144 \tLoss: 0.235899\n",
      "Epoch: 145 \tLoss: 0.244056\n",
      "Epoch: 146 \tLoss: 0.232813\n",
      "Epoch: 147 \tLoss: 0.233138\n",
      "Epoch: 148 \tLoss: 0.236002\n",
      "Epoch: 149 \tLoss: 0.227193\n",
      "Epoch: 150 \tLoss: 0.234619\n",
      "Epoch: 151 \tLoss: 0.232857\n",
      "Epoch: 152 \tLoss: 0.238766\n",
      "Epoch: 153 \tLoss: 0.242796\n",
      "Epoch: 154 \tLoss: 0.233694\n",
      "Epoch: 155 \tLoss: 0.238456\n",
      "Epoch: 156 \tLoss: 0.234799\n",
      "Epoch: 157 \tLoss: 0.245987\n",
      "Epoch: 158 \tLoss: 0.235337\n",
      "Epoch: 159 \tLoss: 0.239969\n",
      "Epoch: 160 \tLoss: 0.245754\n",
      "Epoch: 161 \tLoss: 0.230462\n",
      "Epoch: 162 \tLoss: 0.235146\n",
      "Epoch: 163 \tLoss: 0.233120\n",
      "Epoch: 164 \tLoss: 0.236497\n",
      "Epoch: 165 \tLoss: 0.235918\n",
      "Epoch: 166 \tLoss: 0.229029\n",
      "Epoch: 167 \tLoss: 0.233039\n",
      "Epoch: 168 \tLoss: 0.234580\n",
      "Epoch: 169 \tLoss: 0.229713\n",
      "Epoch: 170 \tLoss: 0.233137\n",
      "Epoch: 171 \tLoss: 0.232814\n",
      "Epoch: 172 \tLoss: 0.239518\n",
      "Epoch: 173 \tLoss: 0.232582\n",
      "Epoch: 174 \tLoss: 0.232494\n",
      "Epoch: 175 \tLoss: 0.230967\n",
      "Epoch: 176 \tLoss: 0.229166\n",
      "Epoch: 177 \tLoss: 0.231423\n",
      "Epoch: 178 \tLoss: 0.239927\n",
      "Epoch: 179 \tLoss: 0.231042\n",
      "Epoch: 180 \tLoss: 0.234028\n",
      "Epoch: 181 \tLoss: 0.229868\n",
      "Epoch: 182 \tLoss: 0.234946\n",
      "Epoch: 183 \tLoss: 0.232143\n",
      "Epoch: 184 \tLoss: 0.228951\n",
      "Epoch: 185 \tLoss: 0.232408\n",
      "Epoch: 186 \tLoss: 0.233015\n",
      "Epoch: 187 \tLoss: 0.229719\n",
      "Epoch: 188 \tLoss: 0.233448\n",
      "Epoch: 189 \tLoss: 0.231770\n",
      "Epoch: 190 \tLoss: 0.230285\n",
      "Epoch: 191 \tLoss: 0.234922\n",
      "Epoch: 192 \tLoss: 0.232831\n",
      "Epoch: 193 \tLoss: 0.234015\n",
      "Epoch: 194 \tLoss: 0.230025\n",
      "Epoch: 195 \tLoss: 0.237642\n",
      "Epoch: 196 \tLoss: 0.232357\n",
      "Epoch: 197 \tLoss: 0.227169\n",
      "Epoch: 198 \tLoss: 0.224875\n",
      "Epoch: 199 \tLoss: 0.223759\n",
      "Epoch: 200 \tLoss: 0.228057\n",
      "Epoch: 201 \tLoss: 0.239892\n",
      "Epoch: 202 \tLoss: 0.237024\n",
      "Epoch: 203 \tLoss: 0.227148\n",
      "Epoch: 204 \tLoss: 0.231106\n",
      "Epoch: 205 \tLoss: 0.234178\n",
      "Epoch: 206 \tLoss: 0.233911\n",
      "Epoch: 207 \tLoss: 0.236442\n",
      "Epoch: 208 \tLoss: 0.228892\n",
      "Epoch: 209 \tLoss: 0.227092\n",
      "Epoch: 210 \tLoss: 0.227838\n",
      "Epoch: 211 \tLoss: 0.225465\n",
      "Epoch: 212 \tLoss: 0.232064\n",
      "Epoch: 213 \tLoss: 0.232310\n",
      "Epoch: 214 \tLoss: 0.227948\n",
      "Epoch: 215 \tLoss: 0.228861\n",
      "Epoch: 216 \tLoss: 0.226658\n",
      "Epoch: 217 \tLoss: 0.227257\n",
      "Epoch: 218 \tLoss: 0.236963\n",
      "Epoch: 219 \tLoss: 0.238823\n",
      "Epoch: 220 \tLoss: 0.227513\n",
      "Epoch: 221 \tLoss: 0.236300\n",
      "Epoch: 222 \tLoss: 0.230863\n",
      "Epoch: 223 \tLoss: 0.232658\n",
      "Epoch: 224 \tLoss: 0.236930\n",
      "Epoch: 225 \tLoss: 0.232187\n",
      "Epoch: 226 \tLoss: 0.230413\n",
      "Epoch: 227 \tLoss: 0.226614\n",
      "Epoch: 228 \tLoss: 0.229207\n",
      "Epoch: 229 \tLoss: 0.232184\n",
      "Epoch: 230 \tLoss: 0.233016\n",
      "Epoch: 231 \tLoss: 0.222809\n",
      "Epoch: 232 \tLoss: 0.226336\n",
      "Epoch: 233 \tLoss: 0.222787\n",
      "Epoch: 234 \tLoss: 0.227477\n",
      "Epoch: 235 \tLoss: 0.233392\n",
      "Epoch: 236 \tLoss: 0.234132\n",
      "Epoch: 237 \tLoss: 0.225148\n",
      "Epoch: 238 \tLoss: 0.240545\n",
      "Epoch: 239 \tLoss: 0.240496\n",
      "Epoch: 240 \tLoss: 0.229580\n",
      "Epoch: 241 \tLoss: 0.221373\n",
      "Epoch: 242 \tLoss: 0.231219\n",
      "Epoch: 243 \tLoss: 0.231835\n",
      "Epoch: 244 \tLoss: 0.228980\n",
      "Epoch: 245 \tLoss: 0.225387\n",
      "Epoch: 246 \tLoss: 0.234689\n",
      "Epoch: 247 \tLoss: 0.231289\n",
      "Epoch: 248 \tLoss: 0.231152\n",
      "Epoch: 249 \tLoss: 0.232781\n",
      "Epoch: 250 \tLoss: 0.230265\n",
      "Epoch: 251 \tLoss: 0.225752\n",
      "Epoch: 252 \tLoss: 0.226996\n",
      "Epoch: 253 \tLoss: 0.220738\n",
      "Epoch: 254 \tLoss: 0.230890\n",
      "Epoch: 255 \tLoss: 0.228347\n",
      "Epoch: 256 \tLoss: 0.225349\n",
      "Epoch: 257 \tLoss: 0.225831\n",
      "Epoch: 258 \tLoss: 0.230195\n",
      "Epoch: 259 \tLoss: 0.228369\n",
      "Epoch: 260 \tLoss: 0.225277\n",
      "Epoch: 261 \tLoss: 0.240127\n",
      "Epoch: 262 \tLoss: 0.229423\n",
      "Epoch: 263 \tLoss: 0.228222\n",
      "Epoch: 264 \tLoss: 0.230191\n",
      "Epoch: 265 \tLoss: 0.230372\n",
      "Epoch: 266 \tLoss: 0.231811\n",
      "Epoch: 267 \tLoss: 0.220291\n",
      "Epoch: 268 \tLoss: 0.231676\n",
      "Epoch: 269 \tLoss: 0.227399\n",
      "Epoch: 270 \tLoss: 0.226465\n",
      "Epoch: 271 \tLoss: 0.233729\n",
      "Epoch: 272 \tLoss: 0.225885\n",
      "Epoch: 273 \tLoss: 0.234324\n",
      "Epoch: 274 \tLoss: 0.222149\n",
      "Epoch: 275 \tLoss: 0.225749\n",
      "Epoch: 276 \tLoss: 0.225798\n",
      "Epoch: 277 \tLoss: 0.224642\n",
      "Epoch: 278 \tLoss: 0.229020\n",
      "Epoch: 279 \tLoss: 0.229185\n",
      "Epoch: 280 \tLoss: 0.224086\n",
      "Epoch: 281 \tLoss: 0.222662\n",
      "Epoch: 282 \tLoss: 0.229737\n",
      "Epoch: 283 \tLoss: 0.231689\n",
      "Epoch: 284 \tLoss: 0.227622\n",
      "Epoch: 285 \tLoss: 0.233316\n",
      "Epoch: 286 \tLoss: 0.235045\n",
      "Epoch: 287 \tLoss: 0.219362\n",
      "Epoch: 288 \tLoss: 0.227131\n",
      "Epoch: 289 \tLoss: 0.222668\n",
      "Epoch: 290 \tLoss: 0.222876\n",
      "Epoch: 291 \tLoss: 0.227937\n",
      "Epoch: 292 \tLoss: 0.225143\n",
      "Epoch: 293 \tLoss: 0.230586\n",
      "Epoch: 294 \tLoss: 0.228972\n",
      "Epoch: 295 \tLoss: 0.227079\n",
      "Epoch: 296 \tLoss: 0.227151\n",
      "Epoch: 297 \tLoss: 0.233330\n",
      "Epoch: 298 \tLoss: 0.225109\n",
      "Epoch: 299 \tLoss: 0.231999\n",
      "Epoch: 300 \tLoss: 0.226410\n",
      "Epoch: 301 \tLoss: 0.221587\n",
      "Epoch: 302 \tLoss: 0.225102\n",
      "Epoch: 303 \tLoss: 0.228636\n",
      "Epoch: 304 \tLoss: 0.218610\n",
      "Epoch: 305 \tLoss: 0.223018\n",
      "Epoch: 306 \tLoss: 0.227939\n",
      "Epoch: 307 \tLoss: 0.226044\n",
      "Epoch: 308 \tLoss: 0.233383\n",
      "Epoch: 309 \tLoss: 0.225364\n",
      "Epoch: 310 \tLoss: 0.223063\n",
      "Epoch: 311 \tLoss: 0.225753\n",
      "Epoch: 312 \tLoss: 0.220152\n",
      "Epoch: 313 \tLoss: 0.224760\n",
      "Epoch: 314 \tLoss: 0.230412\n",
      "Epoch: 315 \tLoss: 0.235153\n",
      "Epoch: 316 \tLoss: 0.221858\n",
      "Epoch: 317 \tLoss: 0.222436\n",
      "Epoch: 318 \tLoss: 0.227618\n",
      "Epoch: 319 \tLoss: 0.232007\n",
      "Epoch: 320 \tLoss: 0.232082\n",
      "Epoch: 321 \tLoss: 0.231162\n",
      "Epoch: 322 \tLoss: 0.235416\n",
      "Epoch: 323 \tLoss: 0.225445\n",
      "Epoch: 324 \tLoss: 0.231090\n",
      "Epoch: 325 \tLoss: 0.219520\n",
      "Epoch: 326 \tLoss: 0.225941\n",
      "Epoch: 327 \tLoss: 0.224807\n",
      "Epoch: 328 \tLoss: 0.219845\n",
      "Epoch: 329 \tLoss: 0.224668\n",
      "Epoch: 330 \tLoss: 0.228908\n",
      "Epoch: 331 \tLoss: 0.227392\n",
      "Epoch: 332 \tLoss: 0.219690\n",
      "Epoch: 333 \tLoss: 0.232134\n",
      "Epoch: 334 \tLoss: 0.228789\n",
      "Epoch: 335 \tLoss: 0.226616\n",
      "Epoch: 336 \tLoss: 0.224908\n",
      "Epoch: 337 \tLoss: 0.218716\n",
      "Epoch: 338 \tLoss: 0.223481\n",
      "Epoch: 339 \tLoss: 0.223857\n",
      "Epoch: 340 \tLoss: 0.225819\n",
      "Epoch: 341 \tLoss: 0.229245\n",
      "Epoch: 342 \tLoss: 0.226513\n",
      "Epoch: 343 \tLoss: 0.226411\n",
      "Epoch: 344 \tLoss: 0.228259\n",
      "Epoch: 345 \tLoss: 0.223413\n",
      "Epoch: 346 \tLoss: 0.233659\n",
      "Epoch: 347 \tLoss: 0.222373\n",
      "Epoch: 348 \tLoss: 0.217111\n",
      "Epoch: 349 \tLoss: 0.223564\n",
      "Epoch: 350 \tLoss: 0.222488\n"
     ]
    }
   ],
   "source": [
    "e = 0\n",
    "max_epochs = 350\n",
    "is_converged = False\n",
    "previous_loss = 0\n",
    "losses = []\n",
    "\n",
    "lr = 0.009992566127730968\n",
    "optimizer = optim.RMSprop(network.parameters(), lr=lr)\n",
    "\n",
    "while e < max_epochs and is_converged is not True:\n",
    "\n",
    "    current_epoch_loss = 0\n",
    "    \n",
    "    X_batch, y_batch = data_loader.get_batch()\n",
    "    \n",
    "    # For each batch\n",
    "    for X, y in zip(X_batch, y_batch):\n",
    "        X = torch.Tensor(X)\n",
    "        y = torch.Tensor(y).to(torch.long)\n",
    "        \n",
    "        optimizer.zero_grad()\n",
    "        \n",
    "        s = network.forward(X)\n",
    "        \n",
    "        loss = loss_fn(s,y)\n",
    "        \n",
    "        loss.backward()\n",
    "        \n",
    "        optimizer.step()\n",
    "        \n",
    "        current_epoch_loss += loss.item()\n",
    "    \n",
    "    average_loss = current_epoch_loss / len(X_batch)\n",
    "    losses.append(average_loss)\n",
    "    \n",
    "    # Display the average loss per epoch\n",
    "    print('Epoch:', e + 1, '\\tLoss: {:.6f}'.format(average_loss))\n",
    "    \n",
    "    if abs(previous_loss - loss) < 0.0000005:\n",
    "        is_converged = True\n",
    "    else:\n",
    "        previous_loss = loss\n",
    "        e += 1\n"
   ]
  },
  {
   "cell_type": "code",
   "execution_count": 39,
   "metadata": {},
   "outputs": [],
   "source": [
    "network.eval()\n",
    "\n",
    "with torch.no_grad():\n",
    "    output = network.forward(X_test)\n",
    "    pred = output.argmax(dim=1, keepdim=True)\n",
    "nn_accuracy = accuracy_score(pred,y_test)*100.0\n",
    "accuracy.append(('Neural Network',nn_accuracy))\n",
    "confusion_mat = confusion_matrix(pred,y_test)\n",
    "classification_rep = classification_report(pred,y_test,target_names=label_mapping.keys(),digits=4)"
   ]
  },
  {
   "cell_type": "code",
   "execution_count": 40,
   "metadata": {},
   "outputs": [],
   "source": [
    "def test_trial(trial):\n",
    "    e = 0\n",
    "    max_epochs = 350\n",
    "    is_converged = False\n",
    "    previous_loss = 0\n",
    "    losses = []\n",
    "\n",
    "    optimizer_name = trial.suggest_categorical(\"optimizer\", [\"Adam\", \"RMSprop\"])\n",
    "    lr = trial.suggest_float(\"lr\", 1e-5, 1e-2, log=False)\n",
    "    optimizer = getattr(optim, optimizer_name)(network.parameters(), lr=lr)\n",
    "\n",
    "    while e < max_epochs and is_converged is not True:\n",
    "    \n",
    "        current_epoch_loss = 0\n",
    "        \n",
    "        X_batch, y_batch = data_loader.get_batch()\n",
    "        \n",
    "        # For each batch\n",
    "        for X, y in zip(X_batch, y_batch):\n",
    "            X = torch.Tensor(X)\n",
    "            y = torch.Tensor(y).to(torch.long)\n",
    "            \n",
    "            optimizer.zero_grad()\n",
    "            \n",
    "            s = network.forward(X)\n",
    "            \n",
    "            loss = loss_fn(s,y)\n",
    "            \n",
    "            loss.backward()\n",
    "            \n",
    "            optimizer.step()\n",
    "            \n",
    "            current_epoch_loss += loss.item()\n",
    "        \n",
    "        average_loss = current_epoch_loss / len(X_batch)\n",
    "        losses.append(average_loss)\n",
    "        \n",
    "        # Display the average loss per epoch\n",
    "        # print('Epoch:', e + 1, '\\tLoss: {:.6f}'.format(average_loss))\n",
    "        \n",
    "        if abs(previous_loss - loss) < 0.0000005:\n",
    "            is_converged = True\n",
    "        else:\n",
    "            previous_loss = loss\n",
    "            e += 1\n",
    "    # get accu\n",
    "    network.eval()\n",
    "\n",
    "    with torch.no_grad():\n",
    "        output = network.forward(X_test)\n",
    "        pred = output.argmax(dim=1, keepdim=True)\n",
    "        # num_correct = torch.sum(pred == y_val)\n",
    "    \n",
    "    accuracy = accuracy_score(pred,y_test)*100.0\n",
    "    trial.report(accuracy, e)\n",
    "\n",
    "    return accuracy, confusion_matrix(pred,y_test), classification_report(pred,y_test,target_names=label_mapping.keys(),digits=4)"
   ]
  },
  {
   "cell_type": "code",
   "execution_count": 41,
   "metadata": {},
   "outputs": [],
   "source": [
    "# study.best_trial"
   ]
  },
  {
   "cell_type": "code",
   "execution_count": 42,
   "metadata": {},
   "outputs": [],
   "source": [
    "# accuracy , confusion_mat, classification_rep = test_trial(study.best_trial)\n",
    "disp = ConfusionMatrixDisplay(confusion_mat, display_labels = label_mapping)\n"
   ]
  },
  {
   "cell_type": "code",
   "execution_count": 43,
   "metadata": {},
   "outputs": [
    {
     "data": {
      "image/png": "[encoded data removed]",
      "text/plain": [
       "<Figure size 460.8x403.2 with 2 Axes>"
      ]
     },
     "metadata": {},
     "output_type": "display_data"
    },
    {
     "name": "stdout",
     "output_type": "stream",
     "text": [
      "              precision    recall  f1-score   support\n",
      "\n",
      "           E     0.9500    0.9314    0.9406       102\n",
      "          ET     0.7937    0.8333    0.8130       120\n",
      "           M     0.5111    0.9583    0.6667        48\n",
      "           T     0.8967    0.7174    0.7971       230\n",
      "\n",
      "    accuracy                         0.8120       500\n",
      "   macro avg     0.7879    0.8601    0.8043       500\n",
      "weighted avg     0.8458    0.8120    0.8177       500\n",
      "\n",
      "The accuracy of the neural network model is :  81.2 %\n"
     ]
    }
   ],
   "source": [
    "disp.plot()\n",
    "plt.show()\n",
    "print(classification_rep)\n",
    "print(\"The accuracy of the neural network model is : \",nn_accuracy,\"%\")"
   ]
  },
  {
   "cell_type": "markdown",
   "metadata": {},
   "source": [
    "The model struggled in predicting some of the \"T\" rated games as \"M\". "
   ]
  },
  {
   "cell_type": "markdown",
   "metadata": {},
   "source": [
    "<h5> Decision Tree "
   ]
  },
  {
   "cell_type": "code",
   "execution_count": 44,
   "metadata": {
    "ExecuteTime": {
     "end_time": "2022-06-29T08:47:02.384939Z",
     "start_time": "2022-06-29T08:47:02.344213Z"
    }
   },
   "outputs": [],
   "source": [
    "\n",
    "dtc = DecisionTreeClassifier(random_state=42)"
   ]
  },
  {
   "cell_type": "code",
   "execution_count": 45,
   "metadata": {
    "ExecuteTime": {
     "end_time": "2022-06-29T08:47:03.232951Z",
     "start_time": "2022-06-29T08:47:03.183229Z"
    }
   },
   "outputs": [],
   "source": [
    "dtc.fit(X_train, y_train)\n",
    "predictions_train = dtc.predict(X_train)"
   ]
  },
  {
   "cell_type": "code",
   "execution_count": 46,
   "metadata": {
    "ExecuteTime": {
     "end_time": "2022-06-29T08:47:04.631528Z",
     "start_time": "2022-06-29T08:47:04.591373Z"
    }
   },
   "outputs": [],
   "source": [
    "\n",
    "def compute_accuracy(predictions, actual):\n",
    "    # write code here\n",
    "    return accuracy_score(actual, predictions) * 100"
   ]
  },
  {
   "cell_type": "code",
   "execution_count": 47,
   "metadata": {
    "ExecuteTime": {
     "end_time": "2022-06-29T08:47:05.554950Z",
     "start_time": "2022-06-29T08:47:05.508248Z"
    }
   },
   "outputs": [
    {
     "name": "stdout",
     "output_type": "stream",
     "text": [
      "Training accuracy:  91.88654353562006 %\n"
     ]
    }
   ],
   "source": [
    "print(\"Training accuracy: \", compute_accuracy(y_train, predictions_train),\"%\")"
   ]
  },
  {
   "cell_type": "code",
   "execution_count": 48,
   "metadata": {
    "ExecuteTime": {
     "end_time": "2022-06-29T08:47:06.647736Z",
     "start_time": "2022-06-29T08:47:06.594846Z"
    }
   },
   "outputs": [
    {
     "name": "stdout",
     "output_type": "stream",
     "text": [
      "Testing accuracy:  83.0 %\n"
     ]
    }
   ],
   "source": [
    "predictions = dtc.predict(X_test)\n",
    "dtc_accuracy = compute_accuracy(y_test, predictions)\n",
    "accuracy.append((\"Decision Tree\",dtc_accuracy))\n",
    "print(\"Testing accuracy: \", dtc_accuracy,\"%\")"
   ]
  },
  {
   "cell_type": "markdown",
   "metadata": {},
   "source": [
    "<h5> Logistic Regression"
   ]
  },
  {
   "cell_type": "markdown",
   "metadata": {},
   "source": [
    "Instantiate SGDClassifier to create a Logistic regression model."
   ]
  },
  {
   "cell_type": "code",
   "execution_count": 49,
   "metadata": {},
   "outputs": [],
   "source": [
    "# log_reg_model = SGDClassifier(loss='log_loss', random_state=1, verbose=1)\n",
    "log_reg_model = SGDClassifier(loss='log', random_state=1, verbose=1)\n",
    "max_epochs = 350"
   ]
  },
  {
   "cell_type": "code",
   "execution_count": 50,
   "metadata": {},
   "outputs": [
    {
     "name": "stdout",
     "output_type": "stream",
     "text": [
      "-- Epoch 1\n",
      "Norm: 35.44, NNZs: 31, Bias: 4.983405, T: 1516, Avg. loss: 0.190804\n",
      "Total training time: 0.00 seconds.\n",
      "-- Epoch 2\n",
      "Norm: 28.14, NNZs: 31, Bias: 3.101995, T: 3032, Avg. loss: 0.096965\n",
      "Total training time: 0.00 seconds.\n",
      "-- Epoch 3\n",
      "Norm: 25.11, NNZs: 31, Bias: 3.253871, T: 4548, Avg. loss: 0.075039\n",
      "Total training time: 0.00 seconds.\n",
      "-- Epoch 4\n",
      "Norm: 23.62, NNZs: 31, Bias: 4.033325, T: 6064, Avg. loss: 0.065756\n",
      "Total training time: 0.00 seconds.\n",
      "-- Epoch 5\n",
      "Norm: 23.07, NNZs: 31, Bias: 2.349643, T: 7580, Avg. loss: 0.066546\n",
      "Total training time: 0.00 seconds.\n",
      "-- Epoch 6\n",
      "Norm: 22.75, NNZs: 31, Bias: 1.520802, T: 9096, Avg. loss: 0.063354\n",
      "Total training time: 0.00 seconds.\n",
      "-- Epoch 7\n",
      "Norm: 22.50, NNZs: 31, Bias: 2.960721, T: 10612, Avg. loss: 0.062394\n",
      "Total training time: 0.00 seconds.\n",
      "-- Epoch 8\n",
      "Norm: 22.31, NNZs: 31, Bias: 2.731014, T: 12128, Avg. loss: 0.060268\n",
      "Total training time: 0.00 seconds.\n",
      "-- Epoch 9\n",
      "Norm: 22.31, NNZs: 31, Bias: 1.989293, T: 13644, Avg. loss: 0.061052\n",
      "Total training time: 0.00 seconds.\n",
      "-- Epoch 10\n",
      "Norm: 22.20, NNZs: 31, Bias: 2.660963, T: 15160, Avg. loss: 0.059207\n",
      "Total training time: 0.00 seconds.\n",
      "-- Epoch 11\n",
      "Norm: 22.01, NNZs: 31, Bias: 3.015445, T: 16676, Avg. loss: 0.058090\n",
      "Total training time: 0.00 seconds.\n",
      "-- Epoch 12\n",
      "Norm: 22.05, NNZs: 31, Bias: 2.691184, T: 18192, Avg. loss: 0.058608\n",
      "Total training time: 0.00 seconds.\n",
      "-- Epoch 13\n",
      "Norm: 22.02, NNZs: 31, Bias: 2.629526, T: 19708, Avg. loss: 0.057085\n",
      "Total training time: 0.01 seconds.\n",
      "-- Epoch 14\n",
      "Norm: 21.96, NNZs: 31, Bias: 2.383693, T: 21224, Avg. loss: 0.058867\n",
      "Total training time: 0.01 seconds.\n",
      "-- Epoch 15\n",
      "Norm: 22.00, NNZs: 31, Bias: 1.767277, T: 22740, Avg. loss: 0.057940\n",
      "Total training time: 0.01 seconds.\n",
      "-- Epoch 16\n",
      "Norm: 21.90, NNZs: 31, Bias: 2.164334, T: 24256, Avg. loss: 0.058192\n",
      "Total training time: 0.01 seconds.\n",
      "-- Epoch 17\n",
      "Norm: 21.86, NNZs: 31, Bias: 2.353261, T: 25772, Avg. loss: 0.058131\n",
      "Total training time: 0.01 seconds.\n",
      "-- Epoch 18\n",
      "Norm: 21.85, NNZs: 31, Bias: 2.535388, T: 27288, Avg. loss: 0.055889\n",
      "Total training time: 0.01 seconds.\n",
      "-- Epoch 19\n",
      "Norm: 21.76, NNZs: 31, Bias: 2.352440, T: 28804, Avg. loss: 0.057944\n",
      "Total training time: 0.01 seconds.\n",
      "-- Epoch 20\n",
      "Norm: 21.72, NNZs: 31, Bias: 2.387720, T: 30320, Avg. loss: 0.057729\n",
      "Total training time: 0.01 seconds.\n",
      "-- Epoch 21\n",
      "Norm: 21.72, NNZs: 31, Bias: 2.841432, T: 31836, Avg. loss: 0.055640\n",
      "Total training time: 0.01 seconds.\n",
      "-- Epoch 22\n",
      "Norm: 21.73, NNZs: 31, Bias: 2.367613, T: 33352, Avg. loss: 0.057200\n",
      "Total training time: 0.01 seconds.\n",
      "-- Epoch 23\n",
      "Norm: 21.72, NNZs: 31, Bias: 2.480208, T: 34868, Avg. loss: 0.057263\n",
      "Total training time: 0.01 seconds.\n",
      "Convergence after 23 epochs took 0.01 seconds\n",
      "-- Epoch 1\n",
      "Norm: 35.79, NNZs: 31, Bias: -1.019450, T: 1516, Avg. loss: 1.182519\n",
      "Total training time: 0.00 seconds.\n",
      "-- Epoch 2\n",
      "Norm: 25.78, NNZs: 31, Bias: -1.913440, T: 3032, Avg. loss: 0.657425\n",
      "Total training time: 0.00 seconds.\n",
      "-- Epoch 3\n",
      "Norm: 20.04, NNZs: 31, Bias: -3.334569, T: 4548, Avg. loss: 0.479711\n",
      "Total training time: 0.00 seconds.\n",
      "-- Epoch 4\n",
      "Norm: 17.92, NNZs: 31, Bias: -3.774979, T: 6064, Avg. loss: 0.376462\n",
      "Total training time: 0.00 seconds.\n",
      "-- Epoch 5\n",
      "Norm: 16.59, NNZs: 31, Bias: -4.016205, T: 7580, Avg. loss: 0.358288\n",
      "Total training time: 0.00 seconds.\n",
      "-- Epoch 6\n",
      "Norm: 14.89, NNZs: 31, Bias: -2.031443, T: 9096, Avg. loss: 0.336021\n",
      "Total training time: 0.00 seconds.\n",
      "-- Epoch 7\n",
      "Norm: 14.79, NNZs: 31, Bias: -0.817998, T: 10612, Avg. loss: 0.320789\n",
      "Total training time: 0.00 seconds.\n",
      "-- Epoch 8\n",
      "Norm: 14.14, NNZs: 31, Bias: -0.862490, T: 12128, Avg. loss: 0.303447\n",
      "Total training time: 0.00 seconds.\n",
      "-- Epoch 9\n",
      "Norm: 13.68, NNZs: 31, Bias: -1.097077, T: 13644, Avg. loss: 0.292949\n",
      "Total training time: 0.00 seconds.\n",
      "-- Epoch 10\n",
      "Norm: 13.83, NNZs: 31, Bias: -2.210236, T: 15160, Avg. loss: 0.284317\n",
      "Total training time: 0.00 seconds.\n",
      "-- Epoch 11\n",
      "Norm: 12.54, NNZs: 31, Bias: -1.891560, T: 16676, Avg. loss: 0.282483\n",
      "Total training time: 0.01 seconds.\n",
      "-- Epoch 12\n",
      "Norm: 12.38, NNZs: 31, Bias: -2.225334, T: 18192, Avg. loss: 0.274188\n",
      "Total training time: 0.01 seconds.\n",
      "-- Epoch 13\n",
      "Norm: 12.57, NNZs: 31, Bias: -1.208784, T: 19708, Avg. loss: 0.275491\n",
      "Total training time: 0.01 seconds.\n",
      "-- Epoch 14\n",
      "Norm: 12.03, NNZs: 31, Bias: -1.531479, T: 21224, Avg. loss: 0.270343\n",
      "Total training time: 0.01 seconds.\n",
      "-- Epoch 15\n",
      "Norm: 11.85, NNZs: 31, Bias: -2.673500, T: 22740, Avg. loss: 0.268441\n",
      "Total training time: 0.01 seconds.\n",
      "-- Epoch 16\n",
      "Norm: 12.21, NNZs: 31, Bias: -1.554455, T: 24256, Avg. loss: 0.267254\n",
      "Total training time: 0.01 seconds.\n",
      "-- Epoch 17\n",
      "Norm: 12.07, NNZs: 31, Bias: -1.625585, T: 25772, Avg. loss: 0.262393\n",
      "Total training time: 0.01 seconds.\n",
      "-- Epoch 18\n",
      "Norm: 11.97, NNZs: 31, Bias: -1.688478, T: 27288, Avg. loss: 0.263647\n",
      "Total training time: 0.01 seconds.\n",
      "-- Epoch 19\n",
      "Norm: 12.19, NNZs: 31, Bias: -1.877776, T: 28804, Avg. loss: 0.255524\n",
      "Total training time: 0.01 seconds.\n",
      "-- Epoch 20\n",
      "Norm: 11.93, NNZs: 31, Bias: -1.972399, T: 30320, Avg. loss: 0.263407\n",
      "Total training time: 0.01 seconds.\n",
      "-- Epoch 21\n",
      "Norm: 11.75, NNZs: 31, Bias: -1.966710, T: 31836, Avg. loss: 0.259505\n",
      "Total training time: 0.01 seconds.\n",
      "-- Epoch 22\n",
      "Norm: 11.75, NNZs: 31, Bias: -1.726024, T: 33352, Avg. loss: 0.258791\n",
      "Total training time: 0.01 seconds.\n",
      "-- Epoch 23\n",
      "Norm: 11.84, NNZs: 31, Bias: -2.348139, T: 34868, Avg. loss: 0.252836\n",
      "Total training time: 0.01 seconds.\n",
      "-- Epoch 24\n",
      "Norm: 11.62, NNZs: 31, Bias: -1.841629, T: 36384, Avg. loss: 0.257051\n",
      "Total training time: 0.01 seconds.\n",
      "-- Epoch 25\n",
      "Norm: 11.84, NNZs: 31, Bias: -2.247062, T: 37900, Avg. loss: 0.253467\n",
      "Total training time: 0.01 seconds.\n",
      "-- Epoch 26\n",
      "Norm: 11.55, NNZs: 31, Bias: -2.696974, T: 39416, Avg. loss: 0.255770\n",
      "Total training time: 0.01 seconds.\n",
      "-- Epoch 27\n",
      "Norm: 11.59, NNZs: 31, Bias: -2.229927, T: 40932, Avg. loss: 0.255274\n",
      "Total training time: 0.01 seconds.\n",
      "-- Epoch 28\n",
      "Norm: 11.54, NNZs: 31, Bias: -2.445165, T: 42448, Avg. loss: 0.251237\n",
      "Total training time: 0.01 seconds.\n",
      "-- Epoch 29\n",
      "Norm: 11.47, NNZs: 31, Bias: -2.516818, T: 43964, Avg. loss: 0.253981\n",
      "Total training time: 0.01 seconds.\n",
      "-- Epoch 30\n",
      "Norm: 11.62, NNZs: 31, Bias: -1.224306, T: 45480, Avg. loss: 0.251660\n",
      "Total training time: 0.01 seconds.\n",
      "-- Epoch 31\n",
      "Norm: 11.54, NNZs: 31, Bias: -2.011528, T: 46996, Avg. loss: 0.251091\n",
      "Total training time: 0.01 seconds.\n",
      "-- Epoch 32\n",
      "Norm: 11.54, NNZs: 31, Bias: -2.001479, T: 48512, Avg. loss: 0.251521\n",
      "Total training time: 0.01 seconds.\n",
      "-- Epoch 33\n",
      "Norm: 11.61, NNZs: 31, Bias: -1.907319, T: 50028, Avg. loss: 0.249530\n",
      "Total training time: 0.01 seconds.\n",
      "-- Epoch 34\n",
      "Norm: 11.52, NNZs: 31, Bias: -2.001295, T: 51544, Avg. loss: 0.250047\n",
      "Total training time: 0.01 seconds.\n",
      "-- Epoch 35\n",
      "Norm: 11.53, NNZs: 31, Bias: -1.843612, T: 53060, Avg. loss: 0.250189\n",
      "Total training time: 0.01 seconds.\n",
      "-- Epoch 36\n",
      "Norm: 11.62, NNZs: 31, Bias: -2.106615, T: 54576, Avg. loss: 0.245544\n",
      "Total training time: 0.01 seconds.\n",
      "-- Epoch 37\n",
      "Norm: 11.57, NNZs: 31, Bias: -1.824823, T: 56092, Avg. loss: 0.250335\n",
      "Total training time: 0.01 seconds.\n",
      "-- Epoch 38\n",
      "Norm: 11.53, NNZs: 31, Bias: -1.806478, T: 57608, Avg. loss: 0.249971\n",
      "Total training time: 0.01 seconds.\n",
      "-- Epoch 39\n",
      "Norm: 11.64, NNZs: 31, Bias: -1.478502, T: 59124, Avg. loss: 0.245315\n",
      "Total training time: 0.01 seconds.\n",
      "-- Epoch 40\n",
      "Norm: 11.54, NNZs: 31, Bias: -1.292737, T: 60640, Avg. loss: 0.246524\n",
      "Total training time: 0.01 seconds.\n",
      "-- Epoch 41\n",
      "Norm: 11.54, NNZs: 31, Bias: -1.571635, T: 62156, Avg. loss: 0.249288\n",
      "Total training time: 0.02 seconds.\n",
      "Convergence after 41 epochs took 0.02 seconds\n",
      "-- Epoch 1\n",
      "Norm: 37.01, NNZs: 31, Bias: -8.036891, T: 1516, Avg. loss: 0.677774\n",
      "Total training time: 0.00 seconds.\n",
      "-- Epoch 2\n",
      "Norm: 26.31, NNZs: 31, Bias: -9.953479, T: 3032, Avg. loss: 0.272770\n",
      "Total training time: 0.00 seconds.\n",
      "-- Epoch 3\n",
      "Norm: 23.00, NNZs: 31, Bias: -5.834390, T: 4548, Avg. loss: 0.211155\n",
      "Total training time: 0.00 seconds.\n",
      "-- Epoch 4\n",
      "Norm: 19.09, NNZs: 31, Bias: -5.006513, T: 6064, Avg. loss: 0.176570\n",
      "Total training time: 0.00 seconds.\n",
      "-- Epoch 5\n",
      "Norm: 18.07, NNZs: 31, Bias: -2.896739, T: 7580, Avg. loss: 0.161646\n",
      "Total training time: 0.00 seconds.\n",
      "-- Epoch 6\n",
      "Norm: 17.33, NNZs: 31, Bias: -3.235005, T: 9096, Avg. loss: 0.142200\n",
      "Total training time: 0.00 seconds.\n",
      "-- Epoch 7\n",
      "Norm: 16.74, NNZs: 31, Bias: -4.683599, T: 10612, Avg. loss: 0.137204\n",
      "Total training time: 0.00 seconds.\n",
      "-- Epoch 8\n",
      "Norm: 16.01, NNZs: 31, Bias: -3.982872, T: 12128, Avg. loss: 0.144410\n",
      "Total training time: 0.00 seconds.\n",
      "-- Epoch 9\n",
      "Norm: 15.20, NNZs: 31, Bias: -4.209288, T: 13644, Avg. loss: 0.132712\n",
      "Total training time: 0.01 seconds.\n",
      "-- Epoch 10\n",
      "Norm: 14.98, NNZs: 31, Bias: -3.181707, T: 15160, Avg. loss: 0.132642\n",
      "Total training time: 0.01 seconds.\n",
      "-- Epoch 11\n",
      "Norm: 14.94, NNZs: 31, Bias: -3.145081, T: 16676, Avg. loss: 0.127528\n",
      "Total training time: 0.01 seconds.\n",
      "-- Epoch 12\n",
      "Norm: 14.45, NNZs: 31, Bias: -4.130879, T: 18192, Avg. loss: 0.129549\n",
      "Total training time: 0.01 seconds.\n",
      "-- Epoch 13\n",
      "Norm: 14.14, NNZs: 31, Bias: -4.391671, T: 19708, Avg. loss: 0.126420\n",
      "Total training time: 0.01 seconds.\n",
      "-- Epoch 14\n",
      "Norm: 14.18, NNZs: 31, Bias: -3.833708, T: 21224, Avg. loss: 0.124875\n",
      "Total training time: 0.01 seconds.\n",
      "-- Epoch 15\n",
      "Norm: 13.89, NNZs: 31, Bias: -4.441171, T: 22740, Avg. loss: 0.123113\n",
      "Total training time: 0.01 seconds.\n",
      "-- Epoch 16\n",
      "Norm: 13.75, NNZs: 31, Bias: -3.818575, T: 24256, Avg. loss: 0.125614\n",
      "Total training time: 0.01 seconds.\n",
      "-- Epoch 17\n",
      "Norm: 13.55, NNZs: 31, Bias: -4.285657, T: 25772, Avg. loss: 0.125206\n",
      "Total training time: 0.01 seconds.\n",
      "-- Epoch 18\n",
      "Norm: 13.74, NNZs: 31, Bias: -3.810164, T: 27288, Avg. loss: 0.121857\n",
      "Total training time: 0.01 seconds.\n",
      "-- Epoch 19\n",
      "Norm: 13.70, NNZs: 31, Bias: -4.002801, T: 28804, Avg. loss: 0.120393\n",
      "Total training time: 0.01 seconds.\n",
      "-- Epoch 20\n",
      "Norm: 13.61, NNZs: 31, Bias: -3.824580, T: 30320, Avg. loss: 0.121881\n",
      "Total training time: 0.01 seconds.\n",
      "-- Epoch 21\n",
      "Norm: 13.57, NNZs: 31, Bias: -3.953541, T: 31836, Avg. loss: 0.120999\n",
      "Total training time: 0.01 seconds.\n",
      "-- Epoch 22\n",
      "Norm: 13.27, NNZs: 31, Bias: -4.487492, T: 33352, Avg. loss: 0.120626\n",
      "Total training time: 0.01 seconds.\n",
      "-- Epoch 23\n",
      "Norm: 13.37, NNZs: 31, Bias: -3.818721, T: 34868, Avg. loss: 0.119580\n",
      "Total training time: 0.01 seconds.\n",
      "-- Epoch 24\n",
      "Norm: 13.38, NNZs: 31, Bias: -3.969266, T: 36384, Avg. loss: 0.119223\n",
      "Total training time: 0.01 seconds.\n",
      "Convergence after 24 epochs took 0.01 seconds\n",
      "-- Epoch 1\n",
      "Norm: 33.96, NNZs: 31, Bias: -7.344316, T: 1516, Avg. loss: 2.111570\n",
      "Total training time: 0.00 seconds.\n",
      "-- Epoch 2\n",
      "Norm: 25.98, NNZs: 31, Bias: -0.998371, T: 3032, Avg. loss: 0.961617\n",
      "Total training time: 0.00 seconds.\n",
      "-- Epoch 3\n",
      "Norm: 20.88, NNZs: 31, Bias: -2.780600, T: 4548, Avg. loss: 0.757105\n",
      "Total training time: 0.00 seconds.\n",
      "-- Epoch 4\n",
      "Norm: 15.54, NNZs: 31, Bias: -3.218800, T: 6064, Avg. loss: 0.625135\n",
      "Total training time: 0.00 seconds.\n",
      "-- Epoch 5\n",
      "Norm: 15.30, NNZs: 31, Bias: -1.068145, T: 7580, Avg. loss: 0.550309\n",
      "Total training time: 0.00 seconds.\n",
      "-- Epoch 6\n",
      "Norm: 14.44, NNZs: 31, Bias: -2.013294, T: 9096, Avg. loss: 0.518263\n",
      "Total training time: 0.00 seconds.\n",
      "-- Epoch 7\n",
      "Norm: 14.12, NNZs: 31, Bias: -1.965794, T: 10612, Avg. loss: 0.483456\n",
      "Total training time: 0.00 seconds.\n",
      "-- Epoch 8\n",
      "Norm: 12.79, NNZs: 31, Bias: -0.902186, T: 12128, Avg. loss: 0.475360\n",
      "Total training time: 0.01 seconds.\n",
      "-- Epoch 9\n",
      "Norm: 12.38, NNZs: 31, Bias: -1.207820, T: 13644, Avg. loss: 0.452398\n",
      "Total training time: 0.01 seconds.\n",
      "-- Epoch 10\n",
      "Norm: 11.89, NNZs: 31, Bias: -2.034324, T: 15160, Avg. loss: 0.444678\n",
      "Total training time: 0.01 seconds.\n",
      "-- Epoch 11\n",
      "Norm: 11.72, NNZs: 31, Bias: -1.856703, T: 16676, Avg. loss: 0.442179\n",
      "Total training time: 0.01 seconds.\n",
      "-- Epoch 12\n",
      "Norm: 11.18, NNZs: 31, Bias: -2.077758, T: 18192, Avg. loss: 0.432421\n",
      "Total training time: 0.01 seconds.\n",
      "-- Epoch 13\n",
      "Norm: 11.18, NNZs: 31, Bias: -2.683419, T: 19708, Avg. loss: 0.420305\n",
      "Total training time: 0.01 seconds.\n",
      "-- Epoch 14\n",
      "Norm: 11.30, NNZs: 31, Bias: -1.712650, T: 21224, Avg. loss: 0.422215\n",
      "Total training time: 0.01 seconds.\n",
      "-- Epoch 15\n",
      "Norm: 11.01, NNZs: 31, Bias: -0.907698, T: 22740, Avg. loss: 0.417362\n",
      "Total training time: 0.01 seconds.\n",
      "-- Epoch 16\n",
      "Norm: 10.92, NNZs: 31, Bias: -1.469103, T: 24256, Avg. loss: 0.413481\n",
      "Total training time: 0.01 seconds.\n",
      "-- Epoch 17\n",
      "Norm: 10.64, NNZs: 31, Bias: -2.205846, T: 25772, Avg. loss: 0.410268\n",
      "Total training time: 0.01 seconds.\n",
      "-- Epoch 18\n",
      "Norm: 10.96, NNZs: 31, Bias: -1.471401, T: 27288, Avg. loss: 0.404344\n",
      "Total training time: 0.01 seconds.\n",
      "-- Epoch 19\n",
      "Norm: 10.56, NNZs: 31, Bias: -2.162143, T: 28804, Avg. loss: 0.402704\n",
      "Total training time: 0.01 seconds.\n",
      "-- Epoch 20\n",
      "Norm: 10.48, NNZs: 31, Bias: -2.192583, T: 30320, Avg. loss: 0.406394\n",
      "Total training time: 0.01 seconds.\n",
      "-- Epoch 21\n",
      "Norm: 10.64, NNZs: 31, Bias: -1.051590, T: 31836, Avg. loss: 0.403528\n",
      "Total training time: 0.01 seconds.\n",
      "-- Epoch 22\n",
      "Norm: 10.76, NNZs: 31, Bias: -1.845684, T: 33352, Avg. loss: 0.395349\n",
      "Total training time: 0.01 seconds.\n",
      "-- Epoch 23\n",
      "Norm: 10.62, NNZs: 31, Bias: -1.915257, T: 34868, Avg. loss: 0.399711\n",
      "Total training time: 0.02 seconds.\n",
      "-- Epoch 24\n",
      "Norm: 10.45, NNZs: 31, Bias: -1.767635, T: 36384, Avg. loss: 0.397751\n",
      "Total training time: 0.02 seconds.\n",
      "-- Epoch 25\n",
      "Norm: 10.34, NNZs: 31, Bias: -1.123377, T: 37900, Avg. loss: 0.398092\n",
      "Total training time: 0.02 seconds.\n",
      "-- Epoch 26\n",
      "Norm: 10.36, NNZs: 31, Bias: -1.790745, T: 39416, Avg. loss: 0.393103\n",
      "Total training time: 0.02 seconds.\n",
      "-- Epoch 27\n",
      "Norm: 10.41, NNZs: 31, Bias: -1.321581, T: 40932, Avg. loss: 0.393077\n",
      "Total training time: 0.02 seconds.\n",
      "-- Epoch 28\n",
      "Norm: 10.24, NNZs: 31, Bias: -2.042040, T: 42448, Avg. loss: 0.392754\n",
      "Total training time: 0.02 seconds.\n",
      "-- Epoch 29\n",
      "Norm: 10.19, NNZs: 31, Bias: -1.846891, T: 43964, Avg. loss: 0.389761\n",
      "Total training time: 0.02 seconds.\n",
      "-- Epoch 30\n",
      "Norm: 10.36, NNZs: 31, Bias: -1.393283, T: 45480, Avg. loss: 0.390237\n",
      "Total training time: 0.02 seconds.\n",
      "-- Epoch 31\n",
      "Norm: 10.44, NNZs: 31, Bias: -1.777375, T: 46996, Avg. loss: 0.390388\n",
      "Total training time: 0.02 seconds.\n",
      "-- Epoch 32\n",
      "Norm: 10.32, NNZs: 31, Bias: -2.177999, T: 48512, Avg. loss: 0.387650\n",
      "Total training time: 0.02 seconds.\n",
      "-- Epoch 33\n",
      "Norm: 10.19, NNZs: 31, Bias: -1.602844, T: 50028, Avg. loss: 0.388083\n",
      "Total training time: 0.02 seconds.\n",
      "-- Epoch 34\n",
      "Norm: 10.32, NNZs: 31, Bias: -1.469875, T: 51544, Avg. loss: 0.390131\n",
      "Total training time: 0.02 seconds.\n",
      "-- Epoch 35\n",
      "Norm: 10.27, NNZs: 31, Bias: -2.289845, T: 53060, Avg. loss: 0.382999\n",
      "Total training time: 0.03 seconds.\n",
      "-- Epoch 36\n",
      "Norm: 10.34, NNZs: 31, Bias: -1.892664, T: 54576, Avg. loss: 0.382085\n",
      "Total training time: 0.03 seconds.\n",
      "-- Epoch 37\n",
      "Norm: 10.12, NNZs: 31, Bias: -2.042143, T: 56092, Avg. loss: 0.386092\n",
      "Total training time: 0.03 seconds.\n",
      "-- Epoch 38\n",
      "Norm: 10.23, NNZs: 31, Bias: -1.608746, T: 57608, Avg. loss: 0.382163\n",
      "Total training time: 0.03 seconds.\n",
      "-- Epoch 39\n",
      "Norm: 10.06, NNZs: 31, Bias: -1.569451, T: 59124, Avg. loss: 0.386825\n",
      "Total training time: 0.03 seconds.\n",
      "-- Epoch 40\n",
      "Norm: 9.98, NNZs: 31, Bias: -1.933585, T: 60640, Avg. loss: 0.384403\n",
      "Total training time: 0.03 seconds.\n",
      "Convergence after 40 epochs took 0.03 seconds\n"
     ]
    },
    {
     "name": "stderr",
     "output_type": "stream",
     "text": [
      "[Parallel(n_jobs=1)]: Using backend SequentialBackend with 1 concurrent workers.\n",
      "[Parallel(n_jobs=1)]: Done   4 out of   4 | elapsed:    0.0s finished\n"
     ]
    },
    {
     "data": {
      "text/plain": [
       "SGDClassifier(loss='log', random_state=1, verbose=1)"
      ]
     },
     "execution_count": 50,
     "metadata": {},
     "output_type": "execute_result"
    }
   ],
   "source": [
    "log_reg_model.fit(X_train, y_train)"
   ]
  },
  {
   "cell_type": "code",
   "execution_count": 51,
   "metadata": {},
   "outputs": [],
   "source": [
    "data_loader = DataLoader(X_train, y_train, 48)"
   ]
  },
  {
   "cell_type": "markdown",
   "metadata": {},
   "source": [
    "Train our model."
   ]
  },
  {
   "cell_type": "code",
   "execution_count": 52,
   "metadata": {},
   "outputs": [],
   "source": [
    "# from sklearn.metrics import log_loss\n",
    "\n",
    "# e = 0\n",
    "# is_converged = False\n",
    "# previous_loss = 0\n",
    "# labels = np.unique(y_train)\n",
    "\n",
    "# # For each epoch\n",
    "# while e < max_epochs and is_converged is not True:\n",
    "    \n",
    "#     loss = 0\n",
    "    \n",
    "#     X_batch, y_batch = data_loader.get_batch()\n",
    "    \n",
    "#     # For each batch\n",
    "#     for X, y in zip(X_batch, y_batch):\n",
    "        \n",
    "#         log_reg_model.partial_fit(X, y, classes = labels)\n",
    "        \n",
    "#         # Compute the loss\n",
    "#         y_pred = log_reg_model.predict_proba(X_train)\n",
    "#         loss += log_loss(y_train, y_pred)\n",
    "        \n",
    "#     # Display the average loss per epoch\n",
    "#     # print('Epoch:', e + 1, '\\tLoss:', (loss / len(X_batch)))\n",
    "    \n",
    "#     if abs(previous_loss - loss) < 0.05:\n",
    "#         is_converged = True\n",
    "#     else:\n",
    "#         previous_loss = loss\n",
    "#         e += 1"
   ]
  },
  {
   "cell_type": "markdown",
   "metadata": {},
   "source": [
    "Get the prediction results on the test data."
   ]
  },
  {
   "cell_type": "code",
   "execution_count": 53,
   "metadata": {},
   "outputs": [],
   "source": [
    "predictions = log_reg_model.predict(X_test)"
   ]
  },
  {
   "cell_type": "markdown",
   "metadata": {},
   "source": [
    "Compute for accuracy."
   ]
  },
  {
   "cell_type": "code",
   "execution_count": 54,
   "metadata": {
    "scrolled": true
   },
   "outputs": [
    {
     "name": "stdout",
     "output_type": "stream",
     "text": [
      "Testing accuracy:  80.60000000000001 %\n"
     ]
    }
   ],
   "source": [
    "log_reg_accuracy = compute_accuracy(predictions, y_test)\n",
    "accuracy.append((\"Logistic Regression\",log_reg_accuracy))\n",
    "print(\"Testing accuracy: \", log_reg_accuracy, \"%\")"
   ]
  },
  {
   "cell_type": "markdown",
   "metadata": {},
   "source": [
    "Now that we have done an initial run on our three models, we will choose the best performing model and tune it."
   ]
  },
  {
   "cell_type": "code",
   "execution_count": 55,
   "metadata": {},
   "outputs": [
    {
     "name": "stdout",
     "output_type": "stream",
     "text": [
      "[('Neural Network', 81.2), ('Neural Network', 81.2), ('Neural Network', 81.2), ('Decision Tree', 83.0), ('Logistic Regression', 80.60000000000001)]\n"
     ]
    }
   ],
   "source": [
    "print(accuracy)"
   ]
  },
  {
   "cell_type": "markdown",
   "metadata": {},
   "source": [
    "<h5> Model Selection and hyperparameter tuning"
   ]
  },
  {
   "cell_type": "code",
   "execution_count": 56,
   "metadata": {
    "ExecuteTime": {
     "end_time": "2022-06-29T08:54:05.722968Z",
     "start_time": "2022-06-29T08:54:05.680254Z"
    }
   },
   "outputs": [
    {
     "name": "stdout",
     "output_type": "stream",
     "text": [
      "Training data label counts:\n",
      "[[  0.   1.   2.   3.]\n",
      " [333. 322. 310. 551.]]\n"
     ]
    }
   ],
   "source": [
    "unique, counts = np.unique(y_train, return_counts=True)\n",
    "print(\"Training data label counts:\")\n",
    "print(np.array([unique, counts]))"
   ]
  },
  {
   "cell_type": "code",
   "execution_count": 57,
   "metadata": {
    "ExecuteTime": {
     "end_time": "2022-06-29T09:33:41.417642Z",
     "start_time": "2022-06-29T09:33:41.368861Z"
    }
   },
   "outputs": [],
   "source": [
    "ratings = np.array(unique)"
   ]
  },
  {
   "cell_type": "code",
   "execution_count": 58,
   "metadata": {
    "ExecuteTime": {
     "end_time": "2022-06-29T08:55:58.432794Z",
     "start_time": "2022-06-29T08:55:58.390203Z"
    }
   },
   "outputs": [],
   "source": [
    "dtc = DecisionTreeClassifier()"
   ]
  },
  {
   "cell_type": "code",
   "execution_count": 60,
   "metadata": {
    "ExecuteTime": {
     "end_time": "2022-06-29T08:56:10.853722Z",
     "start_time": "2022-06-29T08:56:10.814063Z"
    }
   },
   "outputs": [],
   "source": [
    "hyperparameters = [\n",
    "    {\n",
    "        'criterion': ['gini', 'entropy'],\n",
    "        'max_depth': [ 5, 10, 20, 30],\n",
    "        'min_samples_split': [2, 4, 6, 10, 15, 20],\n",
    "        'max_leaf_nodes': [3, 5, 10, 20, 50, 100],\n",
    "    }\n",
    "]"
   ]
  },
  {
   "cell_type": "markdown",
   "metadata": {},
   "source": [
    "Create  `RandomizedSearchCV` object"
   ]
  },
  {
   "cell_type": "code",
   "execution_count": 61,
   "metadata": {
    "ExecuteTime": {
     "end_time": "2022-06-29T08:57:38.908234Z",
     "start_time": "2022-06-29T08:57:38.859780Z"
    }
   },
   "outputs": [],
   "source": [
    "rsc_esrb = RandomizedSearchCV(dtc, n_iter=50, param_distributions=hyperparameters,cv=5,random_state=42)"
   ]
  },
  {
   "cell_type": "code",
   "execution_count": 62,
   "metadata": {
    "ExecuteTime": {
     "end_time": "2022-06-29T08:58:12.725045Z",
     "start_time": "2022-06-29T08:58:12.024155Z"
    }
   },
   "outputs": [
    {
     "data": {
      "text/plain": [
       "RandomizedSearchCV(cv=5, estimator=DecisionTreeClassifier(), n_iter=50,\n",
       "                   param_distributions=[{'criterion': ['gini', 'entropy'],\n",
       "                                         'max_depth': [5, 10, 20, 30],\n",
       "                                         'max_leaf_nodes': [3, 5, 10, 20, 50,\n",
       "                                                            100],\n",
       "                                         'min_samples_split': [2, 4, 6, 10, 15,\n",
       "                                                               20]}],\n",
       "                   random_state=42)"
      ]
     },
     "execution_count": 62,
     "metadata": {},
     "output_type": "execute_result"
    }
   ],
   "source": [
    "rsc_esrb.fit(X_train, y_train)"
   ]
  },
  {
   "cell_type": "markdown",
   "metadata": {},
   "source": [
    "Get the best parameters found from hyperparameter search"
   ]
  },
  {
   "cell_type": "code",
   "execution_count": null,
   "metadata": {
    "ExecuteTime": {
     "end_time": "2022-06-29T08:59:59.773467Z",
     "start_time": "2022-06-29T08:59:59.691938Z"
    }
   },
   "outputs": [],
   "source": [
    "pd.set_option('display.max_colwidth', None)\n",
    "\n",
    "rsc_results = pd.DataFrame(rsc_esrb.cv_results_)\n",
    "rsc_results"
   ]
  },
  {
   "cell_type": "code",
   "execution_count": 64,
   "metadata": {
    "ExecuteTime": {
     "end_time": "2022-06-29T08:58:30.115321Z",
     "start_time": "2022-06-29T08:58:30.074589Z"
    }
   },
   "outputs": [
    {
     "data": {
      "text/plain": [
       "{'min_samples_split': 6,\n",
       " 'max_leaf_nodes': 100,\n",
       " 'max_depth': 30,\n",
       " 'criterion': 'gini'}"
      ]
     },
     "execution_count": 64,
     "metadata": {},
     "output_type": "execute_result"
    }
   ],
   "source": [
    "rsc_esrb.best_params_"
   ]
  },
  {
   "cell_type": "markdown",
   "metadata": {},
   "source": [
    "Get the  best estimator index to in order to get the entry of the best performing model."
   ]
  },
  {
   "cell_type": "code",
   "execution_count": 65,
   "metadata": {
    "ExecuteTime": {
     "end_time": "2022-06-29T09:01:22.323649Z",
     "start_time": "2022-06-29T09:01:22.273506Z"
    }
   },
   "outputs": [
    {
     "data": {
      "text/plain": [
       "26"
      ]
     },
     "execution_count": 65,
     "metadata": {},
     "output_type": "execute_result"
    }
   ],
   "source": [
    "best_index = rsc_esrb.best_index_\n",
    "best_index"
   ]
  },
  {
   "cell_type": "code",
   "execution_count": 66,
   "metadata": {
    "ExecuteTime": {
     "end_time": "2022-06-29T09:01:40.227197Z",
     "start_time": "2022-06-29T09:01:40.180193Z"
    },
    "scrolled": true
   },
   "outputs": [
    {
     "data": {
      "text/plain": [
       "mean_fit_time                                                                                           0.003125\n",
       "std_fit_time                                                                                             0.00039\n",
       "mean_score_time                                                                                         0.000782\n",
       "std_score_time                                                                                          0.000391\n",
       "param_min_samples_split                                                                                        6\n",
       "param_max_leaf_nodes                                                                                         100\n",
       "param_max_depth                                                                                               30\n",
       "param_criterion                                                                                             gini\n",
       "params                     {'min_samples_split': 6, 'max_leaf_nodes': 100, 'max_depth': 30, 'criterion': 'gini'}\n",
       "split0_test_score                                                                                       0.865132\n",
       "split1_test_score                                                                                       0.877888\n",
       "split2_test_score                                                                                       0.841584\n",
       "split3_test_score                                                                                       0.891089\n",
       "split4_test_score                                                                                       0.844884\n",
       "mean_test_score                                                                                         0.864115\n",
       "std_test_score                                                                                          0.018951\n",
       "rank_test_score                                                                                                1\n",
       "Name: 26, dtype: object"
      ]
     },
     "execution_count": 66,
     "metadata": {},
     "output_type": "execute_result"
    }
   ],
   "source": [
    "rsc_results.loc[best_index]"
   ]
  },
  {
   "cell_type": "markdown",
   "metadata": {},
   "source": [
    "Get the best estimator"
   ]
  },
  {
   "cell_type": "code",
   "execution_count": 67,
   "metadata": {
    "ExecuteTime": {
     "end_time": "2022-06-29T09:02:30.190064Z",
     "start_time": "2022-06-29T09:02:30.147355Z"
    }
   },
   "outputs": [
    {
     "data": {
      "text/plain": [
       "DecisionTreeClassifier(max_depth=30, max_leaf_nodes=100, min_samples_split=6)"
      ]
     },
     "execution_count": 67,
     "metadata": {},
     "output_type": "execute_result"
    }
   ],
   "source": [
    "rsc_esrb.best_estimator_"
   ]
  },
  {
   "cell_type": "code",
   "execution_count": 68,
   "metadata": {
    "ExecuteTime": {
     "end_time": "2022-06-29T09:06:05.691831Z",
     "start_time": "2022-06-29T09:06:05.640675Z"
    }
   },
   "outputs": [
    {
     "data": {
      "text/plain": [
       "DecisionTreeClassifier(max_depth=30, max_leaf_nodes=100, min_samples_split=6)"
      ]
     },
     "execution_count": 68,
     "metadata": {},
     "output_type": "execute_result"
    }
   ],
   "source": [
    "dtc = rsc_esrb.best_estimator_\n",
    "dtc.fit(X_train,y_train)"
   ]
  },
  {
   "cell_type": "code",
   "execution_count": 69,
   "metadata": {
    "ExecuteTime": {
     "end_time": "2022-06-29T09:06:06.999602Z",
     "start_time": "2022-06-29T09:06:06.952402Z"
    }
   },
   "outputs": [
    {
     "name": "stdout",
     "output_type": "stream",
     "text": [
      "Test accuracy is :  83.39999999999999 %\n"
     ]
    }
   ],
   "source": [
    "predictions = dtc.predict(X_test)\n",
    "print(\"Test accuracy is : \", compute_accuracy(predictions, y_test), \"%\")"
   ]
  },
  {
   "cell_type": "code",
   "execution_count": 70,
   "metadata": {
    "ExecuteTime": {
     "end_time": "2022-06-29T09:45:58.305728Z",
     "start_time": "2022-06-29T09:45:58.252089Z"
    }
   },
   "outputs": [
    {
     "name": "stdout",
     "output_type": "stream",
     "text": [
      "              precision    recall  f1-score   support\n",
      "\n",
      "           E     0.9223    0.9500    0.9360       100\n",
      "          ET     0.7971    0.8730    0.8333       126\n",
      "           M     0.8533    0.7111    0.7758        90\n",
      "           T     0.8043    0.8043    0.8043       184\n",
      "\n",
      "    accuracy                         0.8340       500\n",
      "   macro avg     0.8443    0.8346    0.8373       500\n",
      "weighted avg     0.8349    0.8340    0.8328       500\n",
      "\n"
     ]
    }
   ],
   "source": [
    "print(classification_report(y_test, predictions,target_names=label_mapping.keys(),digits=4))\n"
   ]
  },
  {
   "cell_type": "code",
   "execution_count": 71,
   "metadata": {
    "ExecuteTime": {
     "end_time": "2022-06-29T09:54:16.922847Z",
     "start_time": "2022-06-29T09:54:16.778097Z"
    },
    "scrolled": false
   },
   "outputs": [
    {
     "data": {
      "text/plain": [
       "<sklearn.metrics._plot.confusion_matrix.ConfusionMatrixDisplay at 0x287289c3700>"
      ]
     },
     "execution_count": 71,
     "metadata": {},
     "output_type": "execute_result"
    },
    {
     "data": {
      "image/png": "[encoded data removed]",
      "text/plain": [
       "<Figure size 720x720 with 2 Axes>"
      ]
     },
     "metadata": {},
     "output_type": "display_data"
    }
   ],
   "source": [
    "cm = confusion_matrix(y_test, predictions, labels=ratings)\n",
    "display = ConfusionMatrixDisplay(confusion_matrix=cm, display_labels=label_mapping.keys())\n",
    "fig, ax = plt.subplots(figsize=(10,10))\n",
    "display.plot(ax=ax)"
   ]
  },
  {
   "cell_type": "code",
   "execution_count": 76,
   "metadata": {},
   "outputs": [],
   "source": [
    "importances = dtc.feature_importances_"
   ]
  },
  {
   "cell_type": "code",
   "execution_count": 95,
   "metadata": {},
   "outputs": [
    {
     "name": "stdout",
     "output_type": "stream",
     "text": [
      "                          importance\n",
      "strong_language             0.179583\n",
      "blood                       0.116688\n",
      "fantasy_violence            0.116217\n",
      "blood_and_gore              0.096465\n",
      "no_descriptors              0.045173\n",
      "language                    0.036697\n",
      "suggestive_themes           0.035737\n",
      "mild_violence               0.032953\n",
      "mild_fantasy_violence       0.030701\n",
      "simulated_gambling          0.029716\n",
      "violence                    0.027405\n",
      "intense_violence            0.027147\n",
      "sexual_themes               0.023095\n",
      "crude_humor                 0.021884\n",
      "mild_suggestive_themes      0.021370\n",
      "cartoon_violence            0.021256\n",
      "mild_blood                  0.021111\n",
      "strong_sexual_content       0.018709\n",
      "alcohol_reference           0.015543\n",
      "lyrics                      0.013436\n",
      "drug_reference              0.011855\n",
      "animated_blood              0.011481\n",
      "use_of_alcohol              0.010841\n",
      "mild_language               0.008835\n",
      "partial_nudity              0.008081\n",
      "mild_lyrics                 0.007012\n",
      "mature_humor                0.004540\n",
      "use_of_drugs_and_alcohol    0.002235\n",
      "mild_cartoon_violence       0.001959\n",
      "sexual_content              0.001616\n",
      "nudity                      0.000658\n",
      "(26, 1)\n"
     ]
    }
   ],
   "source": [
    "\n",
    "df_importances = pd.DataFrame(data=importances, index=df_dropped.columns, columns=[\"importance\"])\n",
    "# df_rfc_importance = pd.DataFrame(data=feature_importance, index=df_census_income.drop([\"label\"], axis=1).columns, columns=[\"importance\"])\n",
    "df_importances.sort_values(by=['importance'],axis=0,ascending=False,inplace=True)\n",
    "# df_count_content.sort_values(axis=0, ascending=False, inplace=True)\n",
    "print(df_importances)"
   ]
  },
  {
   "cell_type": "code",
   "execution_count": 113,
   "metadata": {},
   "outputs": [
    {
     "name": "stdout",
     "output_type": "stream",
     "text": [
      "(1895, 26) (1895, 1)\n"
     ]
    }
   ],
   "source": [
    "low_imp = df_importances[:-5]\n",
    "imp_columns = low_imp.index.to_list()\n",
    "\n",
    "\n",
    "df_experiment_x = df_dropped[imp_columns].copy()\n",
    "\n",
    "df_experiment_y = df_esrb[['esrb_rating']].copy()\n",
    "print(df_experiment.shape,df_experiment_y.shape)"
   ]
  },
  {
   "cell_type": "code",
   "execution_count": 168,
   "metadata": {},
   "outputs": [],
   "source": [
    "X_exp_train, X_exp_val, y_exp_train, y_exp_val = train_test_split(df_experiment_x, df_experiment_y, test_size = 0.20, stratify = df_experiment_y, random_state = 42)"
   ]
  },
  {
   "cell_type": "code",
   "execution_count": 169,
   "metadata": {},
   "outputs": [],
   "source": [
    "dtc_exp = DecisionTreeClassifier()\n",
    "hyperparameters_exp = [\n",
    "    {\n",
    "        'criterion': ['gini', 'entropy'],\n",
    "        'max_depth': [ 5, 10, 20, 30, 40, 50, 60, 70, 80, 90, 100],\n",
    "        'min_samples_split': [2, 4, 6, 10, 15, 20, 25, 30, 40, 50],\n",
    "        'max_leaf_nodes': [3, 5, 10, 20, 50, 100, 150, 200, 240],\n",
    "    }\n",
    "]\n",
    "rsc_exp = RandomizedSearchCV(dtc_exp, n_iter=100, param_distributions=hyperparameters_exp,cv=5,random_state=42)\n"
   ]
  },
  {
   "cell_type": "code",
   "execution_count": 170,
   "metadata": {},
   "outputs": [
    {
     "data": {
      "text/plain": [
       "RandomizedSearchCV(cv=5, estimator=DecisionTreeClassifier(), n_iter=100,\n",
       "                   param_distributions=[{'criterion': ['gini', 'entropy'],\n",
       "                                         'max_depth': [5, 10, 20, 30, 40, 50,\n",
       "                                                       60, 70, 80, 90, 100],\n",
       "                                         'max_leaf_nodes': [3, 5, 10, 20, 50,\n",
       "                                                            100, 150, 200,\n",
       "                                                            240],\n",
       "                                         'min_samples_split': [2, 4, 6, 10, 15,\n",
       "                                                               20, 25, 30, 40,\n",
       "                                                               50]}],\n",
       "                   random_state=42)"
      ]
     },
     "execution_count": 170,
     "metadata": {},
     "output_type": "execute_result"
    }
   ],
   "source": [
    "rsc_exp.fit(X_exp_train, y_exp_train)\n"
   ]
  },
  {
   "cell_type": "code",
   "execution_count": 171,
   "metadata": {},
   "outputs": [
    {
     "data": {
      "text/plain": [
       "DecisionTreeClassifier(max_depth=70, max_leaf_nodes=100)"
      ]
     },
     "execution_count": 171,
     "metadata": {},
     "output_type": "execute_result"
    }
   ],
   "source": [
    "dtc_exp = rsc_exp.best_estimator_\n",
    "dtc_exp.fit(X_exp_train,y_exp_train)"
   ]
  },
  {
   "cell_type": "code",
   "execution_count": 172,
   "metadata": {},
   "outputs": [
    {
     "data": {
      "text/plain": [
       "{'min_samples_split': 2,\n",
       " 'max_leaf_nodes': 100,\n",
       " 'max_depth': 70,\n",
       " 'criterion': 'gini'}"
      ]
     },
     "execution_count": 172,
     "metadata": {},
     "output_type": "execute_result"
    }
   ],
   "source": [
    "rsc_exp.best_params_"
   ]
  },
  {
   "cell_type": "code",
   "execution_count": 173,
   "metadata": {},
   "outputs": [
    {
     "name": "stdout",
     "output_type": "stream",
     "text": [
      "(500, 26) (500, 1)\n"
     ]
    }
   ],
   "source": [
    "# x_exp_test = df_test.drop(['esrb_rating','console','title'], axis = 1)\n",
    "df_test.rename(columns={'strong_janguage':'strong_language'}, inplace=True)\n",
    "X_exp_test = df_test[imp_columns].copy()\n",
    "y_exp_test = df_test[['esrb_rating']]\n",
    "print(X_exp_test.shape,y_exp_test.shape)"
   ]
  },
  {
   "cell_type": "code",
   "execution_count": 174,
   "metadata": {},
   "outputs": [
    {
     "name": "stdout",
     "output_type": "stream",
     "text": [
      "Validation accuracy is :  83.90501319261213 %\n",
      "Train accuracy is :  91.02902374670184 %\n"
     ]
    }
   ],
   "source": [
    "predictions = dtc_exp.predict(X_exp_val)\n",
    "print(\"Validation accuracy is : \", compute_accuracy(predictions, y_exp_val), \"%\")\n",
    "\n",
    "predictions = dtc_exp.predict(X_exp_train)\n",
    "print(\"Train accuracy is : \", compute_accuracy(predictions, y_exp_train), \"%\")\n"
   ]
  },
  {
   "cell_type": "code",
   "execution_count": 175,
   "metadata": {},
   "outputs": [
    {
     "name": "stdout",
     "output_type": "stream",
     "text": [
      "Test accuracy is :  83.8 %\n"
     ]
    }
   ],
   "source": [
    "predictions = dtc_exp.predict(X_exp_test)\n",
    "print(\"Test accuracy is : \", compute_accuracy(predictions, y_exp_test), \"%\")"
   ]
  },
  {
   "cell_type": "code",
   "execution_count": 181,
   "metadata": {},
   "outputs": [
    {
     "name": "stdout",
     "output_type": "stream",
     "text": [
      "              precision    recall  f1-score   support\n",
      "\n",
      "           E     0.9223    0.9500    0.9360       100\n",
      "          ET     0.8043    0.8810    0.8409       126\n",
      "           M     0.8533    0.7111    0.7758        90\n",
      "           T     0.8098    0.8098    0.8098       184\n",
      "\n",
      "    accuracy                         0.8380       500\n",
      "   macro avg     0.8474    0.8380    0.8406       500\n",
      "weighted avg     0.8388    0.8380    0.8367       500\n",
      "\n"
     ]
    },
    {
     "data": {
      "image/png": "[encoded data removed]",
      "text/plain": [
       "<Figure size 720x720 with 2 Axes>"
      ]
     },
     "metadata": {},
     "output_type": "display_data"
    }
   ],
   "source": [
    "cm = confusion_matrix(y_exp_test, predictions)\n",
    "display = ConfusionMatrixDisplay(confusion_matrix=cm, display_labels=label_mapping.keys())\n",
    "fig, ax = plt.subplots(figsize=(10,10))\n",
    "display.plot(ax=ax)\n",
    "print(classification_report(y_exp_test, predictions,target_names=label_mapping.keys(),digits=4))"
   ]
  },
  {
   "cell_type": "markdown",
   "metadata": {},
   "source": [
    "<h5> Insights and conclusion"
   ]
  },
  {
   "cell_type": "markdown",
   "metadata": {},
   "source": []
  },
  {
   "cell_type": "code",
   "execution_count": null,
   "metadata": {},
   "outputs": [],
   "source": []
  }
 ],
 "metadata": {
  "kernelspec": {
   "display_name": "Python 3 (ipykernel)",
   "language": "python",
   "name": "python3"
  },
  "language_info": {
   "codemirror_mode": {
    "name": "ipython",
    "version": 3
   },
   "file_extension": ".py",
   "mimetype": "text/x-python",
   "name": "python",
   "nbconvert_exporter": "python",
   "pygments_lexer": "ipython3",
   "version": "3.8.8"
  },
  "toc": {
   "base_numbering": 1,
   "nav_menu": {},
   "number_sections": true,
   "sideBar": true,
   "skip_h1_title": false,
   "title_cell": "Table of Contents",
   "title_sidebar": "Contents",
   "toc_cell": false,
   "toc_position": {},
   "toc_section_display": true,
   "toc_window_display": true
  },
  "varInspector": {
   "cols": {
    "lenName": 16,
    "lenType": 16,
    "lenVar": 40
   },
   "kernels_config": {
    "python": {
     "delete_cmd_postfix": "",
     "delete_cmd_prefix": "del ",
     "library": "var_list.py",
     "varRefreshCmd": "print(var_dic_list())"
    },
    "r": {
     "delete_cmd_postfix": ") ",
     "delete_cmd_prefix": "rm(",
     "library": "var_list.r",
     "varRefreshCmd": "cat(var_dic_list()) "
    }
   },
   "types_to_exclude": [
    "module",
    "function",
    "builtin_function_or_method",
    "instance",
    "_Feature"
   ],
   "window_display": false
  },
  "vscode": {
   "interpreter": {
    "hash": "91bb753b057673435fb8d6f6a083e6c818364728098c7ae050ca3a25357dd754"
   }
  }
 },
 "nbformat": 4,
 "nbformat_minor": 2
}
