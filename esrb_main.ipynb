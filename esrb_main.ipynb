{
 "cells": [
  {
   "cell_type": "markdown",
   "metadata": {},
   "source": [
    "<h5> Description of dataset and task"
   ]
  },
  {
   "cell_type": "markdown",
   "metadata": {},
   "source": [
    "The Entertainment Software Rating Board(ESRB) ratings provide information about the contents of a game so parents and consumers can make informed choices about which game are right for the family (https://www.esrb.org/#rating-categories)."
   ]
  },
  {
   "cell_type": "markdown",
   "metadata": {},
   "source": [
    "The *Video Games Rating by 'ESRB'* is a dataset composed of **1895** games with 34 of *ESRB Rating Content* along with its name and console exclusivity as features for each game. \n",
    "<p> This Notebook aims to create and experiment models capable of classifying games into their proper *ESRB Rating*. </p>\n"
   ]
  },
  {
   "cell_type": "markdown",
   "metadata": {},
   "source": [
    "*ESRB Rating Content* (32) refers to the following:\n",
    "- Alcohol Reference : Reference to and/or images of alcoholic beverages.\n",
    "- Animated Blood : Discolored and/or unrealistic depictions of blood.\n",
    "- Blood : Depictions of blood.\n",
    "- Blood and Gore : \tDepictions of blood or the mutilation of body parts.\n",
    "- Cartoon Violence : Violent actions involving cartoon-like situations and characters. May include violence where a character is unharmed after the action has been inflicted.\n",
    "- Crude Humor : Depictions or dialogue involving vulgar antics, including \"bathroom\" humor.\n",
    "- Drug Reference : \tReference to and/or images of illegal drugs.\n",
    "- Fantasy Violence : Violent actions of a fantasy nature, involving human or non-human characters in situations easily distinguishable from real life.\n",
    "- Intense Violence : Graphic and realistic-looking depictions of physical conflict. May involve extreme and/or realistic blood, gore, weapons, and depictions of human injury and death.\n",
    "- Language : Moderate use of profanity.\n",
    "- Lyrics : References to profanity, sexuality, violence, alcohol, or drug use in music.\n",
    "- Mature Humor : Depictions or dialogue involving \"adult\" humor, including sexual references.\n",
    "- Mild Blood : \tSome blood.\n",
    "- Mild Cartoon Violence : Some violent actions involving cartoon.\n",
    "- Mild Fantasy Violence : Some violent actions of a fantasy nature.\n",
    "- Mild Language : \tMild to moderate use of profanity.\n",
    "- Mild Lyrics : Mild References to profanity, sexuality, violence, alcohol, or drug use in music.\n",
    "- Mild Suggestive Themes : \tsome provocative references or materials\n",
    "- Mild Violence : \tSome scenes involving aggressive conflict.\n",
    "- No Descriptors : \tNo content descriptors\n",
    "- Nudity : \tGraphic or prolonged depictions of nudity.\n",
    "- Partial Nudity : Brief and/or mild depictions of nudity.\n",
    "- Sexual Content : Non-explicit depictions of sexual behavior, possibly including partial nudity.\n",
    "- Sexual Themes : \tReferences to sex or sexuality.\n",
    "- Simulated Gambling : Player can gamble without betting or wagering real cash or currency.\n",
    "- Strong Language : Explicit and/or frequent use of profanity.\n",
    "- Strong Sexual Content : \tExplicit and/or frequent depictions of sexual behavior, possibly including nudity.\n",
    "- Suggestive Themes : \tProvocative references or materials.\n",
    "- Use of Alcohol :\tThe consumption of alcoholic beverages.\n",
    "- Use of Drugs and Alcohol : The consumption of alcoholic and drugs beverages.\n",
    "- Violence : Scenes involving aggressive conflict. May contain bloodless dismemberment."
   ]
  },
  {
   "cell_type": "markdown",
   "metadata": {},
   "source": [
    "*ESRB Rating* refers to the following:\n",
    "- E : Everyone\n",
    "- ET : Everyone 10+\n",
    "- T : teen\n",
    "- M : Mature"
   ]
  },
  {
   "cell_type": "markdown",
   "metadata": {},
   "source": [
    "Import revelant libraries."
   ]
  },
  {
   "cell_type": "code",
   "execution_count": null,
   "metadata": {
    "ExecuteTime": {
     "end_time": "2022-06-29T06:51:11.846091Z",
     "start_time": "2022-06-29T06:51:10.364674Z"
    }
   },
   "outputs": [],
   "source": [
    "import pandas as pd\n",
    "import numpy as np\n",
    "import matplotlib.pyplot as plt\n",
    "import torch.optim as optim\n",
    "import torch.nn as nn\n",
    "import torch\n",
    "\n",
    "from data_loader import DataLoader\n",
    "\n",
    "from sklearn import preprocessing\n",
    "from sklearn.model_selection import train_test_split\n",
    "from sklearn.metrics import accuracy_score\n",
    "from sklearn.metrics import precision_recall_fscore_support\n",
    "from sklearn.metrics import classification_report\n",
    "from sklearn.metrics import confusion_matrix, ConfusionMatrixDisplay\n",
    "from sklearn.model_selection import RandomizedSearchCV\n",
    "from sklearn.tree import DecisionTreeClassifier\n",
    "\n",
    "import optuna\n",
    "from optuna.trial import TrialState\n",
    "\n",
    "%matplotlib inline\n",
    "\n",
    "%load_ext autoreload\n",
    "%autoreload 2"
   ]
  },
  {
   "cell_type": "markdown",
   "metadata": {},
   "source": [
    "<h5>  Data Preprocessing"
   ]
  },
  {
   "cell_type": "code",
   "execution_count": null,
   "metadata": {
    "ExecuteTime": {
     "end_time": "2022-06-29T06:51:11.876889Z",
     "start_time": "2022-06-29T06:51:11.848136Z"
    }
   },
   "outputs": [],
   "source": [
    "from jupyterthemes import jtplot\n",
    "jtplot.style()"
   ]
  },
  {
   "cell_type": "code",
   "execution_count": null,
   "metadata": {
    "ExecuteTime": {
     "end_time": "2022-06-29T06:51:11.938438Z",
     "start_time": "2022-06-29T06:51:11.878379Z"
    },
    "scrolled": true
   },
   "outputs": [],
   "source": [
    "df_esrb = pd.read_csv(\"Video_Games_esrb_rating.csv\")\n",
    "df_esrb.head(5)"
   ]
  },
  {
   "cell_type": "code",
   "execution_count": null,
   "metadata": {
    "ExecuteTime": {
     "end_time": "2022-06-29T06:51:11.969228Z",
     "start_time": "2022-06-29T06:51:11.940421Z"
    }
   },
   "outputs": [],
   "source": [
    "df_esrb.columns"
   ]
  },
  {
   "cell_type": "markdown",
   "metadata": {},
   "source": [
    "`strong_janguage` is a clear typo of `strong_language` so we replace that."
   ]
  },
  {
   "cell_type": "code",
   "execution_count": null,
   "metadata": {
    "ExecuteTime": {
     "end_time": "2022-06-29T06:51:12.000015Z",
     "start_time": "2022-06-29T06:51:11.970718Z"
    }
   },
   "outputs": [],
   "source": [
    "df_esrb = df_esrb.rename(columns={\"strong_janguage\" : \"strong_language\"})"
   ]
  },
  {
   "cell_type": "markdown",
   "metadata": {},
   "source": [
    "Let's display the general `info` of the dataset"
   ]
  },
  {
   "cell_type": "code",
   "execution_count": null,
   "metadata": {
    "ExecuteTime": {
     "end_time": "2022-06-29T06:51:12.046114Z",
     "start_time": "2022-06-29T06:51:12.001012Z"
    }
   },
   "outputs": [],
   "source": [
    "df_esrb.info()"
   ]
  },
  {
   "cell_type": "markdown",
   "metadata": {},
   "source": [
    "Since theres no `null` values in the dataset, we can proceed"
   ]
  },
  {
   "cell_type": "code",
   "execution_count": null,
   "metadata": {
    "ExecuteTime": {
     "end_time": "2022-06-29T06:51:12.353708Z",
     "start_time": "2022-06-29T06:51:12.047603Z"
    }
   },
   "outputs": [],
   "source": [
    "df_no_desriptors = df_esrb[df_esrb['no_descriptors'] == 1].sum(axis=1) \n",
    "df_no_desriptors.shape[0]"
   ]
  },
  {
   "cell_type": "markdown",
   "metadata": {},
   "source": [
    "Since `no_descriptors` means that none of the _ESRB Content_ is found in the game, we need to check fix games that might contradict that."
   ]
  },
  {
   "cell_type": "code",
   "execution_count": null,
   "metadata": {
    "ExecuteTime": {
     "end_time": "2022-06-29T06:51:12.399647Z",
     "start_time": "2022-06-29T06:51:12.354705Z"
    }
   },
   "outputs": [],
   "source": [
    "(df_no_desriptors>1).sum()\n",
    "# print(df_no_desriptors)"
   ]
  },
  {
   "cell_type": "code",
   "execution_count": null,
   "metadata": {
    "ExecuteTime": {
     "end_time": "2022-06-29T06:51:12.445984Z",
     "start_time": "2022-06-29T06:51:12.401132Z"
    }
   },
   "outputs": [],
   "source": [
    "idx = df_no_desriptors[df_no_desriptors>1].index\n",
    "# df_esrb.iloc[idx].loc['no_descriptors'] = 0\n",
    "\n",
    "df_esrb.loc[idx,'no_descriptors'] = 0\n",
    "\n",
    "df_esrb.iloc[idx]['no_descriptors']"
   ]
  },
  {
   "cell_type": "markdown",
   "metadata": {},
   "source": [
    "Seems like there are 205 entries have the `no_descriptors` flagged wrong."
   ]
  },
  {
   "cell_type": "markdown",
   "metadata": {},
   "source": [
    "<h5> Exploratory data analysis"
   ]
  },
  {
   "cell_type": "markdown",
   "metadata": {},
   "source": [
    "Which _ESRB Rating_ is most prominent?"
   ]
  },
  {
   "cell_type": "code",
   "execution_count": null,
   "metadata": {
    "ExecuteTime": {
     "end_time": "2022-06-29T06:51:12.615767Z",
     "start_time": "2022-06-29T06:51:12.448964Z"
    }
   },
   "outputs": [],
   "source": [
    "ratings = [\"E\" , \"ET\" , \"T\", \"M\"]\n",
    "\n",
    "counts = df_esrb['esrb_rating'].value_counts()\n",
    "\n",
    "plt.bar(ratings, counts)"
   ]
  },
  {
   "cell_type": "code",
   "execution_count": null,
   "metadata": {},
   "outputs": [],
   "source": [
    "plt.pie(counts, labels= ratings, autopct='%.2f')"
   ]
  },
  {
   "cell_type": "markdown",
   "metadata": {},
   "source": [
    "The _ESRB Rating_ **T** appears to be the most prominent rating."
   ]
  },
  {
   "cell_type": "markdown",
   "metadata": {},
   "source": [
    "Next, lets find the most prominent `ESRB Rating Content`"
   ]
  },
  {
   "cell_type": "code",
   "execution_count": null,
   "metadata": {
    "ExecuteTime": {
     "end_time": "2022-06-29T06:51:12.800529Z",
     "start_time": "2022-06-29T06:51:12.617258Z"
    }
   },
   "outputs": [],
   "source": [
    "df_dropped = df_esrb.drop(['title','console','esrb_rating'], axis = 1)\n",
    "df_count_content = df_dropped.sum(axis=0)\n",
    "df_count_content.sort_values(axis=0, ascending=False, inplace=True)\n",
    "df_count_content.plot.bar(x=\"Content\", y=\"Count\", )"
   ]
  },
  {
   "cell_type": "markdown",
   "metadata": {},
   "source": [
    "We can visibly see that the _ESRB Content_ **blood** is the most prominent while **fantasy_violence** comes close in second."
   ]
  },
  {
   "cell_type": "markdown",
   "metadata": {},
   "source": [
    "Let us check the correlelations of each _ESRB Content_"
   ]
  },
  {
   "cell_type": "code",
   "execution_count": null,
   "metadata": {
    "ExecuteTime": {
     "end_time": "2022-06-29T06:51:12.846828Z",
     "start_time": "2022-06-29T06:51:12.802516Z"
    }
   },
   "outputs": [],
   "source": [
    "df_esrb.columns"
   ]
  },
  {
   "cell_type": "code",
   "execution_count": null,
   "metadata": {
    "ExecuteTime": {
     "end_time": "2022-06-29T06:51:13.000485Z",
     "start_time": "2022-06-29T06:51:12.848328Z"
    }
   },
   "outputs": [],
   "source": [
    "correlation = df_dropped.corr()\n",
    "correlation.style.background_gradient(cmap=\"coolwarm\", axis=None).set_precision(2)"
   ]
  },
  {
   "cell_type": "markdown",
   "metadata": {},
   "source": [
    "It seems that generally the correlation between each *ESRB Content* is very weak with the strongest correlation of *0.39* between ."
   ]
  },
  {
   "cell_type": "markdown",
   "metadata": {},
   "source": [
    "<h5> Model Training"
   ]
  },
  {
   "cell_type": "markdown",
   "metadata": {},
   "source": [
    "Since the dataset already provided a separate test dataset, we wont be needing to split the training dataset. We will only need to create a validation dataset"
   ]
  },
  {
   "cell_type": "code",
   "execution_count": null,
   "metadata": {},
   "outputs": [],
   "source": [
    "label_encoder = preprocessing.LabelEncoder()"
   ]
  },
  {
   "cell_type": "code",
   "execution_count": null,
   "metadata": {},
   "outputs": [],
   "source": [
    "y = label_encoder.fit_transform(df_esrb[['esrb_rating']].values.ravel())\n",
    "print(y.shape)\n",
    "print(df_dropped.shape)"
   ]
  },
  {
   "cell_type": "code",
   "execution_count": null,
   "metadata": {},
   "outputs": [],
   "source": [
    "print(y)"
   ]
  },
  {
   "cell_type": "code",
   "execution_count": null,
   "metadata": {},
   "outputs": [],
   "source": [
    "X = df_dropped.values"
   ]
  },
  {
   "cell_type": "code",
   "execution_count": null,
   "metadata": {},
   "outputs": [],
   "source": [
    "X_train, X_val, y_train, y_val = train_test_split(X, y, test_size = 0.20, stratify = y, random_state = 42)"
   ]
  },
  {
   "cell_type": "code",
   "execution_count": null,
   "metadata": {},
   "outputs": [],
   "source": [
    "df_test = pd.read_csv(\"test_esrb.csv\")\n",
    "X_test = df_test.drop(['title','console','esrb_rating'], axis = 1).values\n",
    "y_test = label_encoder.fit_transform(df_test[['esrb_rating']].values.ravel())\n",
    "X_test.shape"
   ]
  },
  {
   "cell_type": "markdown",
   "metadata": {},
   "source": [
    "Convert pandas to tensors"
   ]
  },
  {
   "cell_type": "code",
   "execution_count": null,
   "metadata": {},
   "outputs": [],
   "source": [
    "X_train = torch.Tensor(X_train)\n",
    "y_train = torch.Tensor(y_train)\n",
    "\n",
    "X_test = torch.Tensor(X_test)\n",
    "y_test = torch.Tensor(y_test)\n",
    "\n",
    "X_val = torch.Tensor(X_val)\n",
    "y_val = torch.Tensor(y_val)"
   ]
  },
  {
   "cell_type": "code",
   "execution_count": null,
   "metadata": {},
   "outputs": [],
   "source": [
    "y_train"
   ]
  },
  {
   "cell_type": "code",
   "execution_count": null,
   "metadata": {},
   "outputs": [],
   "source": [
    "label_mapping = dict(zip(label_encoder.classes_, label_encoder.transform(label_encoder.classes_)))"
   ]
  },
  {
   "cell_type": "markdown",
   "metadata": {},
   "source": [
    "<h5> Neural Network"
   ]
  },
  {
   "cell_type": "code",
   "execution_count": null,
   "metadata": {},
   "outputs": [],
   "source": [
    "# 31 -> 4\n",
    "network = nn.Sequential(\n",
    "    nn.Linear(31,12),\n",
    "    nn.ELU(inplace=True),\n",
    "    nn.Linear(12,6),\n",
    "    nn.ELU(inplace=True),\n",
    "    nn.Linear(6,4),\n",
    "    nn.LogSoftmax(dim = 0)\n",
    ")\n",
    "network"
   ]
  },
  {
   "cell_type": "code",
   "execution_count": null,
   "metadata": {},
   "outputs": [],
   "source": [
    "data_loader = DataLoader(X_train,y_train,48)"
   ]
  },
  {
   "cell_type": "code",
   "execution_count": null,
   "metadata": {},
   "outputs": [],
   "source": [
    "loss_fn = nn.CrossEntropyLoss()"
   ]
  },
  {
   "cell_type": "markdown",
   "metadata": {},
   "source": [
    "![epochs.png](epochs.png)"
   ]
  },
  {
   "cell_type": "markdown",
   "metadata": {},
   "source": [
    "We trained the model with an epoch of 1500 to see what number of epochs is good for efficiency and accuracy. About 200 is where the \"elbow\" is seen but we decided around 350 to chase for a slight improvement in accuracy."
   ]
  },
  {
   "cell_type": "code",
   "execution_count": null,
   "metadata": {},
   "outputs": [],
   "source": [
    "def objective(trial):\n",
    "    e = 0\n",
    "    max_epochs = 350\n",
    "    is_converged = False\n",
    "    previous_loss = 0\n",
    "    losses = []\n",
    "\n",
    "    optimizer_name = trial.suggest_categorical(\"optimizer\", [\"Adam\", \"RMSprop\"])\n",
    "    lr = trial.suggest_float(\"lr\", 1e-5, 1e-2, log=False)\n",
    "    optimizer = getattr(optim, optimizer_name)(network.parameters(), lr=lr)\n",
    "\n",
    "    while e < max_epochs and is_converged is not True:\n",
    "    \n",
    "        current_epoch_loss = 0\n",
    "        \n",
    "        X_batch, y_batch = data_loader.get_batch()\n",
    "        \n",
    "        # For each batch\n",
    "        for X, y in zip(X_batch, y_batch):\n",
    "            X = torch.Tensor(X)\n",
    "            y = torch.Tensor(y).to(torch.long)\n",
    "            \n",
    "            optimizer.zero_grad()\n",
    "            \n",
    "            s = network.forward(X)\n",
    "            \n",
    "            loss = loss_fn(s,y)\n",
    "            \n",
    "            loss.backward()\n",
    "            \n",
    "            optimizer.step()\n",
    "            \n",
    "            current_epoch_loss += loss.item()\n",
    "        \n",
    "        average_loss = current_epoch_loss / len(X_batch)\n",
    "        losses.append(average_loss)\n",
    "        \n",
    "        # Display the average loss per epoch\n",
    "        # print('Epoch:', e + 1, '\\tLoss: {:.6f}'.format(average_loss))\n",
    "        \n",
    "        if abs(previous_loss - loss) < 0.0000005:\n",
    "            is_converged = True\n",
    "        else:\n",
    "            previous_loss = loss\n",
    "            e += 1\n",
    "    # get accu\n",
    "    network.eval()\n",
    "\n",
    "    with torch.no_grad():\n",
    "        output = network.forward(X_val)\n",
    "        pred = output.argmax(dim=1, keepdim=True)\n",
    "        # num_correct = torch.sum(pred == y_val)\n",
    "    \n",
    "    accuracy = accuracy_score(pred,y_val)*100.0\n",
    "    trial.report(accuracy, e)\n",
    "\n",
    "    return accuracy\n",
    "\n",
    "\n",
    "        \n",
    "\n",
    "    "
   ]
  },
  {
   "cell_type": "code",
   "execution_count": null,
   "metadata": {},
   "outputs": [],
   "source": [
    "# study = optuna.create_study(direction = 'maximize')\n",
    "# study.optimize(objective, n_trials=100)\n",
    "\n",
    "# print(\"  Number of finished trials: \", len(study.trials))\n",
    "\n",
    "# print(\"Best trial:\")\n",
    "# trial = study.best_trial\n",
    "\n",
    "# print(\"  Value: \", trial.value)\n",
    "\n",
    "# print(\"  Params: \")\n",
    "# for key, value in trial.params.items():\n",
    "#     print(\"    {}: {}\".format(key, value))"
   ]
  },
  {
   "cell_type": "markdown",
   "metadata": {},
   "source": [
    "Using optuna to optimize the hyperparameters (learning rate and optimizer), it came to a conclusion that Using RMSprop with a learning rate of 0.009992566127730968 resulted in the best validation accuracy, 85.4881266490765%."
   ]
  },
  {
   "cell_type": "code",
   "execution_count": null,
   "metadata": {},
   "outputs": [],
   "source": [
    "# study.best_trial"
   ]
  },
  {
   "cell_type": "markdown",
   "metadata": {},
   "source": [
    "<font size=\"1\"> FrozenTrial(number=1, values=[85.4881266490765], datetime_start=datetime.datetime(2022, 6, 30, 20, 25, 36, 105827), datetime_complete=datetime.datetime(2022, 6, 30, 20, 25, 47, 442350), params={'optimizer': 'RMSprop', 'lr': 0.009992566127730968}, distributions={'optimizer': CategoricalDistribution(choices=('Adam', 'RMSprop')), 'lr': UniformDistribution(high=0.01, low=1e-05)}, user_attrs={}, system_attrs={}, intermediate_values={350: 85.4881266490765}, trial_id=1, state=TrialState.COMPLETE, value=None)"
   ]
  },
  {
   "cell_type": "code",
   "execution_count": null,
   "metadata": {},
   "outputs": [],
   "source": [
    "def test_trial(trial):\n",
    "    e = 0\n",
    "    max_epochs = 350\n",
    "    is_converged = False\n",
    "    previous_loss = 0\n",
    "    losses = []\n",
    "\n",
    "    optimizer_name = trial.suggest_categorical(\"optimizer\", [\"Adam\", \"RMSprop\"])\n",
    "    lr = trial.suggest_float(\"lr\", 1e-5, 1e-2, log=False)\n",
    "    optimizer = getattr(optim, optimizer_name)(network.parameters(), lr=lr)\n",
    "\n",
    "    while e < max_epochs and is_converged is not True:\n",
    "    \n",
    "        current_epoch_loss = 0\n",
    "        \n",
    "        X_batch, y_batch = data_loader.get_batch()\n",
    "        \n",
    "        # For each batch\n",
    "        for X, y in zip(X_batch, y_batch):\n",
    "            X = torch.Tensor(X)\n",
    "            y = torch.Tensor(y).to(torch.long)\n",
    "            \n",
    "            optimizer.zero_grad()\n",
    "            \n",
    "            s = network.forward(X)\n",
    "            \n",
    "            loss = loss_fn(s,y)\n",
    "            \n",
    "            loss.backward()\n",
    "            \n",
    "            optimizer.step()\n",
    "            \n",
    "            current_epoch_loss += loss.item()\n",
    "        \n",
    "        average_loss = current_epoch_loss / len(X_batch)\n",
    "        losses.append(average_loss)\n",
    "        \n",
    "        # Display the average loss per epoch\n",
    "        # print('Epoch:', e + 1, '\\tLoss: {:.6f}'.format(average_loss))\n",
    "        \n",
    "        if abs(previous_loss - loss) < 0.0000005:\n",
    "            is_converged = True\n",
    "        else:\n",
    "            previous_loss = loss\n",
    "            e += 1\n",
    "    # get accu\n",
    "    network.eval()\n",
    "\n",
    "    with torch.no_grad():\n",
    "        output = network.forward(X_test)\n",
    "        pred = output.argmax(dim=1, keepdim=True)\n",
    "        # num_correct = torch.sum(pred == y_val)\n",
    "    \n",
    "    accuracy = accuracy_score(pred,y_test)*100.0\n",
    "    trial.report(accuracy, e)\n",
    "\n",
    "    return accuracy, confusion_matrix(pred,y_test), classification_report(pred,y_test,target_names=label_mapping.keys(),digits=4)"
   ]
  },
  {
   "cell_type": "code",
   "execution_count": null,
   "metadata": {},
   "outputs": [],
   "source": [
    "study.best_trial"
   ]
  },
  {
   "cell_type": "code",
   "execution_count": null,
   "metadata": {},
   "outputs": [],
   "source": [
    "accuracy , confusion_mat, classification_rep = test_trial(study.best_trial)\n",
    "disp = ConfusionMatrixDisplay(confusion_mat, display_labels = label_mapping)\n"
   ]
  },
  {
   "cell_type": "code",
   "execution_count": null,
   "metadata": {},
   "outputs": [],
   "source": [
    "disp.plot()\n",
    "plt.show()\n",
    "print(classification_rep)\n",
    "print(\"The accuracy of the neural network model is : \",accuracy,\"%\")"
   ]
  },
  {
   "cell_type": "markdown",
   "metadata": {},
   "source": [
    "The model struggled in predicting some of the \"T\" rated games as \"M\". "
   ]
  },
  {
   "cell_type": "markdown",
   "metadata": {},
   "source": [
    "<h5> Decision Tree "
   ]
  },
  {
   "cell_type": "code",
   "execution_count": null,
   "metadata": {
    "ExecuteTime": {
     "end_time": "2022-06-29T08:47:02.384939Z",
     "start_time": "2022-06-29T08:47:02.344213Z"
    }
   },
   "outputs": [],
   "source": [
    "\n",
    "dtc = DecisionTreeClassifier(random_state=42)"
   ]
  },
  {
   "cell_type": "code",
   "execution_count": null,
   "metadata": {
    "ExecuteTime": {
     "end_time": "2022-06-29T08:47:03.232951Z",
     "start_time": "2022-06-29T08:47:03.183229Z"
    }
   },
   "outputs": [],
   "source": [
    "dtc.fit(X_train, y_train)\n",
    "predictions_train = dtc.predict(X_train)"
   ]
  },
  {
   "cell_type": "code",
   "execution_count": null,
   "metadata": {
    "ExecuteTime": {
     "end_time": "2022-06-29T08:47:04.631528Z",
     "start_time": "2022-06-29T08:47:04.591373Z"
    }
   },
   "outputs": [],
   "source": [
    "\n",
    "def compute_accuracy(predictions, actual):\n",
    "    # write code here\n",
    "    return accuracy_score(actual, predictions) * 100"
   ]
  },
  {
   "cell_type": "code",
   "execution_count": null,
   "metadata": {
    "ExecuteTime": {
     "end_time": "2022-06-29T08:47:05.554950Z",
     "start_time": "2022-06-29T08:47:05.508248Z"
    }
   },
   "outputs": [],
   "source": [
    "print(\"Training accuracy: \", compute_accuracy(y_train, predictions_train),\"%\")"
   ]
  },
  {
   "cell_type": "code",
   "execution_count": null,
   "metadata": {
    "ExecuteTime": {
     "end_time": "2022-06-29T08:47:06.647736Z",
     "start_time": "2022-06-29T08:47:06.594846Z"
    }
   },
   "outputs": [],
   "source": [
    "predictions = dtc.predict(X_test)\n",
    "print(\"Testing accuracy: \", compute_accuracy(y_test, predictions),\"%\")"
   ]
  },
  {
   "cell_type": "markdown",
   "metadata": {},
   "source": [
    "<h5> Model Selection and hyperparameter tuning"
   ]
  },
  {
   "cell_type": "code",
   "execution_count": null,
   "metadata": {
    "ExecuteTime": {
     "end_time": "2022-06-29T08:54:05.722968Z",
     "start_time": "2022-06-29T08:54:05.680254Z"
    }
   },
   "outputs": [],
   "source": [
    "unique, counts = np.unique(y_train, return_counts=True)\n",
    "print(\"Training data label counts:\")\n",
    "print(np.array([unique, counts]))"
   ]
  },
  {
   "cell_type": "code",
   "execution_count": null,
   "metadata": {
    "ExecuteTime": {
     "end_time": "2022-06-29T09:33:41.417642Z",
     "start_time": "2022-06-29T09:33:41.368861Z"
    }
   },
   "outputs": [],
   "source": [
    "ratings = np.array(unique)"
   ]
  },
  {
   "cell_type": "code",
   "execution_count": null,
   "metadata": {
    "ExecuteTime": {
     "end_time": "2022-06-29T08:55:58.432794Z",
     "start_time": "2022-06-29T08:55:58.390203Z"
    }
   },
   "outputs": [],
   "source": [
    "dtc = DecisionTreeClassifier()"
   ]
  },
  {
   "cell_type": "code",
   "execution_count": null,
   "metadata": {
    "ExecuteTime": {
     "end_time": "2022-06-29T08:56:10.853722Z",
     "start_time": "2022-06-29T08:56:10.814063Z"
    }
   },
   "outputs": [],
   "source": [
    "hyperparameters = [\n",
    "    {\n",
    "        'criterion': ['gini', 'entropy'],\n",
    "        'max_depth': [ 5, 10, 20, 30],\n",
    "        'min_samples_split': [2, 4, 6, 10, 15, 20],\n",
    "        'max_leaf_nodes': [3, 5, 10, 20, 50, 100],\n",
    "    }\n",
    "]"
   ]
  },
  {
   "cell_type": "markdown",
   "metadata": {},
   "source": [
    "Create  `RandomizedSearchCV` object"
   ]
  },
  {
   "cell_type": "code",
   "execution_count": null,
   "metadata": {
    "ExecuteTime": {
     "end_time": "2022-06-29T08:57:38.908234Z",
     "start_time": "2022-06-29T08:57:38.859780Z"
    }
   },
   "outputs": [],
   "source": [
    "rsc_esrb = RandomizedSearchCV(dtc, n_iter=50, param_distributions=hyperparameters,cv=5,random_state=42)"
   ]
  },
  {
   "cell_type": "code",
   "execution_count": null,
   "metadata": {
    "ExecuteTime": {
     "end_time": "2022-06-29T08:58:12.725045Z",
     "start_time": "2022-06-29T08:58:12.024155Z"
    }
   },
   "outputs": [],
   "source": [
    "rsc_esrb.fit(X_train, y_train)"
   ]
  },
  {
   "cell_type": "markdown",
   "metadata": {},
   "source": [
    "Get the best parameters found from hyperparameter search"
   ]
  },
  {
   "cell_type": "code",
   "execution_count": null,
   "metadata": {
    "ExecuteTime": {
     "end_time": "2022-06-29T08:59:59.773467Z",
     "start_time": "2022-06-29T08:59:59.691938Z"
    }
   },
   "outputs": [],
   "source": [
    "pd.set_option('display.max_colwidth', None)\n",
    "\n",
    "rsc_results = pd.DataFrame(rsc_esrb.cv_results_)\n",
    "rsc_results"
   ]
  },
  {
   "cell_type": "code",
   "execution_count": null,
   "metadata": {
    "ExecuteTime": {
     "end_time": "2022-06-29T08:58:30.115321Z",
     "start_time": "2022-06-29T08:58:30.074589Z"
    }
   },
   "outputs": [],
   "source": [
    "rsc_esrb.best_params_"
   ]
  },
  {
   "cell_type": "markdown",
   "metadata": {},
   "source": [
    "Get the  best estimator index to in order to get the entry of the best performing model."
   ]
  },
  {
   "cell_type": "code",
   "execution_count": null,
   "metadata": {
    "ExecuteTime": {
     "end_time": "2022-06-29T09:01:22.323649Z",
     "start_time": "2022-06-29T09:01:22.273506Z"
    }
   },
   "outputs": [],
   "source": [
    "best_index = rsc_esrb.best_index_\n",
    "best_index"
   ]
  },
  {
   "cell_type": "code",
   "execution_count": null,
   "metadata": {
    "ExecuteTime": {
     "end_time": "2022-06-29T09:01:40.227197Z",
     "start_time": "2022-06-29T09:01:40.180193Z"
    },
    "scrolled": true
   },
   "outputs": [],
   "source": [
    "rsc_results.loc[best_index]"
   ]
  },
  {
   "cell_type": "markdown",
   "metadata": {},
   "source": [
    "Get the best estimator"
   ]
  },
  {
   "cell_type": "code",
   "execution_count": null,
   "metadata": {
    "ExecuteTime": {
     "end_time": "2022-06-29T09:02:30.190064Z",
     "start_time": "2022-06-29T09:02:30.147355Z"
    }
   },
   "outputs": [],
   "source": [
    "rsc_esrb.best_estimator_"
   ]
  },
  {
   "cell_type": "code",
   "execution_count": null,
   "metadata": {
    "ExecuteTime": {
     "end_time": "2022-06-29T09:06:05.691831Z",
     "start_time": "2022-06-29T09:06:05.640675Z"
    }
   },
   "outputs": [],
   "source": [
    "dtc = rsc_esrb.best_estimator_\n",
    "dtc.fit(X_train,y_train)"
   ]
  },
  {
   "cell_type": "code",
   "execution_count": null,
   "metadata": {
    "ExecuteTime": {
     "end_time": "2022-06-29T09:06:06.999602Z",
     "start_time": "2022-06-29T09:06:06.952402Z"
    }
   },
   "outputs": [],
   "source": [
    "predictions = dtc.predict(X_test)\n",
    "print(\"Test accuracy is : \", compute_accuracy(predictions, y_test), \"%\")"
   ]
  },
  {
   "cell_type": "code",
   "execution_count": null,
   "metadata": {
    "ExecuteTime": {
     "end_time": "2022-06-29T09:45:58.305728Z",
     "start_time": "2022-06-29T09:45:58.252089Z"
    }
   },
   "outputs": [],
   "source": [
    "print(classification_report(y_test, predictions,target_names=label_mapping.keys(),digits=4))\n"
   ]
  },
  {
   "cell_type": "code",
   "execution_count": null,
   "metadata": {
    "ExecuteTime": {
     "end_time": "2022-06-29T09:54:16.922847Z",
     "start_time": "2022-06-29T09:54:16.778097Z"
    },
    "scrolled": true
   },
   "outputs": [],
   "source": [
    "cm = confusion_matrix(y_test, predictions, labels=ratings)\n",
    "display = ConfusionMatrixDisplay(confusion_matrix=cm, display_labels=label_mapping.keys())\n",
    "fig, ax = plt.subplots(figsize=(10,10))\n",
    "display.plot(ax=ax)"
   ]
  },
  {
   "cell_type": "markdown",
   "metadata": {},
   "source": [
    "<h5> Insights and conclusion"
   ]
  },
  {
   "cell_type": "markdown",
   "metadata": {},
   "source": []
  },
  {
   "cell_type": "code",
   "execution_count": null,
   "metadata": {},
   "outputs": [],
   "source": []
  }
 ],
 "metadata": {
  "kernelspec": {
   "display_name": "Python 3",
   "language": "python",
   "name": "python3"
  },
  "language_info": {
   "codemirror_mode": {
    "name": "ipython",
    "version": 3
   },
   "file_extension": ".py",
   "mimetype": "text/x-python",
   "name": "python",
   "nbconvert_exporter": "python",
   "pygments_lexer": "ipython3",
   "version": "3.8.8"
  },
  "toc": {
   "base_numbering": 1,
   "nav_menu": {},
   "number_sections": true,
   "sideBar": true,
   "skip_h1_title": false,
   "title_cell": "Table of Contents",
   "title_sidebar": "Contents",
   "toc_cell": false,
   "toc_position": {},
   "toc_section_display": true,
   "toc_window_display": true
  },
  "varInspector": {
   "cols": {
    "lenName": 16,
    "lenType": 16,
    "lenVar": 40
   },
   "kernels_config": {
    "python": {
     "delete_cmd_postfix": "",
     "delete_cmd_prefix": "del ",
     "library": "var_list.py",
     "varRefreshCmd": "print(var_dic_list())"
    },
    "r": {
     "delete_cmd_postfix": ") ",
     "delete_cmd_prefix": "rm(",
     "library": "var_list.r",
     "varRefreshCmd": "cat(var_dic_list()) "
    }
   },
   "types_to_exclude": [
    "module",
    "function",
    "builtin_function_or_method",
    "instance",
    "_Feature"
   ],
   "window_display": false
  },
  "vscode": {
   "interpreter": {
    "hash": "91bb753b057673435fb8d6f6a083e6c818364728098c7ae050ca3a25357dd754"
   }
  }
 },
 "nbformat": 4,
 "nbformat_minor": 2
}
